{
 "cells": [
  {
   "cell_type": "code",
   "execution_count": 1,
   "metadata": {},
   "outputs": [
    {
     "ename": "ModuleNotFoundError",
     "evalue": "No module named 'fancyimpute'",
     "output_type": "error",
     "traceback": [
      "\u001b[1;31m---------------------------------------------------------------------------\u001b[0m",
      "\u001b[1;31mModuleNotFoundError\u001b[0m                       Traceback (most recent call last)",
      "\u001b[1;32m<ipython-input-1-1cee96e051da>\u001b[0m in \u001b[0;36m<module>\u001b[1;34m\u001b[0m\n\u001b[0;32m      8\u001b[0m \u001b[1;32mimport\u001b[0m \u001b[0mmatplotlib\u001b[0m\u001b[1;33m.\u001b[0m\u001b[0mpyplot\u001b[0m \u001b[1;32mas\u001b[0m \u001b[0mplt\u001b[0m\u001b[1;33m\u001b[0m\u001b[1;33m\u001b[0m\u001b[0m\n\u001b[0;32m      9\u001b[0m \u001b[1;32mimport\u001b[0m \u001b[0mscipy\u001b[0m\u001b[1;33m.\u001b[0m\u001b[0mstats\u001b[0m \u001b[1;32mas\u001b[0m \u001b[0mstats\u001b[0m\u001b[1;33m\u001b[0m\u001b[1;33m\u001b[0m\u001b[0m\n\u001b[1;32m---> 10\u001b[1;33m \u001b[1;32mimport\u001b[0m \u001b[0mfancyimpute\u001b[0m\u001b[1;33m\u001b[0m\u001b[1;33m\u001b[0m\u001b[0m\n\u001b[0m\u001b[0;32m     11\u001b[0m \u001b[1;32mfrom\u001b[0m \u001b[0mfancyimpute\u001b[0m \u001b[1;32mimport\u001b[0m \u001b[0mKNN\u001b[0m\u001b[1;33m\u001b[0m\u001b[1;33m\u001b[0m\u001b[0m\n\u001b[0;32m     12\u001b[0m \u001b[1;32mimport\u001b[0m \u001b[0mwarnings\u001b[0m\u001b[1;33m\u001b[0m\u001b[1;33m\u001b[0m\u001b[0m\n",
      "\u001b[1;31mModuleNotFoundError\u001b[0m: No module named 'fancyimpute'"
     ]
    }
   ],
   "source": [
    "# LOAD THE REQUIRED LIBRARIES \n",
    "\n",
    "import os\n",
    "import pandas as pd\n",
    "import numpy as np\n",
    "import matplotlib.pyplot as plt\n",
    "import seaborn as sns\n",
    "import matplotlib.pyplot as plt\n",
    "import scipy.stats as stats\n",
    "import fancyimpute\n",
    "from fancyimpute import KNN\n",
    "import warnings\n",
    "warnings.filterwarnings('ignore')\n",
    "from scipy.stats import chi2_contingency\n",
    "import statsmodels.api as sm\n",
    "from statsmodels.formula.api import ols\n",
    "from patsy import dmatrices\n",
    "from statsmodels.stats.outliers_influence import variance_inflation_factor\n",
    "from xgboost import XGBRegressor\n",
    "import xgboost as xgb"
   ]
  },
  {
   "cell_type": "code",
   "execution_count": 2,
   "metadata": {},
   "outputs": [
    {
     "ename": "ModuleNotFoundError",
     "evalue": "No module named 'fancyimpute'",
     "output_type": "error",
     "traceback": [
      "\u001b[1;31m---------------------------------------------------------------------------\u001b[0m",
      "\u001b[1;31mModuleNotFoundError\u001b[0m                       Traceback (most recent call last)",
      "\u001b[1;32m<ipython-input-2-bd28957c7de0>\u001b[0m in \u001b[0;36m<module>\u001b[1;34m\u001b[0m\n\u001b[0;32m      6\u001b[0m \u001b[1;32mimport\u001b[0m \u001b[0mmatplotlib\u001b[0m\u001b[1;33m.\u001b[0m\u001b[0mpyplot\u001b[0m \u001b[1;32mas\u001b[0m \u001b[0mplt\u001b[0m\u001b[1;33m\u001b[0m\u001b[1;33m\u001b[0m\u001b[0m\n\u001b[0;32m      7\u001b[0m \u001b[1;32mimport\u001b[0m \u001b[0mscipy\u001b[0m\u001b[1;33m.\u001b[0m\u001b[0mstats\u001b[0m \u001b[1;32mas\u001b[0m \u001b[0mstats\u001b[0m\u001b[1;33m\u001b[0m\u001b[1;33m\u001b[0m\u001b[0m\n\u001b[1;32m----> 8\u001b[1;33m \u001b[1;32mfrom\u001b[0m \u001b[0mfancyimpute\u001b[0m \u001b[1;32mimport\u001b[0m \u001b[0mKNN\u001b[0m\u001b[1;33m\u001b[0m\u001b[1;33m\u001b[0m\u001b[0m\n\u001b[0m\u001b[0;32m      9\u001b[0m \u001b[1;32mimport\u001b[0m \u001b[0mwarnings\u001b[0m\u001b[1;33m\u001b[0m\u001b[1;33m\u001b[0m\u001b[0m\n\u001b[0;32m     10\u001b[0m \u001b[0mwarnings\u001b[0m\u001b[1;33m.\u001b[0m\u001b[0mfilterwarnings\u001b[0m\u001b[1;33m(\u001b[0m\u001b[1;34m'ignore'\u001b[0m\u001b[1;33m)\u001b[0m\u001b[1;33m\u001b[0m\u001b[1;33m\u001b[0m\u001b[0m\n",
      "\u001b[1;31mModuleNotFoundError\u001b[0m: No module named 'fancyimpute'"
     ]
    }
   ],
   "source": [
    "import os\n",
    "import pandas as pd\n",
    "import numpy as np\n",
    "import matplotlib.pyplot as plt\n",
    "import seaborn as sns\n",
    "import matplotlib.pyplot as plt\n",
    "import scipy.stats as stats\n",
    "from fancyimpute import KNN\n",
    "import warnings\n",
    "warnings.filterwarnings('ignore')\n",
    "from geopy.distance import geodesic\n",
    "from geopy.distance import great_circle\n",
    "from scipy.stats import chi2_contingency\n",
    "import statsmodels.api as sm\n",
    "from statsmodels.formula.api import ols\n",
    "from patsy import dmatrices\n",
    "from statsmodels.stats.outliers_influence import variance_inflation_factor\n",
    "from sklearn.model_selection import train_test_split\n",
    "from sklearn.metrics import mean_squared_error\n",
    "from sklearn import metrics\n",
    "from sklearn.linear_model import LinearRegression,Ridge,Lasso\n",
    "from sklearn.model_selection import GridSearchCV\n",
    "from sklearn.model_selection import RandomizedSearchCV\n",
    "from sklearn.model_selection import cross_val_score\n",
    "from sklearn.ensemble import RandomForestRegressor\n",
    "from sklearn.tree import DecisionTreeRegressor\n",
    "from xgboost import XGBRegressor\n",
    "import xgboost as xgb\n",
    "from sklearn.externals import joblib"
   ]
  },
  {
   "cell_type": "code",
   "execution_count": 3,
   "metadata": {},
   "outputs": [],
   "source": [
    "#!pip install fancyimpute"
   ]
  },
  {
   "cell_type": "code",
   "execution_count": 4,
   "metadata": {},
   "outputs": [],
   "source": [
    "import platform "
   ]
  },
  {
   "cell_type": "code",
   "execution_count": 5,
   "metadata": {},
   "outputs": [
    {
     "name": "stdout",
     "output_type": "stream",
     "text": [
      "3.7.4\n"
     ]
    }
   ],
   "source": [
    "print(platform.python_version())"
   ]
  },
  {
   "cell_type": "code",
   "execution_count": 3,
   "metadata": {},
   "outputs": [
    {
     "name": "stderr",
     "output_type": "stream",
     "text": [
      "C:\\Users\\Deepak\\Anaconda3\\lib\\site-packages\\sklearn\\externals\\joblib\\__init__.py:15: DeprecationWarning: sklearn.externals.joblib is deprecated in 0.21 and will be removed in 0.23. Please import this functionality directly from joblib, which can be installed with: pip install joblib. If this warning is raised when loading pickled models, you may need to re-serialize those models with scikit-learn 0.21+.\n",
      "  warnings.warn(msg, category=DeprecationWarning)\n"
     ]
    }
   ],
   "source": [
    "from sklearn.model_selection import train_test_split\n",
    "from sklearn.metrics import mean_squared_error\n",
    "from sklearn import metrics\n",
    "from sklearn.linear_model import LinearRegression,Ridge,Lasso\n",
    "from sklearn.model_selection import GridSearchCV\n",
    "from sklearn.model_selection import RandomizedSearchCV\n",
    "from sklearn.model_selection import cross_val_score\n",
    "from sklearn.ensemble import RandomForestRegressor\n",
    "from sklearn.tree import DecisionTreeRegressor\n",
    "from sklearn.externals import joblib"
   ]
  },
  {
   "cell_type": "code",
   "execution_count": 4,
   "metadata": {},
   "outputs": [
    {
     "ename": "ModuleNotFoundError",
     "evalue": "No module named 'geopy'",
     "output_type": "error",
     "traceback": [
      "\u001b[1;31m---------------------------------------------------------------------------\u001b[0m",
      "\u001b[1;31mModuleNotFoundError\u001b[0m                       Traceback (most recent call last)",
      "\u001b[1;32m<ipython-input-4-1ea0f3768d71>\u001b[0m in \u001b[0;36m<module>\u001b[1;34m\u001b[0m\n\u001b[1;32m----> 1\u001b[1;33m \u001b[1;32mfrom\u001b[0m \u001b[0mgeopy\u001b[0m\u001b[1;33m.\u001b[0m\u001b[0mdistance\u001b[0m \u001b[1;32mimport\u001b[0m \u001b[0mgeodesic\u001b[0m\u001b[1;33m\u001b[0m\u001b[1;33m\u001b[0m\u001b[0m\n\u001b[0m\u001b[0;32m      2\u001b[0m \u001b[1;32mfrom\u001b[0m \u001b[0mgeopy\u001b[0m\u001b[1;33m.\u001b[0m\u001b[0mdistance\u001b[0m \u001b[1;32mimport\u001b[0m \u001b[0mgreat_circle\u001b[0m\u001b[1;33m\u001b[0m\u001b[1;33m\u001b[0m\u001b[0m\n",
      "\u001b[1;31mModuleNotFoundError\u001b[0m: No module named 'geopy'"
     ]
    }
   ],
   "source": [
    "from geopy.distance import geodesic\n",
    "from geopy.distance import great_circle"
   ]
  },
  {
   "cell_type": "code",
   "execution_count": 5,
   "metadata": {
    "scrolled": true
   },
   "outputs": [],
   "source": [
    "##Load the  data into python environment\n",
    "#training=pd.read_csv(\"train_cab.csv\")\n",
    "training = pd.read_csv('train_cab.csv',dtype={'fare_amount':np.float64},na_values={'fare_amount':'430-'})\n",
    "testing=pd.read_csv(\"test.csv\")\n",
    "car_data=[training,testing]\n"
   ]
  },
  {
   "cell_type": "code",
   "execution_count": 6,
   "metadata": {},
   "outputs": [
    {
     "data": {
      "text/plain": [
       "(16067, 7)"
      ]
     },
     "execution_count": 6,
     "metadata": {},
     "output_type": "execute_result"
    }
   ],
   "source": [
    "training.shape"
   ]
  },
  {
   "cell_type": "code",
   "execution_count": 7,
   "metadata": {},
   "outputs": [
    {
     "data": {
      "text/plain": [
       "(9914, 6)"
      ]
     },
     "execution_count": 7,
     "metadata": {},
     "output_type": "execute_result"
    }
   ],
   "source": [
    "testing.shape"
   ]
  },
  {
   "cell_type": "code",
   "execution_count": 8,
   "metadata": {},
   "outputs": [],
   "source": [
    "for i in car_data:\n",
    "    i['pickup_datetime']  = pd.to_datetime(i['pickup_datetime'],errors='coerce')"
   ]
  },
  {
   "cell_type": "code",
   "execution_count": 9,
   "metadata": {},
   "outputs": [],
   "source": [
    "categorical_pass=['passenger_count']\n"
   ]
  },
  {
   "cell_type": "code",
   "execution_count": 10,
   "metadata": {},
   "outputs": [
    {
     "data": {
      "text/plain": [
       "['passenger_count']"
      ]
     },
     "execution_count": 10,
     "metadata": {},
     "output_type": "execute_result"
    }
   ],
   "source": [
    "categorical_pass"
   ]
  },
  {
   "cell_type": "code",
   "execution_count": 11,
   "metadata": {},
   "outputs": [],
   "source": [
    "numerical_var=['fare_amount','pickup_longitude','pickup_latitude','dropoff_longitude','dropoff_latitude']"
   ]
  },
  {
   "cell_type": "code",
   "execution_count": 12,
   "metadata": {},
   "outputs": [
    {
     "data": {
      "text/plain": [
       "['fare_amount',\n",
       " 'pickup_longitude',\n",
       " 'pickup_latitude',\n",
       " 'dropoff_longitude',\n",
       " 'dropoff_latitude']"
      ]
     },
     "execution_count": 12,
     "metadata": {},
     "output_type": "execute_result"
    }
   ],
   "source": [
    "numerical_var"
   ]
  },
  {
   "cell_type": "code",
   "execution_count": 13,
   "metadata": {},
   "outputs": [
    {
     "name": "stderr",
     "output_type": "stream",
     "text": [
      "C:\\Users\\Deepak\\Anaconda3\\lib\\site-packages\\numpy\\lib\\histograms.py:824: RuntimeWarning: invalid value encountered in greater_equal\n",
      "  keep = (tmp_a >= first_edge)\n",
      "C:\\Users\\Deepak\\Anaconda3\\lib\\site-packages\\numpy\\lib\\histograms.py:825: RuntimeWarning: invalid value encountered in less_equal\n",
      "  keep &= (tmp_a <= last_edge)\n",
      "C:\\Users\\Deepak\\Anaconda3\\lib\\site-packages\\statsmodels\\nonparametric\\kde.py:447: RuntimeWarning: invalid value encountered in greater\n",
      "  X = X[np.logical_and(X > clip[0], X < clip[1])] # won't work for two columns.\n",
      "C:\\Users\\Deepak\\Anaconda3\\lib\\site-packages\\statsmodels\\nonparametric\\kde.py:447: RuntimeWarning: invalid value encountered in less\n",
      "  X = X[np.logical_and(X > clip[0], X < clip[1])] # won't work for two columns.\n"
     ]
    },
    {
     "data": {
      "image/png": "[encoded data removed]",
      "text/plain": [
       "<Figure size 432x288 with 1 Axes>"
      ]
     },
     "metadata": {
      "needs_background": "light"
     },
     "output_type": "display_data"
    }
   ],
   "source": [
    "plot_fa = sns.distplot(training['fare_amount'],bins=50)"
   ]
  },
  {
   "cell_type": "code",
   "execution_count": 14,
   "metadata": {},
   "outputs": [
    {
     "data": {
      "image/png": "[encoded data removed]",
      "text/plain": [
       "<Figure size 432x288 with 1 Axes>"
      ]
     },
     "metadata": {
      "needs_background": "light"
     },
     "output_type": "display_data"
    }
   ],
   "source": [
    "plot_drop_lat1= sns.distplot(training['dropoff_latitude'],bins=50)"
   ]
  },
  {
   "cell_type": "code",
   "execution_count": 15,
   "metadata": {},
   "outputs": [
    {
     "data": {
      "image/png": "[encoded data removed]",
      "text/plain": [
       "<Figure size 432x288 with 1 Axes>"
      ]
     },
     "metadata": {
      "needs_background": "light"
     },
     "output_type": "display_data"
    }
   ],
   "source": [
    "plot_drop_long1= sns.distplot(training['dropoff_longitude'],bins=50)"
   ]
  },
  {
   "cell_type": "code",
   "execution_count": 16,
   "metadata": {},
   "outputs": [
    {
     "data": {
      "image/png": "[encoded data removed]",
      "text/plain": [
       "<Figure size 432x288 with 1 Axes>"
      ]
     },
     "metadata": {
      "needs_background": "light"
     },
     "output_type": "display_data"
    }
   ],
   "source": [
    "plot_pick_long1=sns.distplot(training['pickup_longitude'],bins=50)"
   ]
  },
  {
   "cell_type": "code",
   "execution_count": 17,
   "metadata": {},
   "outputs": [
    {
     "data": {
      "text/plain": [
       "<matplotlib.axes._subplots.AxesSubplot at 0x16ea6bb1c48>"
      ]
     },
     "execution_count": 17,
     "metadata": {},
     "output_type": "execute_result"
    },
    {
     "data": {
      "image/png": "[encoded data removed]",
      "text/plain": [
       "<Figure size 432x288 with 1 Axes>"
      ]
     },
     "metadata": {
      "needs_background": "light"
     },
     "output_type": "display_data"
    }
   ],
   "source": [
    " sns.distplot(training['pickup_latitude'],bins=50)"
   ]
  },
  {
   "cell_type": "code",
   "execution_count": 18,
   "metadata": {},
   "outputs": [
    {
     "data": {
      "text/plain": [
       "5"
      ]
     },
     "execution_count": 18,
     "metadata": {},
     "output_type": "execute_result"
    }
   ],
   "source": [
    "sum(training['fare_amount']<1)"
   ]
  },
  {
   "cell_type": "code",
   "execution_count": 19,
   "metadata": {},
   "outputs": [
    {
     "data": {
      "text/html": [
       "<div>\n",
       "<style scoped>\n",
       "    .dataframe tbody tr th:only-of-type {\n",
       "        vertical-align: middle;\n",
       "    }\n",
       "\n",
       "    .dataframe tbody tr th {\n",
       "        vertical-align: top;\n",
       "    }\n",
       "\n",
       "    .dataframe thead th {\n",
       "        text-align: right;\n",
       "    }\n",
       "</style>\n",
       "<table border=\"1\" class=\"dataframe\">\n",
       "  <thead>\n",
       "    <tr style=\"text-align: right;\">\n",
       "      <th></th>\n",
       "      <th>fare_amount</th>\n",
       "      <th>pickup_datetime</th>\n",
       "      <th>pickup_longitude</th>\n",
       "      <th>pickup_latitude</th>\n",
       "      <th>dropoff_longitude</th>\n",
       "      <th>dropoff_latitude</th>\n",
       "      <th>passenger_count</th>\n",
       "    </tr>\n",
       "  </thead>\n",
       "  <tbody>\n",
       "    <tr>\n",
       "      <td>2039</td>\n",
       "      <td>-2.90</td>\n",
       "      <td>2010-03-09 23:37:10+00:00</td>\n",
       "      <td>-73.789450</td>\n",
       "      <td>40.643498</td>\n",
       "      <td>-73.788665</td>\n",
       "      <td>40.641952</td>\n",
       "      <td>1.0</td>\n",
       "    </tr>\n",
       "    <tr>\n",
       "      <td>2486</td>\n",
       "      <td>-2.50</td>\n",
       "      <td>2015-03-22 05:14:27+00:00</td>\n",
       "      <td>-74.000031</td>\n",
       "      <td>40.720631</td>\n",
       "      <td>-73.999809</td>\n",
       "      <td>40.720539</td>\n",
       "      <td>1.0</td>\n",
       "    </tr>\n",
       "    <tr>\n",
       "      <td>2780</td>\n",
       "      <td>0.01</td>\n",
       "      <td>2015-05-01 15:38:41+00:00</td>\n",
       "      <td>-73.939041</td>\n",
       "      <td>40.713963</td>\n",
       "      <td>-73.941673</td>\n",
       "      <td>40.713997</td>\n",
       "      <td>1.0</td>\n",
       "    </tr>\n",
       "    <tr>\n",
       "      <td>10002</td>\n",
       "      <td>0.00</td>\n",
       "      <td>2010-02-15 14:26:01+00:00</td>\n",
       "      <td>-73.987115</td>\n",
       "      <td>40.738808</td>\n",
       "      <td>-74.005911</td>\n",
       "      <td>40.713960</td>\n",
       "      <td>1.0</td>\n",
       "    </tr>\n",
       "    <tr>\n",
       "      <td>13032</td>\n",
       "      <td>-3.00</td>\n",
       "      <td>2013-08-30 08:57:10+00:00</td>\n",
       "      <td>-73.995062</td>\n",
       "      <td>40.740755</td>\n",
       "      <td>-73.995885</td>\n",
       "      <td>40.741357</td>\n",
       "      <td>4.0</td>\n",
       "    </tr>\n",
       "  </tbody>\n",
       "</table>\n",
       "</div>"
      ],
      "text/plain": [
       "       fare_amount           pickup_datetime  pickup_longitude  \\\n",
       "2039         -2.90 2010-03-09 23:37:10+00:00        -73.789450   \n",
       "2486         -2.50 2015-03-22 05:14:27+00:00        -74.000031   \n",
       "2780          0.01 2015-05-01 15:38:41+00:00        -73.939041   \n",
       "10002         0.00 2010-02-15 14:26:01+00:00        -73.987115   \n",
       "13032        -3.00 2013-08-30 08:57:10+00:00        -73.995062   \n",
       "\n",
       "       pickup_latitude  dropoff_longitude  dropoff_latitude  passenger_count  \n",
       "2039         40.643498         -73.788665         40.641952              1.0  \n",
       "2486         40.720631         -73.999809         40.720539              1.0  \n",
       "2780         40.713963         -73.941673         40.713997              1.0  \n",
       "10002        40.738808         -74.005911         40.713960              1.0  \n",
       "13032        40.740755         -73.995885         40.741357              4.0  "
      ]
     },
     "execution_count": 19,
     "metadata": {},
     "output_type": "execute_result"
    }
   ],
   "source": [
    "training[training['fare_amount']<1]"
   ]
  },
  {
   "cell_type": "code",
   "execution_count": 20,
   "metadata": {},
   "outputs": [],
   "source": [
    "training = training.drop(training[training['fare_amount']<1].index, axis=0)"
   ]
  },
  {
   "cell_type": "code",
   "execution_count": 21,
   "metadata": {},
   "outputs": [],
   "source": [
    "for i in range(4,11):\n",
    "    sum(training['passenger_count']>i)"
   ]
  },
  {
   "cell_type": "code",
   "execution_count": 22,
   "metadata": {},
   "outputs": [
    {
     "data": {
      "text/plain": [
       "20"
      ]
     },
     "execution_count": 22,
     "metadata": {},
     "output_type": "execute_result"
    }
   ],
   "source": [
    "sum(training['passenger_count']>i)"
   ]
  },
  {
   "cell_type": "code",
   "execution_count": 23,
   "metadata": {},
   "outputs": [
    {
     "name": "stdout",
     "output_type": "stream",
     "text": [
      "PASSENGER COUNT MORE THAN 4 ARE: 1367\n",
      "PASSENGER COUNT MORE THAN 5 ARE: 322\n",
      "PASSENGER COUNT MORE THAN 6 ARE: 20\n",
      "PASSENGER COUNT MORE THAN 7 ARE: 20\n",
      "PASSENGER COUNT MORE THAN 8 ARE: 20\n",
      "PASSENGER COUNT MORE THAN 9 ARE: 20\n",
      "PASSENGER COUNT MORE THAN 10 ARE: 20\n"
     ]
    }
   ],
   "source": [
    "for i in range(4,11):\n",
    "    print('PASSENGER COUNT MORE THAN '  +str(i)+' ARE: {}'.format(sum(training['passenger_count']>i)))"
   ]
  },
  {
   "cell_type": "code",
   "execution_count": 24,
   "metadata": {},
   "outputs": [
    {
     "data": {
      "text/html": [
       "<div>\n",
       "<style scoped>\n",
       "    .dataframe tbody tr th:only-of-type {\n",
       "        vertical-align: middle;\n",
       "    }\n",
       "\n",
       "    .dataframe tbody tr th {\n",
       "        vertical-align: top;\n",
       "    }\n",
       "\n",
       "    .dataframe thead th {\n",
       "        text-align: right;\n",
       "    }\n",
       "</style>\n",
       "<table border=\"1\" class=\"dataframe\">\n",
       "  <thead>\n",
       "    <tr style=\"text-align: right;\">\n",
       "      <th></th>\n",
       "      <th>fare_amount</th>\n",
       "      <th>pickup_datetime</th>\n",
       "      <th>pickup_longitude</th>\n",
       "      <th>pickup_latitude</th>\n",
       "      <th>dropoff_longitude</th>\n",
       "      <th>dropoff_latitude</th>\n",
       "      <th>passenger_count</th>\n",
       "    </tr>\n",
       "  </thead>\n",
       "  <tbody>\n",
       "    <tr>\n",
       "      <td>233</td>\n",
       "      <td>8.5</td>\n",
       "      <td>2011-07-24 01:14:35+00:00</td>\n",
       "      <td>0.000000</td>\n",
       "      <td>0.000000</td>\n",
       "      <td>0.000000</td>\n",
       "      <td>0.000000</td>\n",
       "      <td>236.0</td>\n",
       "    </tr>\n",
       "    <tr>\n",
       "      <td>263</td>\n",
       "      <td>4.9</td>\n",
       "      <td>2010-07-12 09:44:33+00:00</td>\n",
       "      <td>-73.983249</td>\n",
       "      <td>40.734655</td>\n",
       "      <td>-73.991278</td>\n",
       "      <td>40.738918</td>\n",
       "      <td>456.0</td>\n",
       "    </tr>\n",
       "    <tr>\n",
       "      <td>293</td>\n",
       "      <td>6.1</td>\n",
       "      <td>2011-01-18 23:48:00+00:00</td>\n",
       "      <td>-74.006642</td>\n",
       "      <td>40.738927</td>\n",
       "      <td>-74.010828</td>\n",
       "      <td>40.717907</td>\n",
       "      <td>5334.0</td>\n",
       "    </tr>\n",
       "    <tr>\n",
       "      <td>356</td>\n",
       "      <td>8.5</td>\n",
       "      <td>2013-06-18 10:27:05+00:00</td>\n",
       "      <td>-73.992108</td>\n",
       "      <td>40.764203</td>\n",
       "      <td>-73.973000</td>\n",
       "      <td>40.762695</td>\n",
       "      <td>535.0</td>\n",
       "    </tr>\n",
       "    <tr>\n",
       "      <td>386</td>\n",
       "      <td>8.1</td>\n",
       "      <td>2009-08-21 19:35:05+00:00</td>\n",
       "      <td>-73.960853</td>\n",
       "      <td>40.761557</td>\n",
       "      <td>-73.976335</td>\n",
       "      <td>40.748361</td>\n",
       "      <td>354.0</td>\n",
       "    </tr>\n",
       "    <tr>\n",
       "      <td>413</td>\n",
       "      <td>NaN</td>\n",
       "      <td>2013-09-12 11:32:00+00:00</td>\n",
       "      <td>-73.982060</td>\n",
       "      <td>40.772705</td>\n",
       "      <td>-73.956213</td>\n",
       "      <td>40.771777</td>\n",
       "      <td>55.0</td>\n",
       "    </tr>\n",
       "    <tr>\n",
       "      <td>971</td>\n",
       "      <td>10.1</td>\n",
       "      <td>2010-11-21 01:41:00+00:00</td>\n",
       "      <td>-74.004500</td>\n",
       "      <td>40.742143</td>\n",
       "      <td>-73.994330</td>\n",
       "      <td>40.720412</td>\n",
       "      <td>554.0</td>\n",
       "    </tr>\n",
       "    <tr>\n",
       "      <td>1007</td>\n",
       "      <td>3.7</td>\n",
       "      <td>2010-12-14 14:46:00+00:00</td>\n",
       "      <td>-73.969157</td>\n",
       "      <td>40.759000</td>\n",
       "      <td>-73.968763</td>\n",
       "      <td>40.764617</td>\n",
       "      <td>53.0</td>\n",
       "    </tr>\n",
       "    <tr>\n",
       "      <td>1043</td>\n",
       "      <td>5.7</td>\n",
       "      <td>2012-08-22 22:08:29+00:00</td>\n",
       "      <td>-73.973573</td>\n",
       "      <td>40.760184</td>\n",
       "      <td>-73.953564</td>\n",
       "      <td>40.767392</td>\n",
       "      <td>35.0</td>\n",
       "    </tr>\n",
       "    <tr>\n",
       "      <td>1107</td>\n",
       "      <td>4.9</td>\n",
       "      <td>2009-08-08 21:50:50+00:00</td>\n",
       "      <td>-73.988977</td>\n",
       "      <td>40.721068</td>\n",
       "      <td>-73.982368</td>\n",
       "      <td>40.732064</td>\n",
       "      <td>345.0</td>\n",
       "    </tr>\n",
       "    <tr>\n",
       "      <td>1146</td>\n",
       "      <td>8.0</td>\n",
       "      <td>2014-03-27 08:05:01+00:00</td>\n",
       "      <td>-73.991098</td>\n",
       "      <td>40.770655</td>\n",
       "      <td>-73.976933</td>\n",
       "      <td>40.790070</td>\n",
       "      <td>5345.0</td>\n",
       "    </tr>\n",
       "    <tr>\n",
       "      <td>1200</td>\n",
       "      <td>9.7</td>\n",
       "      <td>2011-08-16 09:29:00+00:00</td>\n",
       "      <td>-73.980487</td>\n",
       "      <td>40.741610</td>\n",
       "      <td>-73.980617</td>\n",
       "      <td>40.746868</td>\n",
       "      <td>536.0</td>\n",
       "    </tr>\n",
       "    <tr>\n",
       "      <td>1242</td>\n",
       "      <td>5.3</td>\n",
       "      <td>2011-10-16 00:22:00+00:00</td>\n",
       "      <td>-73.981095</td>\n",
       "      <td>40.738160</td>\n",
       "      <td>-73.990587</td>\n",
       "      <td>40.740105</td>\n",
       "      <td>43.0</td>\n",
       "    </tr>\n",
       "    <tr>\n",
       "      <td>8406</td>\n",
       "      <td>6.9</td>\n",
       "      <td>2010-08-25 11:41:00+00:00</td>\n",
       "      <td>0.000000</td>\n",
       "      <td>0.000000</td>\n",
       "      <td>0.000000</td>\n",
       "      <td>0.000000</td>\n",
       "      <td>53.0</td>\n",
       "    </tr>\n",
       "    <tr>\n",
       "      <td>8445</td>\n",
       "      <td>5.7</td>\n",
       "      <td>2009-03-28 22:00:00+00:00</td>\n",
       "      <td>-73.982413</td>\n",
       "      <td>40.751320</td>\n",
       "      <td>-73.971292</td>\n",
       "      <td>40.748502</td>\n",
       "      <td>58.0</td>\n",
       "    </tr>\n",
       "    <tr>\n",
       "      <td>8506</td>\n",
       "      <td>11.3</td>\n",
       "      <td>2010-05-23 20:06:37+00:00</td>\n",
       "      <td>-73.985424</td>\n",
       "      <td>40.738468</td>\n",
       "      <td>-74.001698</td>\n",
       "      <td>40.707758</td>\n",
       "      <td>537.0</td>\n",
       "    </tr>\n",
       "    <tr>\n",
       "      <td>8571</td>\n",
       "      <td>12.5</td>\n",
       "      <td>2011-12-03 03:21:00+00:00</td>\n",
       "      <td>-73.993718</td>\n",
       "      <td>40.762039</td>\n",
       "      <td>-73.977527</td>\n",
       "      <td>40.734024</td>\n",
       "      <td>87.0</td>\n",
       "    </tr>\n",
       "    <tr>\n",
       "      <td>8631</td>\n",
       "      <td>20.0</td>\n",
       "      <td>2012-12-10 22:28:00+00:00</td>\n",
       "      <td>-73.955445</td>\n",
       "      <td>40.670232</td>\n",
       "      <td>-74.004795</td>\n",
       "      <td>40.731477</td>\n",
       "      <td>43.0</td>\n",
       "    </tr>\n",
       "    <tr>\n",
       "      <td>8715</td>\n",
       "      <td>4.5</td>\n",
       "      <td>2009-09-04 09:14:03+00:00</td>\n",
       "      <td>-73.977518</td>\n",
       "      <td>40.758480</td>\n",
       "      <td>-73.983252</td>\n",
       "      <td>40.749837</td>\n",
       "      <td>531.2</td>\n",
       "    </tr>\n",
       "    <tr>\n",
       "      <td>8985</td>\n",
       "      <td>8.5</td>\n",
       "      <td>2015-01-14 15:10:21+00:00</td>\n",
       "      <td>-73.955444</td>\n",
       "      <td>40.787605</td>\n",
       "      <td>-73.965561</td>\n",
       "      <td>40.798691</td>\n",
       "      <td>557.0</td>\n",
       "    </tr>\n",
       "  </tbody>\n",
       "</table>\n",
       "</div>"
      ],
      "text/plain": [
       "      fare_amount           pickup_datetime  pickup_longitude  \\\n",
       "233           8.5 2011-07-24 01:14:35+00:00          0.000000   \n",
       "263           4.9 2010-07-12 09:44:33+00:00        -73.983249   \n",
       "293           6.1 2011-01-18 23:48:00+00:00        -74.006642   \n",
       "356           8.5 2013-06-18 10:27:05+00:00        -73.992108   \n",
       "386           8.1 2009-08-21 19:35:05+00:00        -73.960853   \n",
       "413           NaN 2013-09-12 11:32:00+00:00        -73.982060   \n",
       "971          10.1 2010-11-21 01:41:00+00:00        -74.004500   \n",
       "1007          3.7 2010-12-14 14:46:00+00:00        -73.969157   \n",
       "1043          5.7 2012-08-22 22:08:29+00:00        -73.973573   \n",
       "1107          4.9 2009-08-08 21:50:50+00:00        -73.988977   \n",
       "1146          8.0 2014-03-27 08:05:01+00:00        -73.991098   \n",
       "1200          9.7 2011-08-16 09:29:00+00:00        -73.980487   \n",
       "1242          5.3 2011-10-16 00:22:00+00:00        -73.981095   \n",
       "8406          6.9 2010-08-25 11:41:00+00:00          0.000000   \n",
       "8445          5.7 2009-03-28 22:00:00+00:00        -73.982413   \n",
       "8506         11.3 2010-05-23 20:06:37+00:00        -73.985424   \n",
       "8571         12.5 2011-12-03 03:21:00+00:00        -73.993718   \n",
       "8631         20.0 2012-12-10 22:28:00+00:00        -73.955445   \n",
       "8715          4.5 2009-09-04 09:14:03+00:00        -73.977518   \n",
       "8985          8.5 2015-01-14 15:10:21+00:00        -73.955444   \n",
       "\n",
       "      pickup_latitude  dropoff_longitude  dropoff_latitude  passenger_count  \n",
       "233          0.000000           0.000000          0.000000            236.0  \n",
       "263         40.734655         -73.991278         40.738918            456.0  \n",
       "293         40.738927         -74.010828         40.717907           5334.0  \n",
       "356         40.764203         -73.973000         40.762695            535.0  \n",
       "386         40.761557         -73.976335         40.748361            354.0  \n",
       "413         40.772705         -73.956213         40.771777             55.0  \n",
       "971         40.742143         -73.994330         40.720412            554.0  \n",
       "1007        40.759000         -73.968763         40.764617             53.0  \n",
       "1043        40.760184         -73.953564         40.767392             35.0  \n",
       "1107        40.721068         -73.982368         40.732064            345.0  \n",
       "1146        40.770655         -73.976933         40.790070           5345.0  \n",
       "1200        40.741610         -73.980617         40.746868            536.0  \n",
       "1242        40.738160         -73.990587         40.740105             43.0  \n",
       "8406         0.000000           0.000000          0.000000             53.0  \n",
       "8445        40.751320         -73.971292         40.748502             58.0  \n",
       "8506        40.738468         -74.001698         40.707758            537.0  \n",
       "8571        40.762039         -73.977527         40.734024             87.0  \n",
       "8631        40.670232         -74.004795         40.731477             43.0  \n",
       "8715        40.758480         -73.983252         40.749837            531.2  \n",
       "8985        40.787605         -73.965561         40.798691            557.0  "
      ]
     },
     "execution_count": 24,
     "metadata": {},
     "output_type": "execute_result"
    }
   ],
   "source": [
    "training[training['passenger_count']>6]"
   ]
  },
  {
   "cell_type": "code",
   "execution_count": 25,
   "metadata": {},
   "outputs": [],
   "source": [
    "length_passenger_count=len(training[training['passenger_count']<1])"
   ]
  },
  {
   "cell_type": "code",
   "execution_count": 26,
   "metadata": {},
   "outputs": [
    {
     "data": {
      "text/plain": [
       "58"
      ]
     },
     "execution_count": 26,
     "metadata": {},
     "output_type": "execute_result"
    }
   ],
   "source": [
    "length_passenger_count"
   ]
  },
  {
   "cell_type": "code",
   "execution_count": 27,
   "metadata": {},
   "outputs": [],
   "source": [
    "training = training.drop(training[training['passenger_count']>6].index, axis=0)"
   ]
  },
  {
   "cell_type": "code",
   "execution_count": 28,
   "metadata": {},
   "outputs": [
    {
     "data": {
      "text/html": [
       "<div>\n",
       "<style scoped>\n",
       "    .dataframe tbody tr th:only-of-type {\n",
       "        vertical-align: middle;\n",
       "    }\n",
       "\n",
       "    .dataframe tbody tr th {\n",
       "        vertical-align: top;\n",
       "    }\n",
       "\n",
       "    .dataframe thead th {\n",
       "        text-align: right;\n",
       "    }\n",
       "</style>\n",
       "<table border=\"1\" class=\"dataframe\">\n",
       "  <thead>\n",
       "    <tr style=\"text-align: right;\">\n",
       "      <th></th>\n",
       "      <th>fare_amount</th>\n",
       "      <th>pickup_datetime</th>\n",
       "      <th>pickup_longitude</th>\n",
       "      <th>pickup_latitude</th>\n",
       "      <th>dropoff_longitude</th>\n",
       "      <th>dropoff_latitude</th>\n",
       "      <th>passenger_count</th>\n",
       "    </tr>\n",
       "  </thead>\n",
       "  <tbody>\n",
       "    <tr>\n",
       "      <td>0</td>\n",
       "      <td>4.5</td>\n",
       "      <td>2009-06-15 17:26:21+00:00</td>\n",
       "      <td>-73.844311</td>\n",
       "      <td>40.721319</td>\n",
       "      <td>-73.841610</td>\n",
       "      <td>40.712278</td>\n",
       "      <td>1.0</td>\n",
       "    </tr>\n",
       "    <tr>\n",
       "      <td>1</td>\n",
       "      <td>16.9</td>\n",
       "      <td>2010-01-05 16:52:16+00:00</td>\n",
       "      <td>-74.016048</td>\n",
       "      <td>40.711303</td>\n",
       "      <td>-73.979268</td>\n",
       "      <td>40.782004</td>\n",
       "      <td>1.0</td>\n",
       "    </tr>\n",
       "    <tr>\n",
       "      <td>2</td>\n",
       "      <td>5.7</td>\n",
       "      <td>2011-08-18 00:35:00+00:00</td>\n",
       "      <td>-73.982738</td>\n",
       "      <td>40.761270</td>\n",
       "      <td>-73.991242</td>\n",
       "      <td>40.750562</td>\n",
       "      <td>2.0</td>\n",
       "    </tr>\n",
       "    <tr>\n",
       "      <td>3</td>\n",
       "      <td>7.7</td>\n",
       "      <td>2012-04-21 04:30:42+00:00</td>\n",
       "      <td>-73.987130</td>\n",
       "      <td>40.733143</td>\n",
       "      <td>-73.991567</td>\n",
       "      <td>40.758092</td>\n",
       "      <td>1.0</td>\n",
       "    </tr>\n",
       "    <tr>\n",
       "      <td>4</td>\n",
       "      <td>5.3</td>\n",
       "      <td>2010-03-09 07:51:00+00:00</td>\n",
       "      <td>-73.968095</td>\n",
       "      <td>40.768008</td>\n",
       "      <td>-73.956655</td>\n",
       "      <td>40.783762</td>\n",
       "      <td>1.0</td>\n",
       "    </tr>\n",
       "    <tr>\n",
       "      <td>...</td>\n",
       "      <td>...</td>\n",
       "      <td>...</td>\n",
       "      <td>...</td>\n",
       "      <td>...</td>\n",
       "      <td>...</td>\n",
       "      <td>...</td>\n",
       "      <td>...</td>\n",
       "    </tr>\n",
       "    <tr>\n",
       "      <td>16062</td>\n",
       "      <td>6.5</td>\n",
       "      <td>2014-12-12 07:41:00+00:00</td>\n",
       "      <td>-74.008820</td>\n",
       "      <td>40.718757</td>\n",
       "      <td>-73.998865</td>\n",
       "      <td>40.719987</td>\n",
       "      <td>1.0</td>\n",
       "    </tr>\n",
       "    <tr>\n",
       "      <td>16063</td>\n",
       "      <td>16.1</td>\n",
       "      <td>2009-07-13 07:58:00+00:00</td>\n",
       "      <td>-73.981310</td>\n",
       "      <td>40.781695</td>\n",
       "      <td>-74.014392</td>\n",
       "      <td>40.715527</td>\n",
       "      <td>2.0</td>\n",
       "    </tr>\n",
       "    <tr>\n",
       "      <td>16064</td>\n",
       "      <td>8.5</td>\n",
       "      <td>2009-11-11 11:19:07+00:00</td>\n",
       "      <td>-73.972507</td>\n",
       "      <td>40.753417</td>\n",
       "      <td>-73.979577</td>\n",
       "      <td>40.765495</td>\n",
       "      <td>1.0</td>\n",
       "    </tr>\n",
       "    <tr>\n",
       "      <td>16065</td>\n",
       "      <td>8.1</td>\n",
       "      <td>2010-05-11 23:53:00+00:00</td>\n",
       "      <td>-73.957027</td>\n",
       "      <td>40.765945</td>\n",
       "      <td>-73.981983</td>\n",
       "      <td>40.779560</td>\n",
       "      <td>1.0</td>\n",
       "    </tr>\n",
       "    <tr>\n",
       "      <td>16066</td>\n",
       "      <td>8.5</td>\n",
       "      <td>2011-12-14 06:24:33+00:00</td>\n",
       "      <td>-74.002111</td>\n",
       "      <td>40.729755</td>\n",
       "      <td>-73.983877</td>\n",
       "      <td>40.761975</td>\n",
       "      <td>NaN</td>\n",
       "    </tr>\n",
       "  </tbody>\n",
       "</table>\n",
       "<p>16042 rows × 7 columns</p>\n",
       "</div>"
      ],
      "text/plain": [
       "       fare_amount           pickup_datetime  pickup_longitude  \\\n",
       "0              4.5 2009-06-15 17:26:21+00:00        -73.844311   \n",
       "1             16.9 2010-01-05 16:52:16+00:00        -74.016048   \n",
       "2              5.7 2011-08-18 00:35:00+00:00        -73.982738   \n",
       "3              7.7 2012-04-21 04:30:42+00:00        -73.987130   \n",
       "4              5.3 2010-03-09 07:51:00+00:00        -73.968095   \n",
       "...            ...                       ...               ...   \n",
       "16062          6.5 2014-12-12 07:41:00+00:00        -74.008820   \n",
       "16063         16.1 2009-07-13 07:58:00+00:00        -73.981310   \n",
       "16064          8.5 2009-11-11 11:19:07+00:00        -73.972507   \n",
       "16065          8.1 2010-05-11 23:53:00+00:00        -73.957027   \n",
       "16066          8.5 2011-12-14 06:24:33+00:00        -74.002111   \n",
       "\n",
       "       pickup_latitude  dropoff_longitude  dropoff_latitude  passenger_count  \n",
       "0            40.721319         -73.841610         40.712278              1.0  \n",
       "1            40.711303         -73.979268         40.782004              1.0  \n",
       "2            40.761270         -73.991242         40.750562              2.0  \n",
       "3            40.733143         -73.991567         40.758092              1.0  \n",
       "4            40.768008         -73.956655         40.783762              1.0  \n",
       "...                ...                ...               ...              ...  \n",
       "16062        40.718757         -73.998865         40.719987              1.0  \n",
       "16063        40.781695         -74.014392         40.715527              2.0  \n",
       "16064        40.753417         -73.979577         40.765495              1.0  \n",
       "16065        40.765945         -73.981983         40.779560              1.0  \n",
       "16066        40.729755         -73.983877         40.761975              NaN  \n",
       "\n",
       "[16042 rows x 7 columns]"
      ]
     },
     "execution_count": 28,
     "metadata": {},
     "output_type": "execute_result"
    }
   ],
   "source": [
    "training"
   ]
  },
  {
   "cell_type": "code",
   "execution_count": 29,
   "metadata": {},
   "outputs": [],
   "source": [
    "training = training.drop(training[training['passenger_count']<1].index, axis=0)"
   ]
  },
  {
   "cell_type": "code",
   "execution_count": 30,
   "metadata": {},
   "outputs": [
    {
     "data": {
      "text/plain": [
       "0"
      ]
     },
     "execution_count": 30,
     "metadata": {},
     "output_type": "execute_result"
    }
   ],
   "source": [
    "sum(training['passenger_count']>6)"
   ]
  },
  {
   "cell_type": "code",
   "execution_count": 31,
   "metadata": {},
   "outputs": [
    {
     "data": {
      "text/html": [
       "<div>\n",
       "<style scoped>\n",
       "    .dataframe tbody tr th:only-of-type {\n",
       "        vertical-align: middle;\n",
       "    }\n",
       "\n",
       "    .dataframe tbody tr th {\n",
       "        vertical-align: top;\n",
       "    }\n",
       "\n",
       "    .dataframe thead th {\n",
       "        text-align: right;\n",
       "    }\n",
       "</style>\n",
       "<table border=\"1\" class=\"dataframe\">\n",
       "  <thead>\n",
       "    <tr style=\"text-align: right;\">\n",
       "      <th></th>\n",
       "      <th>fare_amount</th>\n",
       "      <th>pickup_datetime</th>\n",
       "      <th>pickup_longitude</th>\n",
       "      <th>pickup_latitude</th>\n",
       "      <th>dropoff_longitude</th>\n",
       "      <th>dropoff_latitude</th>\n",
       "      <th>passenger_count</th>\n",
       "    </tr>\n",
       "  </thead>\n",
       "  <tbody>\n",
       "    <tr>\n",
       "      <td>0</td>\n",
       "      <td>4.5</td>\n",
       "      <td>2009-06-15 17:26:21+00:00</td>\n",
       "      <td>-73.844311</td>\n",
       "      <td>40.721319</td>\n",
       "      <td>-73.841610</td>\n",
       "      <td>40.712278</td>\n",
       "      <td>1.0</td>\n",
       "    </tr>\n",
       "    <tr>\n",
       "      <td>1</td>\n",
       "      <td>16.9</td>\n",
       "      <td>2010-01-05 16:52:16+00:00</td>\n",
       "      <td>-74.016048</td>\n",
       "      <td>40.711303</td>\n",
       "      <td>-73.979268</td>\n",
       "      <td>40.782004</td>\n",
       "      <td>1.0</td>\n",
       "    </tr>\n",
       "    <tr>\n",
       "      <td>2</td>\n",
       "      <td>5.7</td>\n",
       "      <td>2011-08-18 00:35:00+00:00</td>\n",
       "      <td>-73.982738</td>\n",
       "      <td>40.761270</td>\n",
       "      <td>-73.991242</td>\n",
       "      <td>40.750562</td>\n",
       "      <td>2.0</td>\n",
       "    </tr>\n",
       "    <tr>\n",
       "      <td>3</td>\n",
       "      <td>7.7</td>\n",
       "      <td>2012-04-21 04:30:42+00:00</td>\n",
       "      <td>-73.987130</td>\n",
       "      <td>40.733143</td>\n",
       "      <td>-73.991567</td>\n",
       "      <td>40.758092</td>\n",
       "      <td>1.0</td>\n",
       "    </tr>\n",
       "    <tr>\n",
       "      <td>4</td>\n",
       "      <td>5.3</td>\n",
       "      <td>2010-03-09 07:51:00+00:00</td>\n",
       "      <td>-73.968095</td>\n",
       "      <td>40.768008</td>\n",
       "      <td>-73.956655</td>\n",
       "      <td>40.783762</td>\n",
       "      <td>1.0</td>\n",
       "    </tr>\n",
       "    <tr>\n",
       "      <td>...</td>\n",
       "      <td>...</td>\n",
       "      <td>...</td>\n",
       "      <td>...</td>\n",
       "      <td>...</td>\n",
       "      <td>...</td>\n",
       "      <td>...</td>\n",
       "      <td>...</td>\n",
       "    </tr>\n",
       "    <tr>\n",
       "      <td>16062</td>\n",
       "      <td>6.5</td>\n",
       "      <td>2014-12-12 07:41:00+00:00</td>\n",
       "      <td>-74.008820</td>\n",
       "      <td>40.718757</td>\n",
       "      <td>-73.998865</td>\n",
       "      <td>40.719987</td>\n",
       "      <td>1.0</td>\n",
       "    </tr>\n",
       "    <tr>\n",
       "      <td>16063</td>\n",
       "      <td>16.1</td>\n",
       "      <td>2009-07-13 07:58:00+00:00</td>\n",
       "      <td>-73.981310</td>\n",
       "      <td>40.781695</td>\n",
       "      <td>-74.014392</td>\n",
       "      <td>40.715527</td>\n",
       "      <td>2.0</td>\n",
       "    </tr>\n",
       "    <tr>\n",
       "      <td>16064</td>\n",
       "      <td>8.5</td>\n",
       "      <td>2009-11-11 11:19:07+00:00</td>\n",
       "      <td>-73.972507</td>\n",
       "      <td>40.753417</td>\n",
       "      <td>-73.979577</td>\n",
       "      <td>40.765495</td>\n",
       "      <td>1.0</td>\n",
       "    </tr>\n",
       "    <tr>\n",
       "      <td>16065</td>\n",
       "      <td>8.1</td>\n",
       "      <td>2010-05-11 23:53:00+00:00</td>\n",
       "      <td>-73.957027</td>\n",
       "      <td>40.765945</td>\n",
       "      <td>-73.981983</td>\n",
       "      <td>40.779560</td>\n",
       "      <td>1.0</td>\n",
       "    </tr>\n",
       "    <tr>\n",
       "      <td>16066</td>\n",
       "      <td>8.5</td>\n",
       "      <td>2011-12-14 06:24:33+00:00</td>\n",
       "      <td>-74.002111</td>\n",
       "      <td>40.729755</td>\n",
       "      <td>-73.983877</td>\n",
       "      <td>40.761975</td>\n",
       "      <td>NaN</td>\n",
       "    </tr>\n",
       "  </tbody>\n",
       "</table>\n",
       "<p>15984 rows × 7 columns</p>\n",
       "</div>"
      ],
      "text/plain": [
       "       fare_amount           pickup_datetime  pickup_longitude  \\\n",
       "0              4.5 2009-06-15 17:26:21+00:00        -73.844311   \n",
       "1             16.9 2010-01-05 16:52:16+00:00        -74.016048   \n",
       "2              5.7 2011-08-18 00:35:00+00:00        -73.982738   \n",
       "3              7.7 2012-04-21 04:30:42+00:00        -73.987130   \n",
       "4              5.3 2010-03-09 07:51:00+00:00        -73.968095   \n",
       "...            ...                       ...               ...   \n",
       "16062          6.5 2014-12-12 07:41:00+00:00        -74.008820   \n",
       "16063         16.1 2009-07-13 07:58:00+00:00        -73.981310   \n",
       "16064          8.5 2009-11-11 11:19:07+00:00        -73.972507   \n",
       "16065          8.1 2010-05-11 23:53:00+00:00        -73.957027   \n",
       "16066          8.5 2011-12-14 06:24:33+00:00        -74.002111   \n",
       "\n",
       "       pickup_latitude  dropoff_longitude  dropoff_latitude  passenger_count  \n",
       "0            40.721319         -73.841610         40.712278              1.0  \n",
       "1            40.711303         -73.979268         40.782004              1.0  \n",
       "2            40.761270         -73.991242         40.750562              2.0  \n",
       "3            40.733143         -73.991567         40.758092              1.0  \n",
       "4            40.768008         -73.956655         40.783762              1.0  \n",
       "...                ...                ...               ...              ...  \n",
       "16062        40.718757         -73.998865         40.719987              1.0  \n",
       "16063        40.781695         -74.014392         40.715527              2.0  \n",
       "16064        40.753417         -73.979577         40.765495              1.0  \n",
       "16065        40.765945         -73.981983         40.779560              1.0  \n",
       "16066        40.729755         -73.983877         40.761975              NaN  \n",
       "\n",
       "[15984 rows x 7 columns]"
      ]
     },
     "execution_count": 31,
     "metadata": {},
     "output_type": "execute_result"
    }
   ],
   "source": [
    "training"
   ]
  },
  {
   "cell_type": "code",
   "execution_count": 32,
   "metadata": {},
   "outputs": [
    {
     "data": {
      "text/plain": [
       "(15984, 7)"
      ]
     },
     "execution_count": 32,
     "metadata": {},
     "output_type": "execute_result"
    }
   ],
   "source": [
    "training.shape"
   ]
  },
  {
   "cell_type": "code",
   "execution_count": 33,
   "metadata": {},
   "outputs": [
    {
     "data": {
      "text/plain": [
       "0"
      ]
     },
     "execution_count": 33,
     "metadata": {},
     "output_type": "execute_result"
    }
   ],
   "source": [
    "sum(training['pickup_longitude']>180)"
   ]
  },
  {
   "cell_type": "code",
   "execution_count": null,
   "metadata": {},
   "outputs": [],
   "source": []
  },
  {
   "cell_type": "code",
   "execution_count": 34,
   "metadata": {},
   "outputs": [
    {
     "data": {
      "text/plain": [
       "0"
      ]
     },
     "execution_count": 34,
     "metadata": {},
     "output_type": "execute_result"
    }
   ],
   "source": [
    "sum(training['dropoff_longitude']>180)"
   ]
  },
  {
   "cell_type": "code",
   "execution_count": 35,
   "metadata": {},
   "outputs": [
    {
     "data": {
      "text/plain": [
       "0"
      ]
     },
     "execution_count": 35,
     "metadata": {},
     "output_type": "execute_result"
    }
   ],
   "source": [
    "sum(training['pickup_longitude']<-180)"
   ]
  },
  {
   "cell_type": "code",
   "execution_count": 36,
   "metadata": {},
   "outputs": [
    {
     "data": {
      "text/plain": [
       "0"
      ]
     },
     "execution_count": 36,
     "metadata": {},
     "output_type": "execute_result"
    }
   ],
   "source": [
    "sum(training['dropoff_longitude']<-180)"
   ]
  },
  {
   "cell_type": "code",
   "execution_count": 37,
   "metadata": {},
   "outputs": [
    {
     "data": {
      "text/plain": [
       "1"
      ]
     },
     "execution_count": 37,
     "metadata": {},
     "output_type": "execute_result"
    }
   ],
   "source": [
    "sum(training['pickup_latitude']>90)"
   ]
  },
  {
   "cell_type": "code",
   "execution_count": 38,
   "metadata": {},
   "outputs": [
    {
     "data": {
      "text/plain": [
       "0"
      ]
     },
     "execution_count": 38,
     "metadata": {},
     "output_type": "execute_result"
    }
   ],
   "source": [
    "sum(training['dropoff_latitude']>90)"
   ]
  },
  {
   "cell_type": "code",
   "execution_count": 39,
   "metadata": {},
   "outputs": [
    {
     "data": {
      "text/plain": [
       "0"
      ]
     },
     "execution_count": 39,
     "metadata": {},
     "output_type": "execute_result"
    }
   ],
   "source": [
    "sum(training['pickup_latitude']<-90)"
   ]
  },
  {
   "cell_type": "code",
   "execution_count": 40,
   "metadata": {},
   "outputs": [
    {
     "data": {
      "text/plain": [
       "0"
      ]
     },
     "execution_count": 40,
     "metadata": {},
     "output_type": "execute_result"
    }
   ],
   "source": [
    "sum(training['pickup_latitude']<-90)"
   ]
  },
  {
   "cell_type": "code",
   "execution_count": 41,
   "metadata": {},
   "outputs": [],
   "source": [
    "training = training.drop(training[training['pickup_latitude']>90].index, axis=0)"
   ]
  },
  {
   "cell_type": "code",
   "execution_count": 42,
   "metadata": {},
   "outputs": [
    {
     "data": {
      "text/html": [
       "<div>\n",
       "<style scoped>\n",
       "    .dataframe tbody tr th:only-of-type {\n",
       "        vertical-align: middle;\n",
       "    }\n",
       "\n",
       "    .dataframe tbody tr th {\n",
       "        vertical-align: top;\n",
       "    }\n",
       "\n",
       "    .dataframe thead th {\n",
       "        text-align: right;\n",
       "    }\n",
       "</style>\n",
       "<table border=\"1\" class=\"dataframe\">\n",
       "  <thead>\n",
       "    <tr style=\"text-align: right;\">\n",
       "      <th></th>\n",
       "      <th>fare_amount</th>\n",
       "      <th>pickup_datetime</th>\n",
       "      <th>pickup_longitude</th>\n",
       "      <th>pickup_latitude</th>\n",
       "      <th>dropoff_longitude</th>\n",
       "      <th>dropoff_latitude</th>\n",
       "      <th>passenger_count</th>\n",
       "    </tr>\n",
       "  </thead>\n",
       "  <tbody>\n",
       "    <tr>\n",
       "      <td>0</td>\n",
       "      <td>4.5</td>\n",
       "      <td>2009-06-15 17:26:21+00:00</td>\n",
       "      <td>-73.844311</td>\n",
       "      <td>40.721319</td>\n",
       "      <td>-73.841610</td>\n",
       "      <td>40.712278</td>\n",
       "      <td>1.0</td>\n",
       "    </tr>\n",
       "    <tr>\n",
       "      <td>1</td>\n",
       "      <td>16.9</td>\n",
       "      <td>2010-01-05 16:52:16+00:00</td>\n",
       "      <td>-74.016048</td>\n",
       "      <td>40.711303</td>\n",
       "      <td>-73.979268</td>\n",
       "      <td>40.782004</td>\n",
       "      <td>1.0</td>\n",
       "    </tr>\n",
       "    <tr>\n",
       "      <td>2</td>\n",
       "      <td>5.7</td>\n",
       "      <td>2011-08-18 00:35:00+00:00</td>\n",
       "      <td>-73.982738</td>\n",
       "      <td>40.761270</td>\n",
       "      <td>-73.991242</td>\n",
       "      <td>40.750562</td>\n",
       "      <td>2.0</td>\n",
       "    </tr>\n",
       "    <tr>\n",
       "      <td>3</td>\n",
       "      <td>7.7</td>\n",
       "      <td>2012-04-21 04:30:42+00:00</td>\n",
       "      <td>-73.987130</td>\n",
       "      <td>40.733143</td>\n",
       "      <td>-73.991567</td>\n",
       "      <td>40.758092</td>\n",
       "      <td>1.0</td>\n",
       "    </tr>\n",
       "    <tr>\n",
       "      <td>4</td>\n",
       "      <td>5.3</td>\n",
       "      <td>2010-03-09 07:51:00+00:00</td>\n",
       "      <td>-73.968095</td>\n",
       "      <td>40.768008</td>\n",
       "      <td>-73.956655</td>\n",
       "      <td>40.783762</td>\n",
       "      <td>1.0</td>\n",
       "    </tr>\n",
       "    <tr>\n",
       "      <td>...</td>\n",
       "      <td>...</td>\n",
       "      <td>...</td>\n",
       "      <td>...</td>\n",
       "      <td>...</td>\n",
       "      <td>...</td>\n",
       "      <td>...</td>\n",
       "      <td>...</td>\n",
       "    </tr>\n",
       "    <tr>\n",
       "      <td>16062</td>\n",
       "      <td>6.5</td>\n",
       "      <td>2014-12-12 07:41:00+00:00</td>\n",
       "      <td>-74.008820</td>\n",
       "      <td>40.718757</td>\n",
       "      <td>-73.998865</td>\n",
       "      <td>40.719987</td>\n",
       "      <td>1.0</td>\n",
       "    </tr>\n",
       "    <tr>\n",
       "      <td>16063</td>\n",
       "      <td>16.1</td>\n",
       "      <td>2009-07-13 07:58:00+00:00</td>\n",
       "      <td>-73.981310</td>\n",
       "      <td>40.781695</td>\n",
       "      <td>-74.014392</td>\n",
       "      <td>40.715527</td>\n",
       "      <td>2.0</td>\n",
       "    </tr>\n",
       "    <tr>\n",
       "      <td>16064</td>\n",
       "      <td>8.5</td>\n",
       "      <td>2009-11-11 11:19:07+00:00</td>\n",
       "      <td>-73.972507</td>\n",
       "      <td>40.753417</td>\n",
       "      <td>-73.979577</td>\n",
       "      <td>40.765495</td>\n",
       "      <td>1.0</td>\n",
       "    </tr>\n",
       "    <tr>\n",
       "      <td>16065</td>\n",
       "      <td>8.1</td>\n",
       "      <td>2010-05-11 23:53:00+00:00</td>\n",
       "      <td>-73.957027</td>\n",
       "      <td>40.765945</td>\n",
       "      <td>-73.981983</td>\n",
       "      <td>40.779560</td>\n",
       "      <td>1.0</td>\n",
       "    </tr>\n",
       "    <tr>\n",
       "      <td>16066</td>\n",
       "      <td>8.5</td>\n",
       "      <td>2011-12-14 06:24:33+00:00</td>\n",
       "      <td>-74.002111</td>\n",
       "      <td>40.729755</td>\n",
       "      <td>-73.983877</td>\n",
       "      <td>40.761975</td>\n",
       "      <td>NaN</td>\n",
       "    </tr>\n",
       "  </tbody>\n",
       "</table>\n",
       "<p>15983 rows × 7 columns</p>\n",
       "</div>"
      ],
      "text/plain": [
       "       fare_amount           pickup_datetime  pickup_longitude  \\\n",
       "0              4.5 2009-06-15 17:26:21+00:00        -73.844311   \n",
       "1             16.9 2010-01-05 16:52:16+00:00        -74.016048   \n",
       "2              5.7 2011-08-18 00:35:00+00:00        -73.982738   \n",
       "3              7.7 2012-04-21 04:30:42+00:00        -73.987130   \n",
       "4              5.3 2010-03-09 07:51:00+00:00        -73.968095   \n",
       "...            ...                       ...               ...   \n",
       "16062          6.5 2014-12-12 07:41:00+00:00        -74.008820   \n",
       "16063         16.1 2009-07-13 07:58:00+00:00        -73.981310   \n",
       "16064          8.5 2009-11-11 11:19:07+00:00        -73.972507   \n",
       "16065          8.1 2010-05-11 23:53:00+00:00        -73.957027   \n",
       "16066          8.5 2011-12-14 06:24:33+00:00        -74.002111   \n",
       "\n",
       "       pickup_latitude  dropoff_longitude  dropoff_latitude  passenger_count  \n",
       "0            40.721319         -73.841610         40.712278              1.0  \n",
       "1            40.711303         -73.979268         40.782004              1.0  \n",
       "2            40.761270         -73.991242         40.750562              2.0  \n",
       "3            40.733143         -73.991567         40.758092              1.0  \n",
       "4            40.768008         -73.956655         40.783762              1.0  \n",
       "...                ...                ...               ...              ...  \n",
       "16062        40.718757         -73.998865         40.719987              1.0  \n",
       "16063        40.781695         -74.014392         40.715527              2.0  \n",
       "16064        40.753417         -73.979577         40.765495              1.0  \n",
       "16065        40.765945         -73.981983         40.779560              1.0  \n",
       "16066        40.729755         -73.983877         40.761975              NaN  \n",
       "\n",
       "[15983 rows x 7 columns]"
      ]
     },
     "execution_count": 42,
     "metadata": {},
     "output_type": "execute_result"
    }
   ],
   "source": [
    "training"
   ]
  },
  {
   "cell_type": "code",
   "execution_count": 43,
   "metadata": {},
   "outputs": [],
   "source": [
    "zero_val=['pickup_longitude','pickup_latitude','dropoff_longitude','dropoff_latitude']"
   ]
  },
  {
   "cell_type": "code",
   "execution_count": 44,
   "metadata": {
    "scrolled": true
   },
   "outputs": [
    {
     "data": {
      "text/plain": [
       "['pickup_longitude',\n",
       " 'pickup_latitude',\n",
       " 'dropoff_longitude',\n",
       " 'dropoff_latitude']"
      ]
     },
     "execution_count": 44,
     "metadata": {},
     "output_type": "execute_result"
    }
   ],
   "source": [
    "zero_val"
   ]
  },
  {
   "cell_type": "code",
   "execution_count": 45,
   "metadata": {},
   "outputs": [],
   "source": [
    "for i in zero_val:\n",
    "    training = training.drop(training[training[i]==0].index, axis=0)"
   ]
  },
  {
   "cell_type": "code",
   "execution_count": null,
   "metadata": {},
   "outputs": [],
   "source": []
  },
  {
   "cell_type": "code",
   "execution_count": 46,
   "metadata": {},
   "outputs": [
    {
     "data": {
      "text/plain": [
       "(15661, 7)"
      ]
     },
     "execution_count": 46,
     "metadata": {},
     "output_type": "execute_result"
    }
   ],
   "source": [
    "training.shape"
   ]
  },
  {
   "cell_type": "code",
   "execution_count": 47,
   "metadata": {},
   "outputs": [],
   "source": [
    "df=training.copy()"
   ]
  },
  {
   "cell_type": "code",
   "execution_count": 48,
   "metadata": {},
   "outputs": [],
   "source": [
    "training=df.copy()"
   ]
  },
  {
   "cell_type": "code",
   "execution_count": 49,
   "metadata": {},
   "outputs": [
    {
     "data": {
      "text/plain": [
       "(15661, 7)"
      ]
     },
     "execution_count": 49,
     "metadata": {},
     "output_type": "execute_result"
    }
   ],
   "source": [
    "training.shape"
   ]
  },
  {
   "cell_type": "code",
   "execution_count": 50,
   "metadata": {},
   "outputs": [
    {
     "data": {
      "text/html": [
       "<div>\n",
       "<style scoped>\n",
       "    .dataframe tbody tr th:only-of-type {\n",
       "        vertical-align: middle;\n",
       "    }\n",
       "\n",
       "    .dataframe tbody tr th {\n",
       "        vertical-align: top;\n",
       "    }\n",
       "\n",
       "    .dataframe thead th {\n",
       "        text-align: right;\n",
       "    }\n",
       "</style>\n",
       "<table border=\"1\" class=\"dataframe\">\n",
       "  <thead>\n",
       "    <tr style=\"text-align: right;\">\n",
       "      <th></th>\n",
       "      <th>0</th>\n",
       "    </tr>\n",
       "  </thead>\n",
       "  <tbody>\n",
       "    <tr>\n",
       "      <td>fare_amount</td>\n",
       "      <td>22</td>\n",
       "    </tr>\n",
       "    <tr>\n",
       "      <td>pickup_datetime</td>\n",
       "      <td>1</td>\n",
       "    </tr>\n",
       "    <tr>\n",
       "      <td>pickup_longitude</td>\n",
       "      <td>0</td>\n",
       "    </tr>\n",
       "    <tr>\n",
       "      <td>pickup_latitude</td>\n",
       "      <td>0</td>\n",
       "    </tr>\n",
       "    <tr>\n",
       "      <td>dropoff_longitude</td>\n",
       "      <td>0</td>\n",
       "    </tr>\n",
       "    <tr>\n",
       "      <td>dropoff_latitude</td>\n",
       "      <td>0</td>\n",
       "    </tr>\n",
       "    <tr>\n",
       "      <td>passenger_count</td>\n",
       "      <td>55</td>\n",
       "    </tr>\n",
       "  </tbody>\n",
       "</table>\n",
       "</div>"
      ],
      "text/plain": [
       "                    0\n",
       "fare_amount        22\n",
       "pickup_datetime     1\n",
       "pickup_longitude    0\n",
       "pickup_latitude     0\n",
       "dropoff_longitude   0\n",
       "dropoff_latitude    0\n",
       "passenger_count    55"
      ]
     },
     "execution_count": 50,
     "metadata": {},
     "output_type": "execute_result"
    }
   ],
   "source": [
    "mising_value = pd.DataFrame(training.isnull().sum())\n",
    "mising_value\n"
   ]
  },
  {
   "cell_type": "code",
   "execution_count": 51,
   "metadata": {},
   "outputs": [],
   "source": [
    "mising_value = mising_value.reset_index()\n"
   ]
  },
  {
   "cell_type": "code",
   "execution_count": 52,
   "metadata": {},
   "outputs": [
    {
     "data": {
      "text/html": [
       "<div>\n",
       "<style scoped>\n",
       "    .dataframe tbody tr th:only-of-type {\n",
       "        vertical-align: middle;\n",
       "    }\n",
       "\n",
       "    .dataframe tbody tr th {\n",
       "        vertical-align: top;\n",
       "    }\n",
       "\n",
       "    .dataframe thead th {\n",
       "        text-align: right;\n",
       "    }\n",
       "</style>\n",
       "<table border=\"1\" class=\"dataframe\">\n",
       "  <thead>\n",
       "    <tr style=\"text-align: right;\">\n",
       "      <th></th>\n",
       "      <th>index</th>\n",
       "      <th>0</th>\n",
       "    </tr>\n",
       "  </thead>\n",
       "  <tbody>\n",
       "    <tr>\n",
       "      <td>0</td>\n",
       "      <td>fare_amount</td>\n",
       "      <td>22</td>\n",
       "    </tr>\n",
       "    <tr>\n",
       "      <td>1</td>\n",
       "      <td>pickup_datetime</td>\n",
       "      <td>1</td>\n",
       "    </tr>\n",
       "    <tr>\n",
       "      <td>2</td>\n",
       "      <td>pickup_longitude</td>\n",
       "      <td>0</td>\n",
       "    </tr>\n",
       "    <tr>\n",
       "      <td>3</td>\n",
       "      <td>pickup_latitude</td>\n",
       "      <td>0</td>\n",
       "    </tr>\n",
       "    <tr>\n",
       "      <td>4</td>\n",
       "      <td>dropoff_longitude</td>\n",
       "      <td>0</td>\n",
       "    </tr>\n",
       "    <tr>\n",
       "      <td>5</td>\n",
       "      <td>dropoff_latitude</td>\n",
       "      <td>0</td>\n",
       "    </tr>\n",
       "    <tr>\n",
       "      <td>6</td>\n",
       "      <td>passenger_count</td>\n",
       "      <td>55</td>\n",
       "    </tr>\n",
       "  </tbody>\n",
       "</table>\n",
       "</div>"
      ],
      "text/plain": [
       "               index   0\n",
       "0        fare_amount  22\n",
       "1    pickup_datetime   1\n",
       "2   pickup_longitude   0\n",
       "3    pickup_latitude   0\n",
       "4  dropoff_longitude   0\n",
       "5   dropoff_latitude   0\n",
       "6    passenger_count  55"
      ]
     },
     "execution_count": 52,
     "metadata": {},
     "output_type": "execute_result"
    }
   ],
   "source": [
    "mising_value"
   ]
  },
  {
   "cell_type": "code",
   "execution_count": 53,
   "metadata": {},
   "outputs": [],
   "source": [
    "mising_value = mising_value.rename(columns = {'index': 'Variable', 0: 'Missing_percentage'})\n",
    "mising_value['Missing_percentage'] = (mising_value['Missing_percentage']/len(training))*100"
   ]
  },
  {
   "cell_type": "code",
   "execution_count": 54,
   "metadata": {},
   "outputs": [
    {
     "data": {
      "text/html": [
       "<div>\n",
       "<style scoped>\n",
       "    .dataframe tbody tr th:only-of-type {\n",
       "        vertical-align: middle;\n",
       "    }\n",
       "\n",
       "    .dataframe tbody tr th {\n",
       "        vertical-align: top;\n",
       "    }\n",
       "\n",
       "    .dataframe thead th {\n",
       "        text-align: right;\n",
       "    }\n",
       "</style>\n",
       "<table border=\"1\" class=\"dataframe\">\n",
       "  <thead>\n",
       "    <tr style=\"text-align: right;\">\n",
       "      <th></th>\n",
       "      <th>Variable</th>\n",
       "      <th>Missing_percentage</th>\n",
       "    </tr>\n",
       "  </thead>\n",
       "  <tbody>\n",
       "    <tr>\n",
       "      <td>0</td>\n",
       "      <td>fare_amount</td>\n",
       "      <td>0.140476</td>\n",
       "    </tr>\n",
       "    <tr>\n",
       "      <td>1</td>\n",
       "      <td>pickup_datetime</td>\n",
       "      <td>0.006385</td>\n",
       "    </tr>\n",
       "    <tr>\n",
       "      <td>2</td>\n",
       "      <td>pickup_longitude</td>\n",
       "      <td>0.000000</td>\n",
       "    </tr>\n",
       "    <tr>\n",
       "      <td>3</td>\n",
       "      <td>pickup_latitude</td>\n",
       "      <td>0.000000</td>\n",
       "    </tr>\n",
       "    <tr>\n",
       "      <td>4</td>\n",
       "      <td>dropoff_longitude</td>\n",
       "      <td>0.000000</td>\n",
       "    </tr>\n",
       "    <tr>\n",
       "      <td>5</td>\n",
       "      <td>dropoff_latitude</td>\n",
       "      <td>0.000000</td>\n",
       "    </tr>\n",
       "    <tr>\n",
       "      <td>6</td>\n",
       "      <td>passenger_count</td>\n",
       "      <td>0.351191</td>\n",
       "    </tr>\n",
       "  </tbody>\n",
       "</table>\n",
       "</div>"
      ],
      "text/plain": [
       "            Variable  Missing_percentage\n",
       "0        fare_amount            0.140476\n",
       "1    pickup_datetime            0.006385\n",
       "2   pickup_longitude            0.000000\n",
       "3    pickup_latitude            0.000000\n",
       "4  dropoff_longitude            0.000000\n",
       "5   dropoff_latitude            0.000000\n",
       "6    passenger_count            0.351191"
      ]
     },
     "execution_count": 54,
     "metadata": {},
     "output_type": "execute_result"
    }
   ],
   "source": [
    "mising_value"
   ]
  },
  {
   "cell_type": "code",
   "execution_count": 55,
   "metadata": {},
   "outputs": [
    {
     "name": "stdout",
     "output_type": "stream",
     "text": [
      "fare_amount at loc-1000:7.0\n",
      "Value after replacing with nan:nan\n",
      "Value if imputed with mean:15.118196060877201\n",
      "Value if imputed with median:8.5\n"
     ]
    },
    {
     "name": "stderr",
     "output_type": "stream",
     "text": [
      "C:\\Users\\Deepak\\Anaconda3\\lib\\site-packages\\pandas\\core\\indexing.py:205: SettingWithCopyWarning: \n",
      "A value is trying to be set on a copy of a slice from a DataFrame\n",
      "\n",
      "See the caveats in the documentation: http://pandas.pydata.org/pandas-docs/stable/user_guide/indexing.html#returning-a-view-versus-a-copy\n",
      "  self._setitem_with_indexer(indexer, value)\n"
     ]
    }
   ],
   "source": [
    "a1=training['fare_amount'].loc[1000]\n",
    "print('fare_amount at loc-1000:{}'.format(a1))\n",
    "# Replacing 1.0 with NA\n",
    "training['fare_amount'].loc[1000] = np.nan\n",
    "print('Value after replacing with nan:{}'.format(training['fare_amount'].loc[1000]))\n",
    "# Impute with mean\n",
    "print('Value if imputed with mean:{}'.format(training['fare_amount'].fillna(training['fare_amount'].mean()).loc[1000]))\n",
    "# Impute with median\n",
    "print('Value if imputed with median:{}'.format(training['fare_amount'].fillna(training['fare_amount'].median()).loc[1000]))"
   ]
  },
  {
   "cell_type": "code",
   "execution_count": 56,
   "metadata": {},
   "outputs": [
    {
     "data": {
      "text/plain": [
       "fare_amount          435.982171\n",
       "pickup_longitude       2.659050\n",
       "pickup_latitude        2.613305\n",
       "dropoff_longitude      2.710835\n",
       "dropoff_latitude       2.632400\n",
       "passenger_count        1.266066\n",
       "dtype: float64"
      ]
     },
     "execution_count": 56,
     "metadata": {},
     "output_type": "execute_result"
    }
   ],
   "source": [
    "\n",
    "training.std()"
   ]
  },
  {
   "cell_type": "code",
   "execution_count": null,
   "metadata": {},
   "outputs": [],
   "source": []
  },
  {
   "cell_type": "code",
   "execution_count": 57,
   "metadata": {},
   "outputs": [],
   "source": [
    "columns=['fare_amount', 'pickup_longitude', 'pickup_latitude','dropoff_longitude', 'dropoff_latitude', 'passenger_count']\n",
    "#columns=['fare_amount','passenger_count']"
   ]
  },
  {
   "cell_type": "code",
   "execution_count": 58,
   "metadata": {},
   "outputs": [
    {
     "data": {
      "text/plain": [
       "['fare_amount',\n",
       " 'pickup_longitude',\n",
       " 'pickup_latitude',\n",
       " 'dropoff_longitude',\n",
       " 'dropoff_latitude',\n",
       " 'passenger_count']"
      ]
     },
     "execution_count": 58,
     "metadata": {},
     "output_type": "execute_result"
    }
   ],
   "source": [
    "columns"
   ]
  },
  {
   "cell_type": "code",
   "execution_count": 59,
   "metadata": {},
   "outputs": [],
   "source": [
    "pickup_datetime=pd.DataFrame(training['pickup_datetime'])"
   ]
  },
  {
   "cell_type": "code",
   "execution_count": 60,
   "metadata": {},
   "outputs": [
    {
     "ename": "NameError",
     "evalue": "name 'KNN' is not defined",
     "output_type": "error",
     "traceback": [
      "\u001b[1;31m---------------------------------------------------------------------------\u001b[0m",
      "\u001b[1;31mNameError\u001b[0m                                 Traceback (most recent call last)",
      "\u001b[1;32m<ipython-input-60-1de840cb95a0>\u001b[0m in \u001b[0;36m<module>\u001b[1;34m\u001b[0m\n\u001b[1;32m----> 1\u001b[1;33m \u001b[0mtraining\u001b[0m \u001b[1;33m=\u001b[0m \u001b[0mpd\u001b[0m\u001b[1;33m.\u001b[0m\u001b[0mDataFrame\u001b[0m\u001b[1;33m(\u001b[0m\u001b[0mKNN\u001b[0m\u001b[1;33m(\u001b[0m\u001b[0mk\u001b[0m \u001b[1;33m=\u001b[0m \u001b[1;36m17\u001b[0m\u001b[1;33m)\u001b[0m\u001b[1;33m.\u001b[0m\u001b[0mfit_transform\u001b[0m\u001b[1;33m(\u001b[0m\u001b[0mtraining\u001b[0m\u001b[1;33m.\u001b[0m\u001b[0mdrop\u001b[0m\u001b[1;33m(\u001b[0m\u001b[1;34m'pickup_datetime'\u001b[0m\u001b[1;33m,\u001b[0m\u001b[0maxis\u001b[0m\u001b[1;33m=\u001b[0m\u001b[1;36m1\u001b[0m\u001b[1;33m)\u001b[0m\u001b[1;33m)\u001b[0m\u001b[1;33m,\u001b[0m\u001b[0mcolumns\u001b[0m\u001b[1;33m=\u001b[0m\u001b[0mcolumns\u001b[0m\u001b[1;33m,\u001b[0m \u001b[0mindex\u001b[0m\u001b[1;33m=\u001b[0m\u001b[0mtraining\u001b[0m\u001b[1;33m.\u001b[0m\u001b[0mindex\u001b[0m\u001b[1;33m)\u001b[0m\u001b[1;33m\u001b[0m\u001b[1;33m\u001b[0m\u001b[0m\n\u001b[0m",
      "\u001b[1;31mNameError\u001b[0m: name 'KNN' is not defined"
     ]
    }
   ],
   "source": [
    "training = pd.DataFrame(KNN(k = 17).fit_transform(training.drop('pickup_datetime',axis=1)),columns=columns, index=training.index)\n"
   ]
  },
  {
   "cell_type": "code",
   "execution_count": 61,
   "metadata": {},
   "outputs": [],
   "source": [
    "training['passenger_count']=training['passenger_count'].astype('int')"
   ]
  },
  {
   "cell_type": "code",
   "execution_count": 62,
   "metadata": {},
   "outputs": [],
   "source": [
    "training['passenger_count']=training['passenger_count'].round().astype('object').astype('category',order=True)\n"
   ]
  },
  {
   "cell_type": "code",
   "execution_count": 63,
   "metadata": {},
   "outputs": [
    {
     "data": {
      "text/plain": [
       "[1, 2, 3, 6, 5, 4]\n",
       "Categories (6, int64): [1, 2, 3, 6, 5, 4]"
      ]
     },
     "execution_count": 63,
     "metadata": {},
     "output_type": "execute_result"
    }
   ],
   "source": [
    "training['passenger_count'].unique()"
   ]
  },
  {
   "cell_type": "code",
   "execution_count": 64,
   "metadata": {},
   "outputs": [
    {
     "data": {
      "text/html": [
       "<div>\n",
       "<style scoped>\n",
       "    .dataframe tbody tr th:only-of-type {\n",
       "        vertical-align: middle;\n",
       "    }\n",
       "\n",
       "    .dataframe tbody tr th {\n",
       "        vertical-align: top;\n",
       "    }\n",
       "\n",
       "    .dataframe thead th {\n",
       "        text-align: right;\n",
       "    }\n",
       "</style>\n",
       "<table border=\"1\" class=\"dataframe\">\n",
       "  <thead>\n",
       "    <tr style=\"text-align: right;\">\n",
       "      <th></th>\n",
       "      <th>index</th>\n",
       "      <th>0</th>\n",
       "    </tr>\n",
       "  </thead>\n",
       "  <tbody>\n",
       "    <tr>\n",
       "      <td>0</td>\n",
       "      <td>pickup_datetime</td>\n",
       "      <td>1</td>\n",
       "    </tr>\n",
       "  </tbody>\n",
       "</table>\n",
       "</div>"
      ],
      "text/plain": [
       "             index  0\n",
       "0  pickup_datetime  1"
      ]
     },
     "execution_count": 64,
     "metadata": {},
     "output_type": "execute_result"
    }
   ],
   "source": [
    "# MISSING value analysis\n",
    "missing_value = pd.DataFrame(pickup_datetime.isnull().sum())\n",
    "missing_value = missing_value.reset_index()\n",
    "missing_value"
   ]
  },
  {
   "cell_type": "code",
   "execution_count": 65,
   "metadata": {},
   "outputs": [
    {
     "data": {
      "text/plain": [
       "(15661, 1)"
      ]
     },
     "execution_count": 65,
     "metadata": {},
     "output_type": "execute_result"
    }
   ],
   "source": [
    "pickup_datetime.shape"
   ]
  },
  {
   "cell_type": "code",
   "execution_count": 66,
   "metadata": {},
   "outputs": [],
   "source": [
    "df_1=training.copy()\n",
    "training=df_1.copy()"
   ]
  },
  {
   "cell_type": "code",
   "execution_count": 67,
   "metadata": {},
   "outputs": [
    {
     "data": {
      "text/plain": [
       "(15661, 6)"
      ]
     },
     "execution_count": 67,
     "metadata": {},
     "output_type": "execute_result"
    }
   ],
   "source": [
    "training.shape"
   ]
  },
  {
   "cell_type": "code",
   "execution_count": 68,
   "metadata": {},
   "outputs": [
    {
     "data": {
      "text/plain": [
       "count     15661\n",
       "unique        6\n",
       "top           1\n",
       "freq      11058\n",
       "Name: passenger_count, dtype: int64"
      ]
     },
     "execution_count": 68,
     "metadata": {},
     "output_type": "execute_result"
    }
   ],
   "source": [
    "training['passenger_count'].describe()"
   ]
  },
  {
   "cell_type": "code",
   "execution_count": null,
   "metadata": {},
   "outputs": [],
   "source": []
  },
  {
   "cell_type": "code",
   "execution_count": null,
   "metadata": {},
   "outputs": [],
   "source": []
  },
  {
   "cell_type": "code",
   "execution_count": 69,
   "metadata": {},
   "outputs": [
    {
     "data": {
      "image/png": "[encoded data removed]",
      "text/plain": [
       "<Figure size 720x720 with 1 Axes>"
      ]
     },
     "metadata": {
      "needs_background": "light"
     },
     "output_type": "display_data"
    }
   ],
   "source": [
    "\n",
    "# BOXPLOT for outlier analysis\n",
    "plt.figure(figsize=(10,10))\n",
    "plt.xlim(0,100)\n",
    "_ = sns.boxplot(x=training['fare_amount'],y=training['passenger_count'],data=training,orient='h')\n",
    "plt.show()"
   ]
  },
  {
   "cell_type": "code",
   "execution_count": 70,
   "metadata": {},
   "outputs": [
    {
     "data": {
      "text/plain": [
       "count     15661\n",
       "unique        6\n",
       "top           1\n",
       "freq      11058\n",
       "Name: passenger_count, dtype: int64"
      ]
     },
     "execution_count": 70,
     "metadata": {},
     "output_type": "execute_result"
    }
   ],
   "source": [
    "training['passenger_count'].describe()"
   ]
  },
  {
   "cell_type": "code",
   "execution_count": 71,
   "metadata": {},
   "outputs": [],
   "source": [
    "def outlier_analysis(columns):\n",
    "    ''' calculating outlier indices and replacing them with NA  '''\n",
    "    #Extract quartiles\n",
    "    q75, q25 = np.percentile(training[columns], [75 ,25])\n",
    "    print(q75,q25)\n",
    "    #Calculate IQR\n",
    "    iqr = q75 - q25\n",
    "    #Calculate inner and outer fence\n",
    "    minimum = q25 - (iqr*1.5)\n",
    "    maximum = q75 + (iqr*1.5)\n",
    "    print(minimum,maximum)\n",
    "    #Replace with NA\n",
    "    training.loc[training[columns] < minimum,columns] = np.nan\n",
    "    training.loc[training[columns] > maximum,columns] = np.nan"
   ]
  },
  {
   "cell_type": "code",
   "execution_count": 72,
   "metadata": {},
   "outputs": [
    {
     "name": "stdout",
     "output_type": "stream",
     "text": [
      "12.5 6.0\n",
      "-3.75 22.25\n"
     ]
    }
   ],
   "source": [
    "outlier_analysis('fare_amount')"
   ]
  },
  {
   "cell_type": "code",
   "execution_count": 73,
   "metadata": {},
   "outputs": [
    {
     "data": {
      "text/html": [
       "<div>\n",
       "<style scoped>\n",
       "    .dataframe tbody tr th:only-of-type {\n",
       "        vertical-align: middle;\n",
       "    }\n",
       "\n",
       "    .dataframe tbody tr th {\n",
       "        vertical-align: top;\n",
       "    }\n",
       "\n",
       "    .dataframe thead th {\n",
       "        text-align: right;\n",
       "    }\n",
       "</style>\n",
       "<table border=\"1\" class=\"dataframe\">\n",
       "  <thead>\n",
       "    <tr style=\"text-align: right;\">\n",
       "      <th></th>\n",
       "      <th>0</th>\n",
       "    </tr>\n",
       "  </thead>\n",
       "  <tbody>\n",
       "    <tr>\n",
       "      <td>fare_amount</td>\n",
       "      <td>1359</td>\n",
       "    </tr>\n",
       "    <tr>\n",
       "      <td>pickup_longitude</td>\n",
       "      <td>0</td>\n",
       "    </tr>\n",
       "    <tr>\n",
       "      <td>pickup_latitude</td>\n",
       "      <td>0</td>\n",
       "    </tr>\n",
       "    <tr>\n",
       "      <td>dropoff_longitude</td>\n",
       "      <td>0</td>\n",
       "    </tr>\n",
       "    <tr>\n",
       "      <td>dropoff_latitude</td>\n",
       "      <td>0</td>\n",
       "    </tr>\n",
       "    <tr>\n",
       "      <td>passenger_count</td>\n",
       "      <td>0</td>\n",
       "    </tr>\n",
       "  </tbody>\n",
       "</table>\n",
       "</div>"
      ],
      "text/plain": [
       "                      0\n",
       "fare_amount        1359\n",
       "pickup_longitude      0\n",
       "pickup_latitude       0\n",
       "dropoff_longitude     0\n",
       "dropoff_latitude      0\n",
       "passenger_count       0"
      ]
     },
     "execution_count": 73,
     "metadata": {},
     "output_type": "execute_result"
    }
   ],
   "source": [
    "pd.DataFrame(training.isnull().sum())"
   ]
  },
  {
   "cell_type": "code",
   "execution_count": 74,
   "metadata": {},
   "outputs": [
    {
     "data": {
      "text/plain": [
       "fare_amount          4.136314\n",
       "pickup_longitude     2.659050\n",
       "pickup_latitude      2.613305\n",
       "dropoff_longitude    2.710835\n",
       "dropoff_latitude     2.632400\n",
       "passenger_count      1.264337\n",
       "dtype: float64"
      ]
     },
     "execution_count": 74,
     "metadata": {},
     "output_type": "execute_result"
    }
   ],
   "source": [
    "training.std()"
   ]
  },
  {
   "cell_type": "code",
   "execution_count": 75,
   "metadata": {},
   "outputs": [
    {
     "name": "stdout",
     "output_type": "stream",
     "text": [
      "Imputing row 1/15661 with 0 missing, elapsed time: 478.252\n",
      "Imputing row 101/15661 with 0 missing, elapsed time: 509.732\n",
      "Imputing row 201/15661 with 0 missing, elapsed time: 513.857\n",
      "Imputing row 301/15661 with 1 missing, elapsed time: 516.436\n",
      "Imputing row 401/15661 with 0 missing, elapsed time: 523.478\n",
      "Imputing row 501/15661 with 0 missing, elapsed time: 524.478\n",
      "Imputing row 601/15661 with 1 missing, elapsed time: 524.962\n",
      "Imputing row 701/15661 with 0 missing, elapsed time: 525.447\n",
      "Imputing row 801/15661 with 0 missing, elapsed time: 526.275\n",
      "Imputing row 901/15661 with 0 missing, elapsed time: 526.713\n",
      "Imputing row 1001/15661 with 0 missing, elapsed time: 528.244\n",
      "Imputing row 1101/15661 with 1 missing, elapsed time: 529.947\n",
      "Imputing row 1201/15661 with 0 missing, elapsed time: 531.619\n",
      "Imputing row 1301/15661 with 0 missing, elapsed time: 532.588\n",
      "Imputing row 1401/15661 with 0 missing, elapsed time: 535.123\n",
      "Imputing row 1501/15661 with 0 missing, elapsed time: 536.760\n",
      "Imputing row 1601/15661 with 0 missing, elapsed time: 540.256\n",
      "Imputing row 1701/15661 with 0 missing, elapsed time: 541.020\n",
      "Imputing row 1801/15661 with 0 missing, elapsed time: 542.051\n",
      "Imputing row 1901/15661 with 0 missing, elapsed time: 542.895\n",
      "Imputing row 2001/15661 with 0 missing, elapsed time: 543.998\n",
      "Imputing row 2101/15661 with 0 missing, elapsed time: 545.009\n",
      "Imputing row 2201/15661 with 0 missing, elapsed time: 545.978\n",
      "Imputing row 2301/15661 with 0 missing, elapsed time: 547.281\n",
      "Imputing row 2401/15661 with 0 missing, elapsed time: 547.993\n",
      "Imputing row 2501/15661 with 0 missing, elapsed time: 548.425\n",
      "Imputing row 2601/15661 with 0 missing, elapsed time: 549.368\n",
      "Imputing row 2701/15661 with 0 missing, elapsed time: 550.098\n",
      "Imputing row 2801/15661 with 0 missing, elapsed time: 550.484\n",
      "Imputing row 2901/15661 with 0 missing, elapsed time: 551.059\n",
      "Imputing row 3001/15661 with 0 missing, elapsed time: 551.854\n",
      "Imputing row 3101/15661 with 0 missing, elapsed time: 552.763\n",
      "Imputing row 3201/15661 with 0 missing, elapsed time: 553.541\n",
      "Imputing row 3301/15661 with 0 missing, elapsed time: 558.242\n",
      "Imputing row 3401/15661 with 0 missing, elapsed time: 560.585\n",
      "Imputing row 3501/15661 with 0 missing, elapsed time: 563.210\n",
      "Imputing row 3601/15661 with 0 missing, elapsed time: 563.945\n",
      "Imputing row 3701/15661 with 0 missing, elapsed time: 565.213\n",
      "Imputing row 3801/15661 with 0 missing, elapsed time: 566.162\n",
      "Imputing row 3901/15661 with 0 missing, elapsed time: 566.396\n",
      "Imputing row 4001/15661 with 0 missing, elapsed time: 567.514\n",
      "Imputing row 4101/15661 with 0 missing, elapsed time: 569.451\n",
      "Imputing row 4201/15661 with 0 missing, elapsed time: 569.857\n",
      "Imputing row 4301/15661 with 0 missing, elapsed time: 570.241\n",
      "Imputing row 4401/15661 with 0 missing, elapsed time: 572.562\n",
      "Imputing row 4501/15661 with 0 missing, elapsed time: 573.806\n",
      "Imputing row 4601/15661 with 0 missing, elapsed time: 574.405\n",
      "Imputing row 4701/15661 with 0 missing, elapsed time: 575.329\n",
      "Imputing row 4801/15661 with 0 missing, elapsed time: 576.335\n",
      "Imputing row 4901/15661 with 0 missing, elapsed time: 577.079\n",
      "Imputing row 5001/15661 with 0 missing, elapsed time: 578.628\n",
      "Imputing row 5101/15661 with 1 missing, elapsed time: 580.561\n",
      "Imputing row 5201/15661 with 0 missing, elapsed time: 582.209\n",
      "Imputing row 5301/15661 with 0 missing, elapsed time: 585.425\n",
      "Imputing row 5401/15661 with 0 missing, elapsed time: 586.136\n",
      "Imputing row 5501/15661 with 0 missing, elapsed time: 587.404\n",
      "Imputing row 5601/15661 with 0 missing, elapsed time: 588.295\n",
      "Imputing row 5701/15661 with 0 missing, elapsed time: 588.436\n",
      "Imputing row 5801/15661 with 0 missing, elapsed time: 588.677\n",
      "Imputing row 5901/15661 with 0 missing, elapsed time: 588.778\n",
      "Imputing row 6001/15661 with 0 missing, elapsed time: 589.217\n",
      "Imputing row 6101/15661 with 0 missing, elapsed time: 589.521\n",
      "Imputing row 6201/15661 with 0 missing, elapsed time: 589.752\n",
      "Imputing row 6301/15661 with 0 missing, elapsed time: 589.836\n",
      "Imputing row 6401/15661 with 0 missing, elapsed time: 590.082\n",
      "Imputing row 6501/15661 with 0 missing, elapsed time: 590.261\n",
      "Imputing row 6601/15661 with 0 missing, elapsed time: 590.548\n",
      "Imputing row 6701/15661 with 0 missing, elapsed time: 590.739\n",
      "Imputing row 6801/15661 with 0 missing, elapsed time: 591.055\n",
      "Imputing row 6901/15661 with 0 missing, elapsed time: 591.293\n",
      "Imputing row 7001/15661 with 0 missing, elapsed time: 591.740\n",
      "Imputing row 7101/15661 with 0 missing, elapsed time: 592.312\n",
      "Imputing row 7201/15661 with 0 missing, elapsed time: 593.084\n",
      "Imputing row 7301/15661 with 0 missing, elapsed time: 593.743\n",
      "Imputing row 7401/15661 with 0 missing, elapsed time: 594.295\n",
      "Imputing row 7501/15661 with 0 missing, elapsed time: 595.446\n",
      "Imputing row 7601/15661 with 0 missing, elapsed time: 595.799\n",
      "Imputing row 7701/15661 with 0 missing, elapsed time: 595.934\n",
      "Imputing row 7801/15661 with 0 missing, elapsed time: 596.175\n",
      "Imputing row 7901/15661 with 1 missing, elapsed time: 596.694\n",
      "Imputing row 8001/15661 with 0 missing, elapsed time: 598.829\n",
      "Imputing row 8101/15661 with 0 missing, elapsed time: 598.990\n",
      "Imputing row 8201/15661 with 0 missing, elapsed time: 599.822\n",
      "Imputing row 8301/15661 with 0 missing, elapsed time: 600.120\n",
      "Imputing row 8401/15661 with 0 missing, elapsed time: 600.411\n",
      "Imputing row 8501/15661 with 0 missing, elapsed time: 600.416\n",
      "Imputing row 8601/15661 with 0 missing, elapsed time: 600.421\n",
      "Imputing row 8701/15661 with 0 missing, elapsed time: 600.426\n",
      "Imputing row 8801/15661 with 0 missing, elapsed time: 600.430\n",
      "Imputing row 8901/15661 with 0 missing, elapsed time: 600.981\n",
      "Imputing row 9001/15661 with 0 missing, elapsed time: 600.988\n",
      "Imputing row 9101/15661 with 0 missing, elapsed time: 600.996\n",
      "Imputing row 9201/15661 with 0 missing, elapsed time: 601.031\n",
      "Imputing row 9301/15661 with 0 missing, elapsed time: 601.033\n",
      "Imputing row 9401/15661 with 0 missing, elapsed time: 601.612\n",
      "Imputing row 9501/15661 with 0 missing, elapsed time: 601.621\n",
      "Imputing row 9601/15661 with 0 missing, elapsed time: 601.628\n",
      "Imputing row 9701/15661 with 0 missing, elapsed time: 601.637\n",
      "Imputing row 9801/15661 with 0 missing, elapsed time: 601.645\n",
      "Imputing row 9901/15661 with 0 missing, elapsed time: 601.650\n",
      "Imputing row 10001/15661 with 0 missing, elapsed time: 601.656\n",
      "Imputing row 10101/15661 with 0 missing, elapsed time: 601.658\n",
      "Imputing row 10201/15661 with 0 missing, elapsed time: 601.660\n",
      "Imputing row 10301/15661 with 0 missing, elapsed time: 601.663\n",
      "Imputing row 10401/15661 with 0 missing, elapsed time: 601.666\n",
      "Imputing row 10501/15661 with 0 missing, elapsed time: 602.671\n",
      "Imputing row 10601/15661 with 0 missing, elapsed time: 605.860\n",
      "Imputing row 10701/15661 with 0 missing, elapsed time: 609.001\n",
      "Imputing row 10801/15661 with 0 missing, elapsed time: 609.027\n",
      "Imputing row 10901/15661 with 0 missing, elapsed time: 609.033\n",
      "Imputing row 11001/15661 with 0 missing, elapsed time: 609.037\n",
      "Imputing row 11101/15661 with 0 missing, elapsed time: 609.041\n",
      "Imputing row 11201/15661 with 0 missing, elapsed time: 609.044\n",
      "Imputing row 11301/15661 with 0 missing, elapsed time: 609.047\n",
      "Imputing row 11401/15661 with 0 missing, elapsed time: 609.051\n",
      "Imputing row 11501/15661 with 0 missing, elapsed time: 609.056\n",
      "Imputing row 11601/15661 with 0 missing, elapsed time: 609.060\n",
      "Imputing row 11701/15661 with 1 missing, elapsed time: 609.064\n",
      "Imputing row 11801/15661 with 0 missing, elapsed time: 609.069\n",
      "Imputing row 11901/15661 with 0 missing, elapsed time: 609.071\n",
      "Imputing row 12001/15661 with 0 missing, elapsed time: 609.154\n",
      "Imputing row 12101/15661 with 0 missing, elapsed time: 610.073\n",
      "Imputing row 12201/15661 with 0 missing, elapsed time: 610.853\n",
      "Imputing row 12301/15661 with 1 missing, elapsed time: 610.987\n",
      "Imputing row 12401/15661 with 0 missing, elapsed time: 611.982\n",
      "Imputing row 12501/15661 with 0 missing, elapsed time: 613.483\n",
      "Imputing row 12601/15661 with 1 missing, elapsed time: 613.909\n",
      "Imputing row 12701/15661 with 0 missing, elapsed time: 615.663\n",
      "Imputing row 12801/15661 with 0 missing, elapsed time: 616.955\n",
      "Imputing row 12901/15661 with 0 missing, elapsed time: 617.267\n",
      "Imputing row 13001/15661 with 0 missing, elapsed time: 618.675\n",
      "Imputing row 13101/15661 with 0 missing, elapsed time: 618.937\n"
     ]
    },
    {
     "name": "stdout",
     "output_type": "stream",
     "text": [
      "Imputing row 13201/15661 with 0 missing, elapsed time: 619.194\n",
      "Imputing row 13301/15661 with 0 missing, elapsed time: 620.163\n",
      "Imputing row 13401/15661 with 0 missing, elapsed time: 624.513\n",
      "Imputing row 13501/15661 with 0 missing, elapsed time: 627.000\n",
      "Imputing row 13601/15661 with 1 missing, elapsed time: 627.350\n",
      "Imputing row 13701/15661 with 0 missing, elapsed time: 627.732\n",
      "Imputing row 13801/15661 with 0 missing, elapsed time: 628.110\n",
      "Imputing row 13901/15661 with 0 missing, elapsed time: 628.188\n",
      "Imputing row 14001/15661 with 0 missing, elapsed time: 629.304\n",
      "Imputing row 14101/15661 with 0 missing, elapsed time: 630.168\n",
      "Imputing row 14201/15661 with 0 missing, elapsed time: 630.994\n",
      "Imputing row 14301/15661 with 0 missing, elapsed time: 631.246\n",
      "Imputing row 14401/15661 with 0 missing, elapsed time: 631.727\n",
      "Imputing row 14501/15661 with 1 missing, elapsed time: 632.655\n",
      "Imputing row 14601/15661 with 0 missing, elapsed time: 633.252\n",
      "Imputing row 14701/15661 with 0 missing, elapsed time: 634.629\n",
      "Imputing row 14801/15661 with 0 missing, elapsed time: 634.995\n",
      "Imputing row 14901/15661 with 0 missing, elapsed time: 635.223\n",
      "Imputing row 15001/15661 with 0 missing, elapsed time: 635.960\n",
      "Imputing row 15101/15661 with 0 missing, elapsed time: 636.280\n",
      "Imputing row 15201/15661 with 0 missing, elapsed time: 636.609\n",
      "Imputing row 15301/15661 with 0 missing, elapsed time: 636.839\n",
      "Imputing row 15401/15661 with 0 missing, elapsed time: 637.329\n",
      "Imputing row 15501/15661 with 0 missing, elapsed time: 637.672\n",
      "Imputing row 15601/15661 with 0 missing, elapsed time: 637.860\n"
     ]
    }
   ],
   "source": [
    "training = pd.DataFrame(KNN(k = 3).fit_transform(training), columns = training.columns, index=training.index) "
   ]
  },
  {
   "cell_type": "code",
   "execution_count": 76,
   "metadata": {},
   "outputs": [],
   "source": [
    "training['passenger_count']=training['passenger_count'].astype('int').round().astype('object').astype('category')"
   ]
  },
  {
   "cell_type": "code",
   "execution_count": 77,
   "metadata": {},
   "outputs": [],
   "source": [
    "df_2 = training.copy()"
   ]
  },
  {
   "cell_type": "code",
   "execution_count": 78,
   "metadata": {},
   "outputs": [],
   "source": [
    "training=df_2.copy()"
   ]
  },
  {
   "cell_type": "code",
   "execution_count": 79,
   "metadata": {},
   "outputs": [
    {
     "data": {
      "text/plain": [
       "(15661, 6)"
      ]
     },
     "execution_count": 79,
     "metadata": {},
     "output_type": "execute_result"
    }
   ],
   "source": [
    "training.shape"
   ]
  },
  {
   "cell_type": "code",
   "execution_count": null,
   "metadata": {},
   "outputs": [],
   "source": []
  },
  {
   "cell_type": "code",
   "execution_count": 80,
   "metadata": {},
   "outputs": [],
   "source": [
    "#######  FEATURE ENGINEERING########### done\n",
    "training = pd.merge(pickup_datetime,training,right_index=True,left_index=True)"
   ]
  },
  {
   "cell_type": "code",
   "execution_count": 81,
   "metadata": {},
   "outputs": [
    {
     "data": {
      "text/plain": [
       "(15661, 7)"
      ]
     },
     "execution_count": 81,
     "metadata": {},
     "output_type": "execute_result"
    }
   ],
   "source": [
    "training.shape"
   ]
  },
  {
   "cell_type": "code",
   "execution_count": 82,
   "metadata": {},
   "outputs": [],
   "source": [
    "training=training.reset_index(drop=True)"
   ]
  },
  {
   "cell_type": "code",
   "execution_count": 83,
   "metadata": {},
   "outputs": [
    {
     "data": {
      "text/plain": [
       "pickup_datetime      1\n",
       "fare_amount          0\n",
       "pickup_longitude     0\n",
       "pickup_latitude      0\n",
       "dropoff_longitude    0\n",
       "dropoff_latitude     0\n",
       "passenger_count      0\n",
       "dtype: int64"
      ]
     },
     "execution_count": 83,
     "metadata": {},
     "output_type": "execute_result"
    }
   ],
   "source": [
    "training.isna().sum()"
   ]
  },
  {
   "cell_type": "code",
   "execution_count": 84,
   "metadata": {},
   "outputs": [
    {
     "data": {
      "text/html": [
       "<div>\n",
       "<style scoped>\n",
       "    .dataframe tbody tr th:only-of-type {\n",
       "        vertical-align: middle;\n",
       "    }\n",
       "\n",
       "    .dataframe tbody tr th {\n",
       "        vertical-align: top;\n",
       "    }\n",
       "\n",
       "    .dataframe thead th {\n",
       "        text-align: right;\n",
       "    }\n",
       "</style>\n",
       "<table border=\"1\" class=\"dataframe\">\n",
       "  <thead>\n",
       "    <tr style=\"text-align: right;\">\n",
       "      <th></th>\n",
       "      <th>0</th>\n",
       "    </tr>\n",
       "  </thead>\n",
       "  <tbody>\n",
       "    <tr>\n",
       "      <td>pickup_datetime</td>\n",
       "      <td>1</td>\n",
       "    </tr>\n",
       "    <tr>\n",
       "      <td>fare_amount</td>\n",
       "      <td>0</td>\n",
       "    </tr>\n",
       "    <tr>\n",
       "      <td>pickup_longitude</td>\n",
       "      <td>0</td>\n",
       "    </tr>\n",
       "    <tr>\n",
       "      <td>pickup_latitude</td>\n",
       "      <td>0</td>\n",
       "    </tr>\n",
       "    <tr>\n",
       "      <td>dropoff_longitude</td>\n",
       "      <td>0</td>\n",
       "    </tr>\n",
       "    <tr>\n",
       "      <td>dropoff_latitude</td>\n",
       "      <td>0</td>\n",
       "    </tr>\n",
       "    <tr>\n",
       "      <td>passenger_count</td>\n",
       "      <td>0</td>\n",
       "    </tr>\n",
       "  </tbody>\n",
       "</table>\n",
       "</div>"
      ],
      "text/plain": [
       "                   0\n",
       "pickup_datetime    1\n",
       "fare_amount        0\n",
       "pickup_longitude   0\n",
       "pickup_latitude    0\n",
       "dropoff_longitude  0\n",
       "dropoff_latitude   0\n",
       "passenger_count    0"
      ]
     },
     "execution_count": 84,
     "metadata": {},
     "output_type": "execute_result"
    }
   ],
   "source": [
    "pd.DataFrame(training.isna().sum())"
   ]
  },
  {
   "cell_type": "code",
   "execution_count": 85,
   "metadata": {},
   "outputs": [],
   "source": [
    "training=training.dropna()"
   ]
  },
  {
   "cell_type": "code",
   "execution_count": 86,
   "metadata": {},
   "outputs": [
    {
     "data": {
      "text/plain": [
       "(15660, 7)"
      ]
     },
     "execution_count": 86,
     "metadata": {},
     "output_type": "execute_result"
    }
   ],
   "source": [
    "training.shape"
   ]
  },
  {
   "cell_type": "code",
   "execution_count": 87,
   "metadata": {},
   "outputs": [],
   "source": [
    "car_data = [training,testing]\n",
    "for i in car_data:\n",
    "    i[\"year\"] = i[\"pickup_datetime\"].apply(lambda row: row.year)\n",
    "    i[\"month\"] = i[\"pickup_datetime\"].apply(lambda row: row.month)\n",
    "    i[\"day_of_week\"] = i[\"pickup_datetime\"].apply(lambda row: row.dayofweek)\n",
    "    i[\"hour\"] = i[\"pickup_datetime\"].apply(lambda row: row.hour)"
   ]
  },
  {
   "cell_type": "code",
   "execution_count": 88,
   "metadata": {},
   "outputs": [],
   "source": [
    "def function1(x):\n",
    "    '''  HOUR COLUMN SESSION '''\n",
    "    if (x >=5) and (x <= 11):\n",
    "        return 'morning'\n",
    "    elif (x >=12) and (x <=16 ):\n",
    "        return 'afternoon'\n",
    "    elif (x >= 17) and (x <= 20):\n",
    "        return'evening'\n",
    "    elif (x >=21) and (x <= 23) :\n",
    "        return 'night_PM'\n",
    "    elif (x >=0) and (x <=4):\n",
    "        return'night_AM'"
   ]
  },
  {
   "cell_type": "code",
   "execution_count": 89,
   "metadata": {},
   "outputs": [],
   "source": [
    "def function2(x):\n",
    "    ''' MONTH COLUMN (YEAR SEASON)'''\n",
    "    if (x >=3) and (x <= 5):\n",
    "        return 'spring'\n",
    "    elif (x >=6) and (x <=8 ):\n",
    "        return 'summer'\n",
    "    elif (x >= 9) and (x <= 11):\n",
    "        return'fall'\n",
    "    elif (x >=12)|(x <= 2) :\n",
    "        return 'winter'"
   ]
  },
  {
   "cell_type": "code",
   "execution_count": 90,
   "metadata": {},
   "outputs": [],
   "source": [
    "def function3(x):\n",
    "    '''  DAY OF WEEK COLUMN '''\n",
    "    if (x >=0) and (x <= 4):\n",
    "        return 'weekday'\n",
    "    elif (x >=5) and (x <=6 ):\n",
    "        return 'weekend'"
   ]
  },
  {
   "cell_type": "code",
   "execution_count": 91,
   "metadata": {},
   "outputs": [],
   "source": [
    "training['session'] = training['hour'].apply(function1)\n",
    "training['week'] = training['day_of_week'].apply(function3)\n",
    "training['seasons'] = training['month'].apply(function2)"
   ]
  },
  {
   "cell_type": "code",
   "execution_count": 92,
   "metadata": {},
   "outputs": [],
   "source": [
    "testing['session'] = testing['hour'].apply(function1)\n",
    "testing['week'] = testing['day_of_week'].apply(function3)\n",
    "testing['seasons'] = testing['month'].apply(function2)"
   ]
  },
  {
   "cell_type": "code",
   "execution_count": 93,
   "metadata": {},
   "outputs": [
    {
     "data": {
      "text/plain": [
       "(15660, 14)"
      ]
     },
     "execution_count": 93,
     "metadata": {},
     "output_type": "execute_result"
    }
   ],
   "source": [
    "training.shape\n"
   ]
  },
  {
   "cell_type": "code",
   "execution_count": 94,
   "metadata": {},
   "outputs": [
    {
     "data": {
      "text/plain": [
       "(9914, 13)"
      ]
     },
     "execution_count": 94,
     "metadata": {},
     "output_type": "execute_result"
    }
   ],
   "source": [
    "testing.shape"
   ]
  },
  {
   "cell_type": "code",
   "execution_count": 95,
   "metadata": {},
   "outputs": [],
   "source": [
    "dummy_var = pd.get_dummies(testing['year'], prefix = 'year')\n",
    "testing = testing.join(dummy_var)\n",
    "\n",
    "dummy_var = pd.get_dummies(training['year'], prefix = 'year')\n",
    "training = training.join(dummy_var)\n",
    "\n",
    "dummy_var = pd.get_dummies(training['session'], prefix = 'session')\n",
    "training = training.join(dummy_var)\n",
    "\n",
    "dummy_var = pd.get_dummies(testing['session'], prefix = 'session')\n",
    "testing = testing.join(dummy_var)\n",
    "\n",
    "dummy_var = pd.get_dummies(training['week'], prefix = 'week')\n",
    "training = training.join(dummy_var)\n",
    "\n",
    "dummy_var = pd.get_dummies(testing['week'], prefix = 'week')\n",
    "testing = testing.join(dummy_var)\n",
    "\n",
    "dummy_var = pd.get_dummies(training['seasons'], prefix = 'season')\n",
    "training = training.join(dummy_var)\n",
    "\n",
    "dummy_var = pd.get_dummies(testing['seasons'], prefix = 'season')\n",
    "testing = testing.join(dummy_var)\n",
    "\n",
    "dummy_var = pd.get_dummies(training['passenger_count'], prefix = 'passenger_count')\n",
    "training = training.join(dummy_var)\n",
    "\n",
    "dummy_var = pd.get_dummies(testing['passenger_count'], prefix = 'passenger_count')\n",
    "testing = testing.join(dummy_var)"
   ]
  },
  {
   "cell_type": "code",
   "execution_count": 96,
   "metadata": {},
   "outputs": [],
   "source": [
    "x=training.columns"
   ]
  },
  {
   "cell_type": "code",
   "execution_count": 97,
   "metadata": {},
   "outputs": [
    {
     "data": {
      "text/plain": [
       "Index(['pickup_datetime', 'fare_amount', 'pickup_longitude', 'pickup_latitude',\n",
       "       'dropoff_longitude', 'dropoff_latitude', 'passenger_count', 'year',\n",
       "       'month', 'day_of_week', 'hour', 'session', 'week', 'seasons',\n",
       "       'year_2009', 'year_2010', 'year_2011', 'year_2012', 'year_2013',\n",
       "       'year_2014', 'year_2015', 'session_afternoon', 'session_evening',\n",
       "       'session_morning', 'session_night_AM', 'session_night_PM',\n",
       "       'week_weekday', 'week_weekend', 'season_fall', 'season_spring',\n",
       "       'season_summer', 'season_winter', 'passenger_count_1',\n",
       "       'passenger_count_2', 'passenger_count_3', 'passenger_count_4',\n",
       "       'passenger_count_5', 'passenger_count_6'],\n",
       "      dtype='object')"
      ]
     },
     "execution_count": 97,
     "metadata": {},
     "output_type": "execute_result"
    }
   ],
   "source": [
    "x"
   ]
  },
  {
   "cell_type": "code",
   "execution_count": null,
   "metadata": {},
   "outputs": [],
   "source": []
  },
  {
   "cell_type": "code",
   "execution_count": 98,
   "metadata": {},
   "outputs": [],
   "source": [
    "training=training.drop(['passenger_count_1','season_fall','week_weekday','session_afternoon','year_2009'],axis=1)\n"
   ]
  },
  {
   "cell_type": "code",
   "execution_count": null,
   "metadata": {},
   "outputs": [],
   "source": []
  },
  {
   "cell_type": "code",
   "execution_count": null,
   "metadata": {},
   "outputs": [],
   "source": []
  },
  {
   "cell_type": "code",
   "execution_count": 99,
   "metadata": {},
   "outputs": [],
   "source": [
    "testing=testing.drop(['passenger_count_1','season_fall','week_weekday','session_afternoon','year_2009'],axis=1)"
   ]
  },
  {
   "cell_type": "code",
   "execution_count": 100,
   "metadata": {},
   "outputs": [
    {
     "data": {
      "text/plain": [
       "Index(['pickup_datetime', 'pickup_longitude', 'pickup_latitude',\n",
       "       'dropoff_longitude', 'dropoff_latitude', 'passenger_count', 'year',\n",
       "       'month', 'day_of_week', 'hour', 'session', 'week', 'seasons',\n",
       "       'year_2010', 'year_2011', 'year_2012', 'year_2013', 'year_2014',\n",
       "       'year_2015', 'session_evening', 'session_morning', 'session_night_AM',\n",
       "       'session_night_PM', 'week_weekend', 'season_spring', 'season_summer',\n",
       "       'season_winter', 'passenger_count_2', 'passenger_count_3',\n",
       "       'passenger_count_4', 'passenger_count_5', 'passenger_count_6'],\n",
       "      dtype='object')"
      ]
     },
     "execution_count": 100,
     "metadata": {},
     "output_type": "execute_result"
    }
   ],
   "source": [
    "testing.columns"
   ]
  },
  {
   "cell_type": "code",
   "execution_count": 101,
   "metadata": {},
   "outputs": [],
   "source": [
    "car_data = [training,testing]\n",
    "for i in car_data:\n",
    "    i['great_circle']=i.apply(lambda x: great_circle((x['pickup_latitude'],x['pickup_longitude']), (x['dropoff_latitude'],   x['dropoff_longitude'])).miles, axis=1)\n",
    "    i['geodesic']=i.apply(lambda x: geodesic((x['pickup_latitude'],x['pickup_longitude']), (x['dropoff_latitude'],   x['dropoff_longitude'])).miles, axis=1)"
   ]
  },
  {
   "cell_type": "code",
   "execution_count": 102,
   "metadata": {},
   "outputs": [],
   "source": [
    "training=training.drop(['pickup_datetime','pickup_longitude', 'pickup_latitude',\n",
    "       'dropoff_longitude', 'dropoff_latitude', 'passenger_count', 'year',\n",
    "       'month', 'day_of_week', 'hour', 'session', 'seasons', 'week','great_circle'],axis=1)\n",
    "testing=testing.drop(['pickup_datetime','pickup_longitude', 'pickup_latitude',\n",
    "       'dropoff_longitude', 'dropoff_latitude', 'passenger_count', 'year',\n",
    "       'month', 'day_of_week', 'hour', 'session', 'seasons', 'week','great_circle'],axis=1)\n",
    "\n"
   ]
  },
  {
   "cell_type": "code",
   "execution_count": 103,
   "metadata": {},
   "outputs": [
    {
     "data": {
      "text/plain": [
       "(15660, 21)"
      ]
     },
     "execution_count": 103,
     "metadata": {},
     "output_type": "execute_result"
    }
   ],
   "source": [
    "training.shape"
   ]
  },
  {
   "cell_type": "code",
   "execution_count": 104,
   "metadata": {},
   "outputs": [
    {
     "data": {
      "text/plain": [
       "(9914, 20)"
      ]
     },
     "execution_count": 104,
     "metadata": {},
     "output_type": "execute_result"
    }
   ],
   "source": [
    "testing.shape"
   ]
  },
  {
   "cell_type": "code",
   "execution_count": null,
   "metadata": {},
   "outputs": [],
   "source": []
  },
  {
   "cell_type": "code",
   "execution_count": 105,
   "metadata": {},
   "outputs": [],
   "source": [
    "#pd.DataFrame(training.isna().sum())"
   ]
  },
  {
   "cell_type": "code",
   "execution_count": 106,
   "metadata": {},
   "outputs": [],
   "source": [
    "#pd.DataFrame(testing.isna().sum())"
   ]
  },
  {
   "cell_type": "code",
   "execution_count": 107,
   "metadata": {},
   "outputs": [
    {
     "data": {
      "image/png": "[encoded data removed]",
      "text/plain": [
       "<Figure size 1440x360 with 1 Axes>"
      ]
     },
     "metadata": {
      "needs_background": "light"
     },
     "output_type": "display_data"
    }
   ],
   "source": [
    "plt.figure(figsize=(20,5)) \n",
    "plt.xlim(0,100)\n",
    "sns.boxplot(x=training['geodesic'],data=training,orient='h')\n",
    "plt.title('geodesic plot ')\n",
    "plt.show()"
   ]
  },
  {
   "cell_type": "code",
   "execution_count": 108,
   "metadata": {},
   "outputs": [
    {
     "name": "stdout",
     "output_type": "stream",
     "text": [
      "2.425668049965582 0.7815214474966259\n",
      "-1.6846984562068081 4.891887953669016\n"
     ]
    }
   ],
   "source": [
    "outlier_analysis('geodesic')"
   ]
  },
  {
   "cell_type": "code",
   "execution_count": 109,
   "metadata": {},
   "outputs": [
    {
     "data": {
      "text/html": [
       "<div>\n",
       "<style scoped>\n",
       "    .dataframe tbody tr th:only-of-type {\n",
       "        vertical-align: middle;\n",
       "    }\n",
       "\n",
       "    .dataframe tbody tr th {\n",
       "        vertical-align: top;\n",
       "    }\n",
       "\n",
       "    .dataframe thead th {\n",
       "        text-align: right;\n",
       "    }\n",
       "</style>\n",
       "<table border=\"1\" class=\"dataframe\">\n",
       "  <thead>\n",
       "    <tr style=\"text-align: right;\">\n",
       "      <th></th>\n",
       "      <th>0</th>\n",
       "    </tr>\n",
       "  </thead>\n",
       "  <tbody>\n",
       "    <tr>\n",
       "      <td>fare_amount</td>\n",
       "      <td>0</td>\n",
       "    </tr>\n",
       "    <tr>\n",
       "      <td>year_2010</td>\n",
       "      <td>0</td>\n",
       "    </tr>\n",
       "    <tr>\n",
       "      <td>year_2011</td>\n",
       "      <td>0</td>\n",
       "    </tr>\n",
       "    <tr>\n",
       "      <td>year_2012</td>\n",
       "      <td>0</td>\n",
       "    </tr>\n",
       "    <tr>\n",
       "      <td>year_2013</td>\n",
       "      <td>0</td>\n",
       "    </tr>\n",
       "    <tr>\n",
       "      <td>year_2014</td>\n",
       "      <td>0</td>\n",
       "    </tr>\n",
       "    <tr>\n",
       "      <td>year_2015</td>\n",
       "      <td>0</td>\n",
       "    </tr>\n",
       "    <tr>\n",
       "      <td>session_evening</td>\n",
       "      <td>0</td>\n",
       "    </tr>\n",
       "    <tr>\n",
       "      <td>session_morning</td>\n",
       "      <td>0</td>\n",
       "    </tr>\n",
       "    <tr>\n",
       "      <td>session_night_AM</td>\n",
       "      <td>0</td>\n",
       "    </tr>\n",
       "    <tr>\n",
       "      <td>session_night_PM</td>\n",
       "      <td>0</td>\n",
       "    </tr>\n",
       "    <tr>\n",
       "      <td>week_weekend</td>\n",
       "      <td>0</td>\n",
       "    </tr>\n",
       "    <tr>\n",
       "      <td>season_spring</td>\n",
       "      <td>0</td>\n",
       "    </tr>\n",
       "    <tr>\n",
       "      <td>season_summer</td>\n",
       "      <td>0</td>\n",
       "    </tr>\n",
       "    <tr>\n",
       "      <td>season_winter</td>\n",
       "      <td>0</td>\n",
       "    </tr>\n",
       "    <tr>\n",
       "      <td>passenger_count_2</td>\n",
       "      <td>0</td>\n",
       "    </tr>\n",
       "    <tr>\n",
       "      <td>passenger_count_3</td>\n",
       "      <td>0</td>\n",
       "    </tr>\n",
       "    <tr>\n",
       "      <td>passenger_count_4</td>\n",
       "      <td>0</td>\n",
       "    </tr>\n",
       "    <tr>\n",
       "      <td>passenger_count_5</td>\n",
       "      <td>0</td>\n",
       "    </tr>\n",
       "    <tr>\n",
       "      <td>passenger_count_6</td>\n",
       "      <td>0</td>\n",
       "    </tr>\n",
       "    <tr>\n",
       "      <td>geodesic</td>\n",
       "      <td>1348</td>\n",
       "    </tr>\n",
       "  </tbody>\n",
       "</table>\n",
       "</div>"
      ],
      "text/plain": [
       "                      0\n",
       "fare_amount           0\n",
       "year_2010             0\n",
       "year_2011             0\n",
       "year_2012             0\n",
       "year_2013             0\n",
       "year_2014             0\n",
       "year_2015             0\n",
       "session_evening       0\n",
       "session_morning       0\n",
       "session_night_AM      0\n",
       "session_night_PM      0\n",
       "week_weekend          0\n",
       "season_spring         0\n",
       "season_summer         0\n",
       "season_winter         0\n",
       "passenger_count_2     0\n",
       "passenger_count_3     0\n",
       "passenger_count_4     0\n",
       "passenger_count_5     0\n",
       "passenger_count_6     0\n",
       "geodesic           1348"
      ]
     },
     "execution_count": 109,
     "metadata": {},
     "output_type": "execute_result"
    }
   ],
   "source": [
    "pd.DataFrame(training.isnull().sum())"
   ]
  },
  {
   "cell_type": "code",
   "execution_count": 110,
   "metadata": {},
   "outputs": [
    {
     "name": "stdout",
     "output_type": "stream",
     "text": [
      "Imputing row 1/15660 with 0 missing, elapsed time: 570.215\n",
      "Imputing row 101/15660 with 0 missing, elapsed time: 609.841\n",
      "Imputing row 201/15660 with 0 missing, elapsed time: 624.172\n",
      "Imputing row 301/15660 with 1 missing, elapsed time: 626.391\n",
      "Imputing row 401/15660 with 0 missing, elapsed time: 628.406\n",
      "Imputing row 501/15660 with 0 missing, elapsed time: 629.547\n",
      "Imputing row 601/15660 with 1 missing, elapsed time: 630.094\n",
      "Imputing row 701/15660 with 0 missing, elapsed time: 632.125\n",
      "Imputing row 801/15660 with 0 missing, elapsed time: 633.672\n",
      "Imputing row 901/15660 with 0 missing, elapsed time: 634.782\n",
      "Imputing row 1001/15660 with 0 missing, elapsed time: 635.626\n",
      "Imputing row 1101/15660 with 1 missing, elapsed time: 637.251\n",
      "Imputing row 1201/15660 with 0 missing, elapsed time: 638.872\n",
      "Imputing row 1301/15660 with 0 missing, elapsed time: 640.339\n",
      "Imputing row 1401/15660 with 0 missing, elapsed time: 641.956\n",
      "Imputing row 1501/15660 with 0 missing, elapsed time: 642.723\n",
      "Imputing row 1601/15660 with 0 missing, elapsed time: 644.300\n",
      "Imputing row 1701/15660 with 0 missing, elapsed time: 646.443\n",
      "Imputing row 1801/15660 with 0 missing, elapsed time: 648.459\n",
      "Imputing row 1901/15660 with 0 missing, elapsed time: 648.907\n",
      "Imputing row 2001/15660 with 0 missing, elapsed time: 650.403\n",
      "Imputing row 2101/15660 with 0 missing, elapsed time: 651.054\n",
      "Imputing row 2201/15660 with 1 missing, elapsed time: 652.501\n",
      "Imputing row 2301/15660 with 0 missing, elapsed time: 653.306\n",
      "Imputing row 2401/15660 with 0 missing, elapsed time: 654.808\n",
      "Imputing row 2501/15660 with 0 missing, elapsed time: 654.965\n",
      "Imputing row 2601/15660 with 0 missing, elapsed time: 657.125\n",
      "Imputing row 2701/15660 with 0 missing, elapsed time: 659.343\n",
      "Imputing row 2801/15660 with 0 missing, elapsed time: 662.720\n",
      "Imputing row 2901/15660 with 0 missing, elapsed time: 664.045\n",
      "Imputing row 3001/15660 with 0 missing, elapsed time: 664.689\n",
      "Imputing row 3101/15660 with 1 missing, elapsed time: 666.088\n",
      "Imputing row 3201/15660 with 0 missing, elapsed time: 668.082\n",
      "Imputing row 3301/15660 with 0 missing, elapsed time: 669.414\n",
      "Imputing row 3401/15660 with 0 missing, elapsed time: 671.097\n",
      "Imputing row 3501/15660 with 0 missing, elapsed time: 672.909\n",
      "Imputing row 3601/15660 with 0 missing, elapsed time: 675.090\n",
      "Imputing row 3701/15660 with 0 missing, elapsed time: 678.458\n",
      "Imputing row 3801/15660 with 0 missing, elapsed time: 679.802\n",
      "Imputing row 3901/15660 with 1 missing, elapsed time: 681.116\n",
      "Imputing row 4001/15660 with 0 missing, elapsed time: 682.280\n",
      "Imputing row 4101/15660 with 1 missing, elapsed time: 684.351\n",
      "Imputing row 4201/15660 with 0 missing, elapsed time: 685.368\n",
      "Imputing row 4301/15660 with 0 missing, elapsed time: 686.681\n",
      "Imputing row 4401/15660 with 0 missing, elapsed time: 688.739\n",
      "Imputing row 4501/15660 with 0 missing, elapsed time: 689.546\n",
      "Imputing row 4601/15660 with 0 missing, elapsed time: 692.233\n",
      "Imputing row 4701/15660 with 0 missing, elapsed time: 693.250\n",
      "Imputing row 4801/15660 with 0 missing, elapsed time: 695.344\n",
      "Imputing row 4901/15660 with 0 missing, elapsed time: 696.146\n",
      "Imputing row 5001/15660 with 0 missing, elapsed time: 696.968\n",
      "Imputing row 5101/15660 with 0 missing, elapsed time: 700.272\n",
      "Imputing row 5201/15660 with 0 missing, elapsed time: 700.534\n",
      "Imputing row 5301/15660 with 0 missing, elapsed time: 701.073\n",
      "Imputing row 5401/15660 with 0 missing, elapsed time: 702.720\n",
      "Imputing row 5501/15660 with 0 missing, elapsed time: 706.625\n",
      "Imputing row 5601/15660 with 0 missing, elapsed time: 708.077\n",
      "Imputing row 5701/15660 with 0 missing, elapsed time: 711.098\n",
      "Imputing row 5801/15660 with 0 missing, elapsed time: 711.766\n",
      "Imputing row 5901/15660 with 0 missing, elapsed time: 712.036\n",
      "Imputing row 6001/15660 with 0 missing, elapsed time: 715.303\n",
      "Imputing row 6101/15660 with 0 missing, elapsed time: 720.556\n",
      "Imputing row 6201/15660 with 0 missing, elapsed time: 721.504\n",
      "Imputing row 6301/15660 with 0 missing, elapsed time: 721.551\n",
      "Imputing row 6401/15660 with 0 missing, elapsed time: 721.598\n",
      "Imputing row 6501/15660 with 1 missing, elapsed time: 721.614\n",
      "Imputing row 6601/15660 with 0 missing, elapsed time: 721.660\n",
      "Imputing row 6701/15660 with 0 missing, elapsed time: 721.692\n",
      "Imputing row 6801/15660 with 0 missing, elapsed time: 721.864\n",
      "Imputing row 6901/15660 with 0 missing, elapsed time: 721.884\n",
      "Imputing row 7001/15660 with 0 missing, elapsed time: 721.930\n",
      "Imputing row 7101/15660 with 1 missing, elapsed time: 721.964\n",
      "Imputing row 7201/15660 with 0 missing, elapsed time: 721.974\n",
      "Imputing row 7301/15660 with 0 missing, elapsed time: 722.008\n",
      "Imputing row 7401/15660 with 1 missing, elapsed time: 722.014\n",
      "Imputing row 7501/15660 with 0 missing, elapsed time: 722.467\n",
      "Imputing row 7601/15660 with 0 missing, elapsed time: 725.883\n",
      "Imputing row 7701/15660 with 0 missing, elapsed time: 726.147\n",
      "Imputing row 7801/15660 with 0 missing, elapsed time: 726.908\n",
      "Imputing row 7901/15660 with 0 missing, elapsed time: 727.048\n",
      "Imputing row 8001/15660 with 0 missing, elapsed time: 727.064\n",
      "Imputing row 8101/15660 with 0 missing, elapsed time: 727.939\n",
      "Imputing row 8201/15660 with 0 missing, elapsed time: 727.954\n",
      "Imputing row 8301/15660 with 0 missing, elapsed time: 727.954\n",
      "Imputing row 8401/15660 with 0 missing, elapsed time: 727.954\n",
      "Imputing row 8501/15660 with 0 missing, elapsed time: 727.970\n",
      "Imputing row 8601/15660 with 0 missing, elapsed time: 727.970\n",
      "Imputing row 8701/15660 with 0 missing, elapsed time: 727.970\n",
      "Imputing row 8801/15660 with 0 missing, elapsed time: 727.970\n",
      "Imputing row 8901/15660 with 0 missing, elapsed time: 727.970\n",
      "Imputing row 9001/15660 with 0 missing, elapsed time: 727.986\n",
      "Imputing row 9101/15660 with 0 missing, elapsed time: 727.986\n",
      "Imputing row 9201/15660 with 0 missing, elapsed time: 727.986\n",
      "Imputing row 9301/15660 with 0 missing, elapsed time: 728.751\n",
      "Imputing row 9401/15660 with 0 missing, elapsed time: 728.751\n",
      "Imputing row 9501/15660 with 0 missing, elapsed time: 728.767\n",
      "Imputing row 9601/15660 with 1 missing, elapsed time: 728.767\n",
      "Imputing row 9701/15660 with 0 missing, elapsed time: 728.767\n",
      "Imputing row 9801/15660 with 0 missing, elapsed time: 728.767\n",
      "Imputing row 9901/15660 with 1 missing, elapsed time: 728.767\n",
      "Imputing row 10001/15660 with 0 missing, elapsed time: 728.783\n",
      "Imputing row 10101/15660 with 0 missing, elapsed time: 728.783\n",
      "Imputing row 10201/15660 with 0 missing, elapsed time: 728.783\n",
      "Imputing row 10301/15660 with 0 missing, elapsed time: 728.783\n",
      "Imputing row 10401/15660 with 0 missing, elapsed time: 728.798\n",
      "Imputing row 10501/15660 with 0 missing, elapsed time: 728.798\n",
      "Imputing row 10601/15660 with 0 missing, elapsed time: 728.798\n",
      "Imputing row 10701/15660 with 1 missing, elapsed time: 728.798\n",
      "Imputing row 10801/15660 with 0 missing, elapsed time: 728.798\n",
      "Imputing row 10901/15660 with 0 missing, elapsed time: 728.798\n",
      "Imputing row 11001/15660 with 0 missing, elapsed time: 728.798\n",
      "Imputing row 11101/15660 with 0 missing, elapsed time: 728.814\n",
      "Imputing row 11201/15660 with 0 missing, elapsed time: 728.814\n",
      "Imputing row 11301/15660 with 0 missing, elapsed time: 728.814\n",
      "Imputing row 11401/15660 with 0 missing, elapsed time: 728.814\n",
      "Imputing row 11501/15660 with 1 missing, elapsed time: 728.814\n",
      "Imputing row 11601/15660 with 0 missing, elapsed time: 728.814\n",
      "Imputing row 11701/15660 with 0 missing, elapsed time: 729.000\n",
      "Imputing row 11801/15660 with 0 missing, elapsed time: 729.005\n",
      "Imputing row 11901/15660 with 0 missing, elapsed time: 729.404\n",
      "Imputing row 12001/15660 with 0 missing, elapsed time: 729.420\n",
      "Imputing row 12101/15660 with 0 missing, elapsed time: 729.420\n",
      "Imputing row 12201/15660 with 0 missing, elapsed time: 729.420\n",
      "Imputing row 12301/15660 with 0 missing, elapsed time: 729.435\n",
      "Imputing row 12401/15660 with 0 missing, elapsed time: 729.435\n",
      "Imputing row 12501/15660 with 1 missing, elapsed time: 729.435\n",
      "Imputing row 12601/15660 with 0 missing, elapsed time: 729.435\n",
      "Imputing row 12701/15660 with 0 missing, elapsed time: 729.451\n",
      "Imputing row 12801/15660 with 0 missing, elapsed time: 729.451\n",
      "Imputing row 12901/15660 with 0 missing, elapsed time: 729.467\n",
      "Imputing row 13001/15660 with 0 missing, elapsed time: 729.467\n",
      "Imputing row 13101/15660 with 0 missing, elapsed time: 729.467\n",
      "Imputing row 13201/15660 with 1 missing, elapsed time: 729.467\n",
      "Imputing row 13301/15660 with 0 missing, elapsed time: 729.482\n",
      "Imputing row 13401/15660 with 0 missing, elapsed time: 729.482\n"
     ]
    },
    {
     "name": "stdout",
     "output_type": "stream",
     "text": [
      "Imputing row 13501/15660 with 0 missing, elapsed time: 730.324\n",
      "Imputing row 13601/15660 with 0 missing, elapsed time: 731.490\n",
      "Imputing row 13701/15660 with 0 missing, elapsed time: 732.423\n",
      "Imputing row 13801/15660 with 0 missing, elapsed time: 733.222\n",
      "Imputing row 13901/15660 with 0 missing, elapsed time: 733.225\n",
      "Imputing row 14001/15660 with 0 missing, elapsed time: 733.228\n",
      "Imputing row 14101/15660 with 0 missing, elapsed time: 733.257\n",
      "Imputing row 14201/15660 with 0 missing, elapsed time: 733.260\n",
      "Imputing row 14301/15660 with 0 missing, elapsed time: 733.263\n",
      "Imputing row 14401/15660 with 0 missing, elapsed time: 733.268\n",
      "Imputing row 14501/15660 with 1 missing, elapsed time: 733.272\n",
      "Imputing row 14601/15660 with 0 missing, elapsed time: 733.279\n",
      "Imputing row 14701/15660 with 0 missing, elapsed time: 733.307\n",
      "Imputing row 14801/15660 with 0 missing, elapsed time: 733.430\n",
      "Imputing row 14901/15660 with 0 missing, elapsed time: 733.862\n",
      "Imputing row 15001/15660 with 1 missing, elapsed time: 733.878\n",
      "Imputing row 15101/15660 with 0 missing, elapsed time: 733.909\n",
      "Imputing row 15201/15660 with 0 missing, elapsed time: 733.956\n",
      "Imputing row 15301/15660 with 0 missing, elapsed time: 733.987\n",
      "Imputing row 15401/15660 with 0 missing, elapsed time: 734.200\n",
      "Imputing row 15501/15660 with 1 missing, elapsed time: 735.231\n",
      "Imputing row 15601/15660 with 0 missing, elapsed time: 735.759\n"
     ]
    }
   ],
   "source": [
    "#Impute  missing values by applying KNN\n",
    "training = pd.DataFrame(KNN(k = 3).fit_transform(training), columns = training.columns, index=training.index)"
   ]
  },
  {
   "cell_type": "code",
   "execution_count": 111,
   "metadata": {},
   "outputs": [],
   "source": [
    "var_categorical=['passenger_count_2',\n",
    "       'passenger_count_3', 'passenger_count_4', 'passenger_count_5',\n",
    "       'passenger_count_6', 'season_spring', 'season_summer',\n",
    "       'season_winter', 'week_weekend',\n",
    "       'session_evening', 'session_morning', 'session_night_AM',\n",
    "       'session_night_PM', 'year_2010', 'year_2011',\n",
    "       'year_2012', 'year_2013', 'year_2014', 'year_2015']\n",
    "var_numerical=['fare_amount','geodesic']\n",
    "training[var_categorical]=training[var_categorical].apply(lambda x: x.astype('category') )\n",
    "testing[var_categorical]=testing[var_categorical].apply(lambda x: x.astype('category') )"
   ]
  },
  {
   "cell_type": "code",
   "execution_count": 112,
   "metadata": {},
   "outputs": [
    {
     "data": {
      "image/png": "[encoded data removed]",
      "text/plain": [
       "<Figure size 1440x1800 with 2 Axes>"
      ]
     },
     "metadata": {
      "needs_background": "light"
     },
     "output_type": "display_data"
    }
   ],
   "source": [
    "# heatmap plot  correlation matrix\n",
    "plt.figure(figsize=(20,25))\n",
    "_ = sns.heatmap(training[var_numerical].corr(), square=True, cmap='RdYlGn',linewidths=0.5,linecolor='w',annot=True)\n",
    "plt.title('CORRELATION MATRIX PLOT ')\n",
    "plt.show()"
   ]
  },
  {
   "cell_type": "code",
   "execution_count": 113,
   "metadata": {},
   "outputs": [
    {
     "name": "stdout",
     "output_type": "stream",
     "text": [
      "passenger_count_2 , passenger_count_3 are dependent on each other with 1.820132432926869e-27 :Eliminate\n",
      "passenger_count_2 , passenger_count_4 are dependent on each other with 1.1929671757972803e-13 :Eliminate\n",
      "passenger_count_2 , passenger_count_5 are dependent on each other with 1.1339005653493428e-42 :Eliminate\n",
      "passenger_count_2 , passenger_count_6 are dependent on each other with 1.0622556883488593e-12 :Eliminate\n",
      "passenger_count_2 , season_spring are independent on each other with 0.966028847581576 :Retain\n",
      "passenger_count_2 , season_summer are dependent on each other with 0.022816072292396496 :Eliminate\n",
      "passenger_count_2 , season_winter are independent on each other with 0.5033457371106519 :Retain\n",
      "passenger_count_2 , week_weekend are dependent on each other with 5.393179090345944e-11 :Eliminate\n",
      "passenger_count_2 , session_evening are dependent on each other with 0.01884692149256251 :Eliminate\n",
      "passenger_count_2 , session_morning are dependent on each other with 1.5585431051820502e-16 :Eliminate\n",
      "passenger_count_2 , session_night_AM are dependent on each other with 0.02490851809369289 :Eliminate\n",
      "passenger_count_2 , session_night_PM are dependent on each other with 3.813128039542455e-05 :Eliminate\n",
      "passenger_count_2 , year_2010 are independent on each other with 0.6869252168929907 :Retain\n",
      "passenger_count_2 , year_2011 are dependent on each other with 0.014089024151334647 :Eliminate\n",
      "passenger_count_2 , year_2012 are independent on each other with 0.9254504823450599 :Retain\n",
      "passenger_count_2 , year_2013 are independent on each other with 0.09833455497670668 :Retain\n",
      "passenger_count_2 , year_2014 are independent on each other with 0.24717319578690516 :Retain\n",
      "passenger_count_2 , year_2015 are independent on each other with 0.6524388064895433 :Retain\n",
      "passenger_count_3 , passenger_count_2 are dependent on each other with 1.820132432926869e-27 :Eliminate\n",
      "passenger_count_3 , passenger_count_4 are dependent on each other with 0.0002522127633888576 :Eliminate\n",
      "passenger_count_3 , passenger_count_5 are dependent on each other with 5.857049374085462e-12 :Eliminate\n",
      "passenger_count_3 , passenger_count_6 are dependent on each other with 0.0004542141943496335 :Eliminate\n",
      "passenger_count_3 , season_spring are independent on each other with 0.25400771054609933 :Retain\n",
      "passenger_count_3 , season_summer are independent on each other with 0.13028021319597138 :Retain\n",
      "passenger_count_3 , season_winter are independent on each other with 0.46810080652688746 :Retain\n",
      "passenger_count_3 , week_weekend are dependent on each other with 4.020381289384549e-06 :Eliminate\n",
      "passenger_count_3 , session_evening are independent on each other with 0.7136757487082012 :Retain\n",
      "passenger_count_3 , session_morning are dependent on each other with 0.00042919262150268195 :Eliminate\n",
      "passenger_count_3 , session_night_AM are dependent on each other with 0.004296806055124638 :Eliminate\n",
      "passenger_count_3 , session_night_PM are dependent on each other with 0.02281189660495593 :Eliminate\n",
      "passenger_count_3 , year_2010 are independent on each other with 0.20622109675992423 :Retain\n",
      "passenger_count_3 , year_2011 are independent on each other with 0.7134762468059598 :Retain\n",
      "passenger_count_3 , year_2012 are independent on each other with 0.6379575026311326 :Retain\n",
      "passenger_count_3 , year_2013 are independent on each other with 0.3145859228070297 :Retain\n",
      "passenger_count_3 , year_2014 are independent on each other with 0.11547622402723139 :Retain\n",
      "passenger_count_3 , year_2015 are independent on each other with 0.698110950996621 :Retain\n",
      "passenger_count_4 , passenger_count_2 are dependent on each other with 1.1929671757972803e-13 :Eliminate\n",
      "passenger_count_4 , passenger_count_3 are dependent on each other with 0.0002522127633888576 :Eliminate\n",
      "passenger_count_4 , passenger_count_5 are dependent on each other with 3.0256367185764105e-06 :Eliminate\n",
      "passenger_count_4 , passenger_count_6 are dependent on each other with 0.021372655036493507 :Eliminate\n",
      "passenger_count_4 , season_spring are independent on each other with 0.1852585488275776 :Retain\n",
      "passenger_count_4 , season_summer are independent on each other with 0.2542247577664751 :Retain\n",
      "passenger_count_4 , season_winter are dependent on each other with 0.033901058580060005 :Eliminate\n",
      "passenger_count_4 , week_weekend are dependent on each other with 5.739226917511602e-06 :Eliminate\n",
      "passenger_count_4 , session_evening are independent on each other with 0.9610677606226661 :Retain\n",
      "passenger_count_4 , session_morning are dependent on each other with 5.1642593744268186e-05 :Eliminate\n",
      "passenger_count_4 , session_night_AM are dependent on each other with 0.0010524938243353249 :Eliminate\n",
      "passenger_count_4 , session_night_PM are independent on each other with 0.3839396343139284 :Retain\n",
      "passenger_count_4 , year_2010 are independent on each other with 0.4177701247421539 :Retain\n",
      "passenger_count_4 , year_2011 are independent on each other with 0.2605096261576615 :Retain\n",
      "passenger_count_4 , year_2012 are independent on each other with 0.8273401138397842 :Retain\n",
      "passenger_count_4 , year_2013 are independent on each other with 0.7503872938113446 :Retain\n",
      "passenger_count_4 , year_2014 are independent on each other with 0.8639726181048024 :Retain\n",
      "passenger_count_4 , year_2015 are independent on each other with 0.7688374550240342 :Retain\n",
      "passenger_count_5 , passenger_count_2 are dependent on each other with 1.1339005653493428e-42 :Eliminate\n",
      "passenger_count_5 , passenger_count_3 are dependent on each other with 5.857049374085462e-12 :Eliminate\n",
      "passenger_count_5 , passenger_count_4 are dependent on each other with 3.0256367185764105e-06 :Eliminate\n",
      "passenger_count_5 , passenger_count_6 are dependent on each other with 7.528798966122106e-06 :Eliminate\n",
      "passenger_count_5 , season_spring are dependent on each other with 0.03952059871407807 :Eliminate\n",
      "passenger_count_5 , season_summer are independent on each other with 0.9188906391237968 :Retain\n",
      "passenger_count_5 , season_winter are independent on each other with 0.34753951808380124 :Retain\n",
      "passenger_count_5 , week_weekend are independent on each other with 0.922085278465481 :Retain\n",
      "passenger_count_5 , session_evening are independent on each other with 0.5383263884352695 :Retain\n",
      "passenger_count_5 , session_morning are independent on each other with 0.8399423948957928 :Retain\n",
      "passenger_count_5 , session_night_AM are independent on each other with 0.7242564539287611 :Retain\n",
      "passenger_count_5 , session_night_PM are independent on each other with 0.6924251577430292 :Retain\n",
      "passenger_count_5 , year_2010 are dependent on each other with 0.006840087516140598 :Eliminate\n",
      "passenger_count_5 , year_2011 are independent on each other with 0.13831321134083152 :Retain\n",
      "passenger_count_5 , year_2012 are independent on each other with 0.2212520437304136 :Retain\n",
      "passenger_count_5 , year_2013 are dependent on each other with 0.011779104065250727 :Eliminate\n",
      "passenger_count_5 , year_2014 are dependent on each other with 0.00027841717768624277 :Eliminate\n",
      "passenger_count_5 , year_2015 are dependent on each other with 0.00021649439325125124 :Eliminate\n",
      "passenger_count_6 , passenger_count_2 are dependent on each other with 1.0622556883488593e-12 :Eliminate\n",
      "passenger_count_6 , passenger_count_3 are dependent on each other with 0.0004542141943496335 :Eliminate\n",
      "passenger_count_6 , passenger_count_4 are dependent on each other with 0.021372655036493507 :Eliminate\n",
      "passenger_count_6 , passenger_count_5 are dependent on each other with 7.528798966122106e-06 :Eliminate\n",
      "passenger_count_6 , season_spring are independent on each other with 0.9148172621932616 :Retain\n",
      "passenger_count_6 , season_summer are independent on each other with 0.9691523748923332 :Retain\n",
      "passenger_count_6 , season_winter are independent on each other with 0.43787730215151155 :Retain\n",
      "passenger_count_6 , week_weekend are independent on each other with 0.7237248096565918 :Retain\n",
      "passenger_count_6 , session_evening are independent on each other with 0.4933608057712161 :Retain\n",
      "passenger_count_6 , session_morning are independent on each other with 0.6784441752716932 :Retain\n",
      "passenger_count_6 , session_night_AM are independent on each other with 0.7921431118695867 :Retain\n",
      "passenger_count_6 , session_night_PM are independent on each other with 0.3053851345706839 :Retain\n",
      "passenger_count_6 , year_2010 are dependent on each other with 3.4508186137625333e-09 :Eliminate\n",
      "passenger_count_6 , year_2011 are dependent on each other with 2.197731275140237e-05 :Eliminate\n",
      "passenger_count_6 , year_2012 are dependent on each other with 0.03382702478573806 :Eliminate\n",
      "passenger_count_6 , year_2013 are dependent on each other with 3.4061538410672268e-09 :Eliminate\n",
      "passenger_count_6 , year_2014 are dependent on each other with 9.769249112367315e-07 :Eliminate\n",
      "passenger_count_6 , year_2015 are dependent on each other with 1.7897257145001053e-06 :Eliminate\n"
     ]
    },
    {
     "name": "stdout",
     "output_type": "stream",
     "text": [
      "season_spring , passenger_count_2 are independent on each other with 0.966028847581576 :Retain\n",
      "season_spring , passenger_count_3 are independent on each other with 0.25400771054609933 :Retain\n",
      "season_spring , passenger_count_4 are independent on each other with 0.1852585488275776 :Retain\n",
      "season_spring , passenger_count_5 are dependent on each other with 0.03952059871407807 :Eliminate\n",
      "season_spring , passenger_count_6 are independent on each other with 0.9148172621932616 :Retain\n",
      "season_spring , season_summer are dependent on each other with 0.0 :Eliminate\n",
      "season_spring , season_winter are dependent on each other with 0.0 :Eliminate\n",
      "season_spring , week_weekend are independent on each other with 0.7961003257905971 :Retain\n",
      "season_spring , session_evening are independent on each other with 0.814055875892082 :Retain\n",
      "season_spring , session_morning are independent on each other with 0.056579031369672135 :Retain\n",
      "season_spring , session_night_AM are independent on each other with 0.5918306289650044 :Retain\n",
      "season_spring , session_night_PM are independent on each other with 0.6544364941549473 :Retain\n",
      "season_spring , year_2010 are independent on each other with 0.221419448827001 :Retain\n",
      "season_spring , year_2011 are independent on each other with 0.07907867810922532 :Retain\n",
      "season_spring , year_2012 are dependent on each other with 0.0008162100622545627 :Eliminate\n",
      "season_spring , year_2013 are dependent on each other with 0.029509800304546897 :Eliminate\n",
      "season_spring , year_2014 are independent on each other with 0.05934565584286572 :Retain\n",
      "season_spring , year_2015 are dependent on each other with 2.8816680248288835e-70 :Eliminate\n",
      "season_summer , passenger_count_2 are dependent on each other with 0.022816072292396496 :Eliminate\n",
      "season_summer , passenger_count_3 are independent on each other with 0.13028021319597138 :Retain\n",
      "season_summer , passenger_count_4 are independent on each other with 0.254224757766475 :Retain\n",
      "season_summer , passenger_count_5 are independent on each other with 0.9188906391237968 :Retain\n",
      "season_summer , passenger_count_6 are independent on each other with 0.9691523748923332 :Retain\n",
      "season_summer , season_spring are dependent on each other with 0.0 :Eliminate\n",
      "season_summer , season_winter are dependent on each other with 0.0 :Eliminate\n",
      "season_summer , week_weekend are dependent on each other with 0.012558478987137396 :Eliminate\n",
      "season_summer , session_evening are independent on each other with 0.5577406693344624 :Retain\n",
      "season_summer , session_morning are independent on each other with 0.8501174445937183 :Retain\n",
      "season_summer , session_night_AM are dependent on each other with 0.04867734538089146 :Eliminate\n",
      "season_summer , session_night_PM are independent on each other with 0.2816841909968868 :Retain\n",
      "season_summer , year_2010 are independent on each other with 0.54878808636004 :Retain\n",
      "season_summer , year_2011 are independent on each other with 0.5300696076494669 :Retain\n",
      "season_summer , year_2012 are dependent on each other with 0.0009517353086692014 :Eliminate\n",
      "season_summer , year_2013 are independent on each other with 0.4217949088641382 :Retain\n",
      "season_summer , year_2014 are independent on each other with 0.419810256830629 :Retain\n",
      "season_summer , year_2015 are dependent on each other with 2.097528790450738e-08 :Eliminate\n",
      "season_winter , passenger_count_2 are independent on each other with 0.5033457371106519 :Retain\n",
      "season_winter , passenger_count_3 are independent on each other with 0.46810080652688735 :Retain\n",
      "season_winter , passenger_count_4 are dependent on each other with 0.033901058580060005 :Eliminate\n",
      "season_winter , passenger_count_5 are independent on each other with 0.34753951808380124 :Retain\n",
      "season_winter , passenger_count_6 are independent on each other with 0.43787730215151155 :Retain\n",
      "season_winter , season_spring are dependent on each other with 0.0 :Eliminate\n",
      "season_winter , season_summer are dependent on each other with 0.0 :Eliminate\n",
      "season_winter , week_weekend are independent on each other with 0.39970476035174074 :Retain\n",
      "season_winter , session_evening are independent on each other with 0.43861734290309484 :Retain\n",
      "season_winter , session_morning are independent on each other with 0.8265071653243 :Retain\n",
      "season_winter , session_night_AM are independent on each other with 0.05641272445689708 :Retain\n",
      "season_winter , session_night_PM are independent on each other with 0.7258936028799217 :Retain\n",
      "season_winter , year_2010 are independent on each other with 0.6581977092531903 :Retain\n",
      "season_winter , year_2011 are independent on each other with 0.5106272582893163 :Retain\n",
      "season_winter , year_2012 are independent on each other with 0.36911913812354513 :Retain\n",
      "season_winter , year_2013 are independent on each other with 0.26036945202929757 :Retain\n",
      "season_winter , year_2014 are independent on each other with 0.9613629083959836 :Retain\n",
      "season_winter , year_2015 are dependent on each other with 5.0100669105241764e-09 :Eliminate\n",
      "week_weekend , passenger_count_2 are dependent on each other with 5.393179090345944e-11 :Eliminate\n",
      "week_weekend , passenger_count_3 are dependent on each other with 4.020381289384549e-06 :Eliminate\n",
      "week_weekend , passenger_count_4 are dependent on each other with 5.739226917511602e-06 :Eliminate\n",
      "week_weekend , passenger_count_5 are independent on each other with 0.922085278465481 :Retain\n",
      "week_weekend , passenger_count_6 are independent on each other with 0.7237248096565918 :Retain\n",
      "week_weekend , season_spring are independent on each other with 0.7961003257905971 :Retain\n",
      "week_weekend , season_summer are dependent on each other with 0.012558478987137396 :Eliminate\n",
      "week_weekend , season_winter are independent on each other with 0.39970476035174074 :Retain\n",
      "week_weekend , session_evening are dependent on each other with 3.3534430478007226e-06 :Eliminate\n",
      "week_weekend , session_morning are dependent on each other with 1.5044462337151303e-38 :Eliminate\n",
      "week_weekend , session_night_AM are dependent on each other with 7.159787243250608e-127 :Eliminate\n",
      "week_weekend , session_night_PM are independent on each other with 0.09651660555625668 :Retain\n",
      "week_weekend , year_2010 are independent on each other with 0.24720655609127565 :Retain\n",
      "week_weekend , year_2011 are independent on each other with 0.3716142879230061 :Retain\n",
      "week_weekend , year_2012 are independent on each other with 0.06241333877145238 :Retain\n",
      "week_weekend , year_2013 are independent on each other with 0.9675252245042676 :Retain\n",
      "week_weekend , year_2014 are independent on each other with 0.9081550814063053 :Retain\n",
      "week_weekend , year_2015 are dependent on each other with 0.0031991689835837505 :Eliminate\n",
      "session_evening , passenger_count_2 are dependent on each other with 0.01884692149256251 :Eliminate\n",
      "session_evening , passenger_count_3 are independent on each other with 0.7136757487082012 :Retain\n",
      "session_evening , passenger_count_4 are independent on each other with 0.9610677606226661 :Retain\n",
      "session_evening , passenger_count_5 are independent on each other with 0.5383263884352695 :Retain\n",
      "session_evening , passenger_count_6 are independent on each other with 0.4933608057712161 :Retain\n",
      "session_evening , season_spring are independent on each other with 0.814055875892082 :Retain\n",
      "session_evening , season_summer are independent on each other with 0.5577406693344624 :Retain\n",
      "session_evening , season_winter are independent on each other with 0.43861734290309484 :Retain\n",
      "session_evening , week_weekend are dependent on each other with 3.3534430478007226e-06 :Eliminate\n",
      "session_evening , session_morning are dependent on each other with 0.0 :Eliminate\n",
      "session_evening , session_night_AM are dependent on each other with 3.5312348605341994e-139 :Eliminate\n",
      "session_evening , session_night_PM are dependent on each other with 4.2172612808575816e-200 :Eliminate\n",
      "session_evening , year_2010 are independent on each other with 0.27050295557049653 :Retain\n",
      "session_evening , year_2011 are independent on each other with 0.35782815392576517 :Retain\n",
      "session_evening , year_2012 are independent on each other with 0.783339953119807 :Retain\n",
      "session_evening , year_2013 are independent on each other with 0.5109209147013851 :Retain\n",
      "session_evening , year_2014 are independent on each other with 0.851604468486279 :Retain\n",
      "session_evening , year_2015 are independent on each other with 0.9408782849481978 :Retain\n",
      "session_morning , passenger_count_2 are dependent on each other with 1.5585431051820502e-16 :Eliminate\n",
      "session_morning , passenger_count_3 are dependent on each other with 0.00042919262150268195 :Eliminate\n",
      "session_morning , passenger_count_4 are dependent on each other with 5.1642593744268186e-05 :Eliminate\n",
      "session_morning , passenger_count_5 are independent on each other with 0.8399423948957928 :Retain\n",
      "session_morning , passenger_count_6 are independent on each other with 0.6784441752716932 :Retain\n",
      "session_morning , season_spring are independent on each other with 0.056579031369672135 :Retain\n",
      "session_morning , season_summer are independent on each other with 0.8501174445937183 :Retain\n"
     ]
    },
    {
     "name": "stdout",
     "output_type": "stream",
     "text": [
      "session_morning , season_winter are independent on each other with 0.8265071653243 :Retain\n",
      "session_morning , week_weekend are dependent on each other with 1.5044462337151303e-38 :Eliminate\n",
      "session_morning , session_evening are dependent on each other with 0.0 :Eliminate\n",
      "session_morning , session_night_AM are dependent on each other with 3.155991736009208e-155 :Eliminate\n",
      "session_morning , session_night_PM are dependent on each other with 2.9392958051513584e-223 :Eliminate\n",
      "session_morning , year_2010 are independent on each other with 0.142703105373831 :Retain\n",
      "session_morning , year_2011 are independent on each other with 0.5969002979289719 :Retain\n",
      "session_morning , year_2012 are independent on each other with 0.5704676134138488 :Retain\n",
      "session_morning , year_2013 are independent on each other with 0.9895086215198182 :Retain\n",
      "session_morning , year_2014 are independent on each other with 0.7786690545466206 :Retain\n",
      "session_morning , year_2015 are independent on each other with 0.8914579981397786 :Retain\n",
      "session_night_AM , passenger_count_2 are dependent on each other with 0.02490851809369289 :Eliminate\n",
      "session_night_AM , passenger_count_3 are dependent on each other with 0.004296806055124638 :Eliminate\n",
      "session_night_AM , passenger_count_4 are dependent on each other with 0.0010524938243353249 :Eliminate\n",
      "session_night_AM , passenger_count_5 are independent on each other with 0.7242564539287611 :Retain\n",
      "session_night_AM , passenger_count_6 are independent on each other with 0.7921431118695867 :Retain\n",
      "session_night_AM , season_spring are independent on each other with 0.5918306289650044 :Retain\n",
      "session_night_AM , season_summer are dependent on each other with 0.04867734538089146 :Eliminate\n",
      "session_night_AM , season_winter are independent on each other with 0.056412724456896914 :Retain\n",
      "session_night_AM , week_weekend are dependent on each other with 7.159787243250608e-127 :Eliminate\n",
      "session_night_AM , session_evening are dependent on each other with 3.5312348605341994e-139 :Eliminate\n",
      "session_night_AM , session_morning are dependent on each other with 3.155991736009208e-155 :Eliminate\n",
      "session_night_AM , session_night_PM are dependent on each other with 8.319162595134781e-90 :Eliminate\n",
      "session_night_AM , year_2010 are independent on each other with 0.15798657407880629 :Retain\n",
      "session_night_AM , year_2011 are independent on each other with 0.651087740343296 :Retain\n",
      "session_night_AM , year_2012 are independent on each other with 0.11485579116237404 :Retain\n",
      "session_night_AM , year_2013 are independent on each other with 0.8064285571755054 :Retain\n",
      "session_night_AM , year_2014 are independent on each other with 0.7474678407002664 :Retain\n",
      "session_night_AM , year_2015 are independent on each other with 0.3525829234710842 :Retain\n",
      "session_night_PM , passenger_count_2 are dependent on each other with 3.813128039542455e-05 :Eliminate\n",
      "session_night_PM , passenger_count_3 are dependent on each other with 0.02281189660495593 :Eliminate\n",
      "session_night_PM , passenger_count_4 are independent on each other with 0.3839396343139284 :Retain\n",
      "session_night_PM , passenger_count_5 are independent on each other with 0.6924251577430292 :Retain\n",
      "session_night_PM , passenger_count_6 are independent on each other with 0.3053851345706839 :Retain\n",
      "session_night_PM , season_spring are independent on each other with 0.6544364941549473 :Retain\n",
      "session_night_PM , season_summer are independent on each other with 0.2816841909968868 :Retain\n",
      "session_night_PM , season_winter are independent on each other with 0.7258936028799217 :Retain\n",
      "session_night_PM , week_weekend are independent on each other with 0.09651660555625668 :Retain\n",
      "session_night_PM , session_evening are dependent on each other with 4.2172612808575816e-200 :Eliminate\n",
      "session_night_PM , session_morning are dependent on each other with 2.9392958051513584e-223 :Eliminate\n",
      "session_night_PM , session_night_AM are dependent on each other with 8.319162595134781e-90 :Eliminate\n",
      "session_night_PM , year_2010 are independent on each other with 0.5357021352921072 :Retain\n",
      "session_night_PM , year_2011 are independent on each other with 0.9647404131473146 :Retain\n",
      "session_night_PM , year_2012 are independent on each other with 0.5013588215940806 :Retain\n",
      "session_night_PM , year_2013 are independent on each other with 0.08611678893020773 :Retain\n",
      "session_night_PM , year_2014 are independent on each other with 0.784958849148091 :Retain\n",
      "session_night_PM , year_2015 are independent on each other with 0.9986263346648383 :Retain\n",
      "year_2010 , passenger_count_2 are independent on each other with 0.6869252168929907 :Retain\n",
      "year_2010 , passenger_count_3 are independent on each other with 0.20622109675992423 :Retain\n",
      "year_2010 , passenger_count_4 are independent on each other with 0.4177701247421539 :Retain\n",
      "year_2010 , passenger_count_5 are dependent on each other with 0.006840087516140598 :Eliminate\n",
      "year_2010 , passenger_count_6 are dependent on each other with 3.4508186137625333e-09 :Eliminate\n",
      "year_2010 , season_spring are independent on each other with 0.221419448827001 :Retain\n",
      "year_2010 , season_summer are independent on each other with 0.54878808636004 :Retain\n",
      "year_2010 , season_winter are independent on each other with 0.6581977092531903 :Retain\n",
      "year_2010 , week_weekend are independent on each other with 0.24720655609127565 :Retain\n",
      "year_2010 , session_evening are independent on each other with 0.2705029555704965 :Retain\n",
      "year_2010 , session_morning are independent on each other with 0.142703105373831 :Retain\n",
      "year_2010 , session_night_AM are independent on each other with 0.15798657407880629 :Retain\n",
      "year_2010 , session_night_PM are independent on each other with 0.5357021352921072 :Retain\n",
      "year_2010 , year_2011 are dependent on each other with 9.193815102590072e-116 :Eliminate\n",
      "year_2010 , year_2012 are dependent on each other with 1.1759987383264199e-120 :Eliminate\n",
      "year_2010 , year_2013 are dependent on each other with 3.462854276162899e-119 :Eliminate\n",
      "year_2010 , year_2014 are dependent on each other with 2.3783498943603847e-108 :Eliminate\n",
      "year_2010 , year_2015 are dependent on each other with 1.7445239996846388e-50 :Eliminate\n",
      "year_2011 , passenger_count_2 are dependent on each other with 0.014089024151334647 :Eliminate\n",
      "year_2011 , passenger_count_3 are independent on each other with 0.7134762468059598 :Retain\n",
      "year_2011 , passenger_count_4 are independent on each other with 0.2605096261576615 :Retain\n",
      "year_2011 , passenger_count_5 are independent on each other with 0.13831321134083152 :Retain\n",
      "year_2011 , passenger_count_6 are dependent on each other with 2.197731275140237e-05 :Eliminate\n",
      "year_2011 , season_spring are independent on each other with 0.07907867810922532 :Retain\n",
      "year_2011 , season_summer are independent on each other with 0.5300696076494669 :Retain\n",
      "year_2011 , season_winter are independent on each other with 0.5106272582893163 :Retain\n",
      "year_2011 , week_weekend are independent on each other with 0.3716142879230061 :Retain\n",
      "year_2011 , session_evening are independent on each other with 0.35782815392576517 :Retain\n",
      "year_2011 , session_morning are independent on each other with 0.5969002979289719 :Retain\n",
      "year_2011 , session_night_AM are independent on each other with 0.651087740343296 :Retain\n",
      "year_2011 , session_night_PM are independent on each other with 0.9647404131473146 :Retain\n",
      "year_2011 , year_2010 are dependent on each other with 9.193815102590072e-116 :Eliminate\n",
      "year_2011 , year_2012 are dependent on each other with 1.4752668060307697e-119 :Eliminate\n",
      "year_2011 , year_2013 are dependent on each other with 4.210665279227887e-118 :Eliminate\n",
      "year_2011 , year_2014 are dependent on each other with 2.2975565160205107e-107 :Eliminate\n",
      "year_2011 , year_2015 are dependent on each other with 4.938744696016752e-50 :Eliminate\n",
      "year_2012 , passenger_count_2 are independent on each other with 0.9254504823450599 :Retain\n",
      "year_2012 , passenger_count_3 are independent on each other with 0.6379575026311326 :Retain\n",
      "year_2012 , passenger_count_4 are independent on each other with 0.8273401138397842 :Retain\n",
      "year_2012 , passenger_count_5 are independent on each other with 0.2212520437304136 :Retain\n",
      "year_2012 , passenger_count_6 are dependent on each other with 0.03382702478573806 :Eliminate\n",
      "year_2012 , season_spring are dependent on each other with 0.000816210062254562 :Eliminate\n"
     ]
    },
    {
     "name": "stdout",
     "output_type": "stream",
     "text": [
      "year_2012 , season_summer are dependent on each other with 0.0009517353086692014 :Eliminate\n",
      "year_2012 , season_winter are independent on each other with 0.36911913812354513 :Retain\n",
      "year_2012 , week_weekend are independent on each other with 0.06241333877145238 :Retain\n",
      "year_2012 , session_evening are independent on each other with 0.783339953119807 :Retain\n",
      "year_2012 , session_morning are independent on each other with 0.5704676134138488 :Retain\n",
      "year_2012 , session_night_AM are independent on each other with 0.11485579116237404 :Retain\n",
      "year_2012 , session_night_PM are independent on each other with 0.5013588215940806 :Retain\n",
      "year_2012 , year_2010 are dependent on each other with 1.1759987383264199e-120 :Eliminate\n",
      "year_2012 , year_2011 are dependent on each other with 1.4752668060307697e-119 :Eliminate\n",
      "year_2012 , year_2013 are dependent on each other with 4.2761833719413305e-123 :Eliminate\n",
      "year_2012 , year_2014 are dependent on each other with 6.728095040408982e-112 :Eliminate\n",
      "year_2012 , year_2015 are dependent on each other with 4.108330882033738e-52 :Eliminate\n",
      "year_2013 , passenger_count_2 are independent on each other with 0.09833455497670668 :Retain\n",
      "year_2013 , passenger_count_3 are independent on each other with 0.3145859228070297 :Retain\n",
      "year_2013 , passenger_count_4 are independent on each other with 0.7503872938113446 :Retain\n",
      "year_2013 , passenger_count_5 are dependent on each other with 0.011779104065250727 :Eliminate\n",
      "year_2013 , passenger_count_6 are dependent on each other with 3.4061538410672268e-09 :Eliminate\n",
      "year_2013 , season_spring are dependent on each other with 0.029509800304546897 :Eliminate\n",
      "year_2013 , season_summer are independent on each other with 0.4217949088641382 :Retain\n",
      "year_2013 , season_winter are independent on each other with 0.26036945202929757 :Retain\n",
      "year_2013 , week_weekend are independent on each other with 0.9675252245042676 :Retain\n",
      "year_2013 , session_evening are independent on each other with 0.5109209147013851 :Retain\n",
      "year_2013 , session_morning are independent on each other with 0.9895086215198182 :Retain\n",
      "year_2013 , session_night_AM are independent on each other with 0.8064285571755054 :Retain\n",
      "year_2013 , session_night_PM are independent on each other with 0.08611678893020773 :Retain\n",
      "year_2013 , year_2010 are dependent on each other with 3.462854276162899e-119 :Eliminate\n",
      "year_2013 , year_2011 are dependent on each other with 4.210665279227887e-118 :Eliminate\n",
      "year_2013 , year_2012 are dependent on each other with 4.2761833719413305e-123 :Eliminate\n",
      "year_2013 , year_2014 are dependent on each other with 1.544974080755261e-110 :Eliminate\n",
      "year_2013 , year_2015 are dependent on each other with 1.730198649117885e-51 :Eliminate\n",
      "year_2014 , passenger_count_2 are independent on each other with 0.24717319578690516 :Retain\n",
      "year_2014 , passenger_count_3 are independent on each other with 0.11547622402723134 :Retain\n",
      "year_2014 , passenger_count_4 are independent on each other with 0.8639726181048024 :Retain\n",
      "year_2014 , passenger_count_5 are dependent on each other with 0.00027841717768624277 :Eliminate\n",
      "year_2014 , passenger_count_6 are dependent on each other with 9.769249112367315e-07 :Eliminate\n",
      "year_2014 , season_spring are independent on each other with 0.05934565584286572 :Retain\n",
      "year_2014 , season_summer are independent on each other with 0.419810256830629 :Retain\n",
      "year_2014 , season_winter are independent on each other with 0.9613629083959836 :Retain\n",
      "year_2014 , week_weekend are independent on each other with 0.9081550814063053 :Retain\n",
      "year_2014 , session_evening are independent on each other with 0.851604468486279 :Retain\n",
      "year_2014 , session_morning are independent on each other with 0.7786690545466206 :Retain\n",
      "year_2014 , session_night_AM are independent on each other with 0.7474678407002664 :Retain\n",
      "year_2014 , session_night_PM are independent on each other with 0.784958849148091 :Retain\n",
      "year_2014 , year_2010 are dependent on each other with 2.3783498943603847e-108 :Eliminate\n",
      "year_2014 , year_2011 are dependent on each other with 2.2975565160205107e-107 :Eliminate\n",
      "year_2014 , year_2012 are dependent on each other with 6.728095040408982e-112 :Eliminate\n",
      "year_2014 , year_2013 are dependent on each other with 1.544974080755261e-110 :Eliminate\n",
      "year_2014 , year_2015 are dependent on each other with 6.999621469846093e-47 :Eliminate\n",
      "year_2015 , passenger_count_2 are independent on each other with 0.6524388064895433 :Retain\n",
      "year_2015 , passenger_count_3 are independent on each other with 0.698110950996621 :Retain\n",
      "year_2015 , passenger_count_4 are independent on each other with 0.7688374550240342 :Retain\n",
      "year_2015 , passenger_count_5 are dependent on each other with 0.00021649439325125124 :Eliminate\n",
      "year_2015 , passenger_count_6 are dependent on each other with 1.7897257145001053e-06 :Eliminate\n",
      "year_2015 , season_spring are dependent on each other with 2.8816680248288835e-70 :Eliminate\n",
      "year_2015 , season_summer are dependent on each other with 2.097528790450738e-08 :Eliminate\n",
      "year_2015 , season_winter are dependent on each other with 5.0100669105241764e-09 :Eliminate\n",
      "year_2015 , week_weekend are dependent on each other with 0.0031991689835837505 :Eliminate\n",
      "year_2015 , session_evening are independent on each other with 0.9408782849481978 :Retain\n",
      "year_2015 , session_morning are independent on each other with 0.8914579981397786 :Retain\n",
      "year_2015 , session_night_AM are independent on each other with 0.3525829234710842 :Retain\n",
      "year_2015 , session_night_PM are independent on each other with 0.9986263346648383 :Retain\n",
      "year_2015 , year_2010 are dependent on each other with 1.7445239996846388e-50 :Eliminate\n",
      "year_2015 , year_2011 are dependent on each other with 4.938744696016752e-50 :Eliminate\n",
      "year_2015 , year_2012 are dependent on each other with 4.108330882033738e-52 :Eliminate\n",
      "year_2015 , year_2013 are dependent on each other with 1.730198649117885e-51 :Eliminate\n",
      "year_2015 , year_2014 are dependent on each other with 6.999621469846093e-47 :Eliminate\n"
     ]
    }
   ],
   "source": [
    "# chi square test \n",
    "for i in var_categorical:\n",
    "    for j in var_categorical:\n",
    "        if(i != j):\n",
    "            chi2, p, dof, ex = chi2_contingency(pd.crosstab(training[i], training[j]))\n",
    "            if(p < 0.05):\n",
    "                print(i,\",\",j,\"are dependent on each other with\",p,':Eliminate')\n",
    "            else:\n",
    "                print(i,\",\",j,\"are independent on each other with\",p,':Retain')"
   ]
  },
  {
   "cell_type": "code",
   "execution_count": 114,
   "metadata": {},
   "outputs": [],
   "source": [
    "model_anova = ols('fare_amount ~ C(passenger_count_2)+C(passenger_count_3)+C(passenger_count_4)+C(passenger_count_5)+C(passenger_count_6)+C(season_spring)+C(season_summer)+C(season_winter)+C(week_weekend)+C(session_night_AM)+C(session_night_PM)+C(session_evening)+C(session_morning)+C(year_2010)+C(year_2011)+C(year_2012)+C(year_2013)+C(year_2014)+C(year_2015)',data=training).fit()\n",
    "                \n",
    "table_anova = sm.stats.anova_lm(model_anova)"
   ]
  },
  {
   "cell_type": "code",
   "execution_count": 115,
   "metadata": {},
   "outputs": [
    {
     "data": {
      "text/html": [
       "<div>\n",
       "<style scoped>\n",
       "    .dataframe tbody tr th:only-of-type {\n",
       "        vertical-align: middle;\n",
       "    }\n",
       "\n",
       "    .dataframe tbody tr th {\n",
       "        vertical-align: top;\n",
       "    }\n",
       "\n",
       "    .dataframe thead th {\n",
       "        text-align: right;\n",
       "    }\n",
       "</style>\n",
       "<table border=\"1\" class=\"dataframe\">\n",
       "  <thead>\n",
       "    <tr style=\"text-align: right;\">\n",
       "      <th></th>\n",
       "      <th>df</th>\n",
       "      <th>sum_sq</th>\n",
       "      <th>mean_sq</th>\n",
       "      <th>F</th>\n",
       "      <th>PR(&gt;F)</th>\n",
       "    </tr>\n",
       "  </thead>\n",
       "  <tbody>\n",
       "    <tr>\n",
       "      <td>C(passenger_count_2)</td>\n",
       "      <td>1.0</td>\n",
       "      <td>11.408070</td>\n",
       "      <td>11.408070</td>\n",
       "      <td>0.589021</td>\n",
       "      <td>4.428093e-01</td>\n",
       "    </tr>\n",
       "    <tr>\n",
       "      <td>C(passenger_count_3)</td>\n",
       "      <td>1.0</td>\n",
       "      <td>17.122277</td>\n",
       "      <td>17.122277</td>\n",
       "      <td>0.884057</td>\n",
       "      <td>3.471073e-01</td>\n",
       "    </tr>\n",
       "    <tr>\n",
       "      <td>C(passenger_count_4)</td>\n",
       "      <td>1.0</td>\n",
       "      <td>65.432347</td>\n",
       "      <td>65.432347</td>\n",
       "      <td>3.378403</td>\n",
       "      <td>6.607499e-02</td>\n",
       "    </tr>\n",
       "    <tr>\n",
       "      <td>C(passenger_count_5)</td>\n",
       "      <td>1.0</td>\n",
       "      <td>21.209367</td>\n",
       "      <td>21.209367</td>\n",
       "      <td>1.095082</td>\n",
       "      <td>2.953641e-01</td>\n",
       "    </tr>\n",
       "    <tr>\n",
       "      <td>C(passenger_count_6)</td>\n",
       "      <td>1.0</td>\n",
       "      <td>146.015783</td>\n",
       "      <td>146.015783</td>\n",
       "      <td>7.539087</td>\n",
       "      <td>6.044362e-03</td>\n",
       "    </tr>\n",
       "    <tr>\n",
       "      <td>C(season_spring)</td>\n",
       "      <td>1.0</td>\n",
       "      <td>29.067424</td>\n",
       "      <td>29.067424</td>\n",
       "      <td>1.500809</td>\n",
       "      <td>2.205653e-01</td>\n",
       "    </tr>\n",
       "    <tr>\n",
       "      <td>C(season_summer)</td>\n",
       "      <td>1.0</td>\n",
       "      <td>26.836252</td>\n",
       "      <td>26.836252</td>\n",
       "      <td>1.385609</td>\n",
       "      <td>2.391659e-01</td>\n",
       "    </tr>\n",
       "    <tr>\n",
       "      <td>C(season_winter)</td>\n",
       "      <td>1.0</td>\n",
       "      <td>481.921082</td>\n",
       "      <td>481.921082</td>\n",
       "      <td>24.882549</td>\n",
       "      <td>6.158507e-07</td>\n",
       "    </tr>\n",
       "    <tr>\n",
       "      <td>C(week_weekend)</td>\n",
       "      <td>1.0</td>\n",
       "      <td>130.551478</td>\n",
       "      <td>130.551478</td>\n",
       "      <td>6.740634</td>\n",
       "      <td>9.432927e-03</td>\n",
       "    </tr>\n",
       "    <tr>\n",
       "      <td>C(session_night_AM)</td>\n",
       "      <td>1.0</td>\n",
       "      <td>2131.440029</td>\n",
       "      <td>2131.440029</td>\n",
       "      <td>110.050509</td>\n",
       "      <td>1.162302e-25</td>\n",
       "    </tr>\n",
       "    <tr>\n",
       "      <td>C(session_night_PM)</td>\n",
       "      <td>1.0</td>\n",
       "      <td>185.066431</td>\n",
       "      <td>185.066431</td>\n",
       "      <td>9.555350</td>\n",
       "      <td>1.997179e-03</td>\n",
       "    </tr>\n",
       "    <tr>\n",
       "      <td>C(session_evening)</td>\n",
       "      <td>1.0</td>\n",
       "      <td>0.941485</td>\n",
       "      <td>0.941485</td>\n",
       "      <td>0.048611</td>\n",
       "      <td>8.255015e-01</td>\n",
       "    </tr>\n",
       "    <tr>\n",
       "      <td>C(session_morning)</td>\n",
       "      <td>1.0</td>\n",
       "      <td>48.613470</td>\n",
       "      <td>48.613470</td>\n",
       "      <td>2.510011</td>\n",
       "      <td>1.131454e-01</td>\n",
       "    </tr>\n",
       "    <tr>\n",
       "      <td>C(year_2010)</td>\n",
       "      <td>1.0</td>\n",
       "      <td>1507.707128</td>\n",
       "      <td>1507.707128</td>\n",
       "      <td>77.845933</td>\n",
       "      <td>1.229940e-18</td>\n",
       "    </tr>\n",
       "    <tr>\n",
       "      <td>C(year_2011)</td>\n",
       "      <td>1.0</td>\n",
       "      <td>1331.033485</td>\n",
       "      <td>1331.033485</td>\n",
       "      <td>68.723920</td>\n",
       "      <td>1.223797e-16</td>\n",
       "    </tr>\n",
       "    <tr>\n",
       "      <td>C(year_2012)</td>\n",
       "      <td>1.0</td>\n",
       "      <td>431.032947</td>\n",
       "      <td>431.032947</td>\n",
       "      <td>22.255093</td>\n",
       "      <td>2.407888e-06</td>\n",
       "    </tr>\n",
       "    <tr>\n",
       "      <td>C(year_2013)</td>\n",
       "      <td>1.0</td>\n",
       "      <td>340.943960</td>\n",
       "      <td>340.943960</td>\n",
       "      <td>17.603618</td>\n",
       "      <td>2.735711e-05</td>\n",
       "    </tr>\n",
       "    <tr>\n",
       "      <td>C(year_2014)</td>\n",
       "      <td>1.0</td>\n",
       "      <td>1496.897789</td>\n",
       "      <td>1496.897789</td>\n",
       "      <td>77.287825</td>\n",
       "      <td>1.629274e-18</td>\n",
       "    </tr>\n",
       "    <tr>\n",
       "      <td>C(year_2015)</td>\n",
       "      <td>1.0</td>\n",
       "      <td>2588.165065</td>\n",
       "      <td>2588.165065</td>\n",
       "      <td>133.632136</td>\n",
       "      <td>8.771037e-31</td>\n",
       "    </tr>\n",
       "    <tr>\n",
       "      <td>Residual</td>\n",
       "      <td>15640.0</td>\n",
       "      <td>302912.928193</td>\n",
       "      <td>19.367834</td>\n",
       "      <td>NaN</td>\n",
       "      <td>NaN</td>\n",
       "    </tr>\n",
       "  </tbody>\n",
       "</table>\n",
       "</div>"
      ],
      "text/plain": [
       "                           df         sum_sq      mean_sq           F  \\\n",
       "C(passenger_count_2)      1.0      11.408070    11.408070    0.589021   \n",
       "C(passenger_count_3)      1.0      17.122277    17.122277    0.884057   \n",
       "C(passenger_count_4)      1.0      65.432347    65.432347    3.378403   \n",
       "C(passenger_count_5)      1.0      21.209367    21.209367    1.095082   \n",
       "C(passenger_count_6)      1.0     146.015783   146.015783    7.539087   \n",
       "C(season_spring)          1.0      29.067424    29.067424    1.500809   \n",
       "C(season_summer)          1.0      26.836252    26.836252    1.385609   \n",
       "C(season_winter)          1.0     481.921082   481.921082   24.882549   \n",
       "C(week_weekend)           1.0     130.551478   130.551478    6.740634   \n",
       "C(session_night_AM)       1.0    2131.440029  2131.440029  110.050509   \n",
       "C(session_night_PM)       1.0     185.066431   185.066431    9.555350   \n",
       "C(session_evening)        1.0       0.941485     0.941485    0.048611   \n",
       "C(session_morning)        1.0      48.613470    48.613470    2.510011   \n",
       "C(year_2010)              1.0    1507.707128  1507.707128   77.845933   \n",
       "C(year_2011)              1.0    1331.033485  1331.033485   68.723920   \n",
       "C(year_2012)              1.0     431.032947   431.032947   22.255093   \n",
       "C(year_2013)              1.0     340.943960   340.943960   17.603618   \n",
       "C(year_2014)              1.0    1496.897789  1496.897789   77.287825   \n",
       "C(year_2015)              1.0    2588.165065  2588.165065  133.632136   \n",
       "Residual              15640.0  302912.928193    19.367834         NaN   \n",
       "\n",
       "                            PR(>F)  \n",
       "C(passenger_count_2)  4.428093e-01  \n",
       "C(passenger_count_3)  3.471073e-01  \n",
       "C(passenger_count_4)  6.607499e-02  \n",
       "C(passenger_count_5)  2.953641e-01  \n",
       "C(passenger_count_6)  6.044362e-03  \n",
       "C(season_spring)      2.205653e-01  \n",
       "C(season_summer)      2.391659e-01  \n",
       "C(season_winter)      6.158507e-07  \n",
       "C(week_weekend)       9.432927e-03  \n",
       "C(session_night_AM)   1.162302e-25  \n",
       "C(session_night_PM)   1.997179e-03  \n",
       "C(session_evening)    8.255015e-01  \n",
       "C(session_morning)    1.131454e-01  \n",
       "C(year_2010)          1.229940e-18  \n",
       "C(year_2011)          1.223797e-16  \n",
       "C(year_2012)          2.407888e-06  \n",
       "C(year_2013)          2.735711e-05  \n",
       "C(year_2014)          1.629274e-18  \n",
       "C(year_2015)          8.771037e-31  \n",
       "Residual                       NaN  "
      ]
     },
     "execution_count": 115,
     "metadata": {},
     "output_type": "execute_result"
    }
   ],
   "source": [
    "table_anova "
   ]
  },
  {
   "cell_type": "code",
   "execution_count": 116,
   "metadata": {},
   "outputs": [],
   "source": [
    "# _1+passenger_count_2+passenger_count_3+passenger_count_4+passenger_count_5+passenger_count_6\n",
    "outcome, predictors = dmatrices('fare_amount ~ geodesic+passenger_count_2+passenger_count_3+passenger_count_4+passenger_count_5+passenger_count_6+season_spring+season_summer+season_winter+week_weekend+session_night_AM+session_night_PM+session_evening+session_morning+year_2010+year_2011+year_2012+year_2013+year_2014+year_2015',training, return_type='dataframe')\n",
    "# calculating VIF for each individual Predictors\n",
    "vi_factor = pd.DataFrame()\n",
    "vi_factor[\"VIF\"] = [variance_inflation_factor(predictors.values, i) for i in range(predictors.shape[1])]\n",
    "vi_factor[\"features\"] = predictors.columns\n"
   ]
  },
  {
   "cell_type": "code",
   "execution_count": 117,
   "metadata": {},
   "outputs": [
    {
     "ename": "NameError",
     "evalue": "name 'vif' is not defined",
     "output_type": "error",
     "traceback": [
      "\u001b[1;31m---------------------------------------------------------------------------\u001b[0m",
      "\u001b[1;31mNameError\u001b[0m                                 Traceback (most recent call last)",
      "\u001b[1;32m<ipython-input-117-864038ef4a9f>\u001b[0m in \u001b[0;36m<module>\u001b[1;34m\u001b[0m\n\u001b[1;32m----> 1\u001b[1;33m \u001b[0mvif\u001b[0m\u001b[1;33m\u001b[0m\u001b[1;33m\u001b[0m\u001b[0m\n\u001b[0m",
      "\u001b[1;31mNameError\u001b[0m: name 'vif' is not defined"
     ]
    }
   ],
   "source": [
    "vif"
   ]
  },
  {
   "cell_type": "code",
   "execution_count": 118,
   "metadata": {},
   "outputs": [
    {
     "data": {
      "text/plain": [
       "fare_amount    20.046257\n",
       "geodesic        1.231759\n",
       "dtype: float64"
      ]
     },
     "execution_count": 118,
     "metadata": {},
     "output_type": "execute_result"
    }
   ],
   "source": [
    "training[var_numerical].var()"
   ]
  },
  {
   "cell_type": "code",
   "execution_count": 119,
   "metadata": {},
   "outputs": [
    {
     "data": {
      "text/plain": [
       "<matplotlib.axes._subplots.AxesSubplot at 0x904ca324c8>"
      ]
     },
     "execution_count": 119,
     "metadata": {},
     "output_type": "execute_result"
    },
    {
     "data": {
      "image/png": "[encoded data removed]",
      "text/plain": [
       "<Figure size 432x288 with 1 Axes>"
      ]
     },
     "metadata": {
      "needs_background": "light"
     },
     "output_type": "display_data"
    }
   ],
   "source": [
    "sns.distplot(training['geodesic'],bins=25)"
   ]
  },
  {
   "cell_type": "code",
   "execution_count": 120,
   "metadata": {},
   "outputs": [],
   "source": [
    "#Normalization\n",
    "training['geodesic'] = (training['geodesic'] - min(training['geodesic']))/(max(training['geodesic']) - min(training['geodesic']))\n",
    "testing['geodesic'] = (testing['geodesic'] - min(testing['geodesic']))/(max(testing['geodesic']) - min(testing['geodesic']))"
   ]
  },
  {
   "cell_type": "code",
   "execution_count": 121,
   "metadata": {},
   "outputs": [
    {
     "data": {
      "text/plain": [
       "0.051538292963903935"
      ]
     },
     "execution_count": 121,
     "metadata": {},
     "output_type": "execute_result"
    }
   ],
   "source": [
    "training['geodesic'].var()"
   ]
  },
  {
   "cell_type": "code",
   "execution_count": 122,
   "metadata": {},
   "outputs": [
    {
     "data": {
      "text/plain": [
       "((array([-3.92007182, -3.70085568, -3.58076887, ...,  3.58076887,\n",
       "          3.70085568,  3.92007182]),\n",
       "  array([0.        , 0.        , 0.        , ..., 0.99882442, 0.99916812,\n",
       "         1.        ])),\n",
       " (0.21714432266830297, 0.3328274453601052, 0.9562991159622729))"
      ]
     },
     "execution_count": 122,
     "metadata": {},
     "output_type": "execute_result"
    },
    {
     "data": {
      "image/png": "[encoded data removed]",
      "text/plain": [
       "<Figure size 432x288 with 1 Axes>"
      ]
     },
     "metadata": {
      "needs_background": "light"
     },
     "output_type": "display_data"
    }
   ],
   "source": [
    "stats.probplot(training['geodesic'], dist='norm', fit=True,plot=plt)"
   ]
  },
  {
   "cell_type": "code",
   "execution_count": 126,
   "metadata": {},
   "outputs": [],
   "source": [
    "df_4=training.copy()\n",
    "training=df_4.copy()\n"
   ]
  },
  {
   "cell_type": "code",
   "execution_count": 127,
   "metadata": {},
   "outputs": [],
   "source": [
    "df5=testing.copy()\n",
    "testing=df5.copy()"
   ]
  },
  {
   "cell_type": "code",
   "execution_count": 128,
   "metadata": {},
   "outputs": [],
   "source": [
    "training=training.drop(['passenger_count_2'],axis=1)\n",
    "testing=testing.drop(['passenger_count_2'],axis=1)"
   ]
  },
  {
   "cell_type": "code",
   "execution_count": null,
   "metadata": {},
   "outputs": [],
   "source": []
  },
  {
   "cell_type": "code",
   "execution_count": 129,
   "metadata": {},
   "outputs": [
    {
     "name": "stdout",
     "output_type": "stream",
     "text": [
      "(15660, 20) (11745, 19) (3915, 19) (11745,) (3915,)\n"
     ]
    }
   ],
   "source": [
    "X = training.drop('fare_amount',axis=1).values\n",
    "y = training['fare_amount'].values\n",
    "X_training, X_testing, y_training, y_testing = train_test_split(X, y, test_size = 0.25, random_state=42)\n",
    "print(training.shape, X_training.shape, X_testing.shape,y_training.shape,y_testing.shape)"
   ]
  },
  {
   "cell_type": "code",
   "execution_count": 130,
   "metadata": {},
   "outputs": [],
   "source": [
    "def rmsle(y1,y2):\n",
    "    log1 = np.nan_to_num(np.array([np.log(v + 1) for v in y1]))\n",
    "    log2 = np.nan_to_num(np.array([np.log(v + 1) for v in y2]))\n",
    "    calc = (log1 - log2) ** 2\n",
    "    return np.sqrt(np.mean(calc))\n",
    "def scores(y1, y2):\n",
    "    print('r square  ', metrics.r2_score(y1, y2))\n",
    "    #print('Adjusted r square:{}'.format(1 - (1-metrics.r2_score(y1, y2))*(len(y1)-1)/(len(y1)-X_training.shape[1]-1)))\n",
    "    print('MAPE:{}'.format(np.mean(np.abs((y1 - y2) / y1))*100))\n",
    "    print('MSE:', metrics.mean_squared_error(y1, y2))\n",
    "    print('RMSE:', np.sqrt(metrics.mean_squared_error(y1, y2))) \n",
    "def test_scores(model):\n",
    "    print('Training Data Details')\n",
    "    print()\n",
    "    #Predicting result on Training data\n",
    "    y_pred = model.predict(X_training)\n",
    "    scores(y_training,y_pred)\n",
    "    print('RMSLE:',rmsle(y_training,y_pred))\n",
    "    print()\n",
    "    print(' Testing Data Details')\n",
    "    print()\n",
    "    # Evaluating on Test Set\n",
    "    y_predict = model.predict(X_testing)\n",
    "    scores(y_testing,y_predict)\n",
    "    print('RMSLE:',rmsle(y_testing,y_predict))"
   ]
  },
  {
   "cell_type": "code",
   "execution_count": 131,
   "metadata": {},
   "outputs": [
    {
     "name": "stdout",
     "output_type": "stream",
     "text": [
      "Tuned Decision reg Parameters: {'copy_X': True, 'fit_intercept': True}\n",
      "Best score is 0.7348677534948158\n"
     ]
    }
   ],
   "source": [
    "# Setup the parameters and distributions to sample from: param_dist\n",
    "param_dist = {'copy_X':[True, False],\n",
    "          'fit_intercept':[True,False]}\n",
    "# Instantiate a Decision reg classifier: reg\n",
    "reg = LinearRegression()\n",
    "\n",
    "# Instantiate the gridSearchCV object: reg_cv\n",
    "reg_cv = GridSearchCV(reg, param_dist, cv=5,scoring='r2')\n",
    "\n",
    "# Fit it to the data\n",
    "reg_cv.fit(X, y)\n",
    "\n",
    "# Print the tuned parameters and score\n",
    "print(\"Tuned Decision reg Parameters: {}\".format(reg_cv.best_params_))\n",
    "print(\"Best score is {}\".format(reg_cv.best_score_))"
   ]
  },
  {
   "cell_type": "code",
   "execution_count": 132,
   "metadata": {},
   "outputs": [
    {
     "name": "stdout",
     "output_type": "stream",
     "text": [
      "R^2: 0.7409311855906986\n",
      "Root Mean Squared Error: 2.304846156476875\n",
      "Training Data Details\n",
      "\n",
      "r square   0.7338718419649115\n",
      "MAPE:18.751713503917866\n",
      "MSE: 5.293642518548715\n",
      "RMSE: 2.300791715594594\n",
      "RMSLE: 0.21668516998500975\n",
      "\n",
      " Testing Data Details\n",
      "\n",
      "r square   0.7409311855906986\n",
      "MAPE:18.99192090773019\n",
      "MSE: 5.312315805026223\n",
      "RMSE: 2.304846156476875\n",
      "RMSLE: 0.21573690854743632\n",
      "[-7.50639948e-02 -1.16099436e-02  4.31789866e-01  1.28584090e+00\n",
      "  1.50655725e+00  1.74872973e+00 -4.01899963e-01 -4.55919530e-01\n",
      " -6.75867346e-01 -7.91496001e-01 -2.12162667e-01 -4.39697520e-01\n",
      " -4.36543680e-01 -4.72871438e-01  1.65003730e-01  2.42190898e-01\n",
      "  2.30223902e-01  2.01924602e-01  1.67301496e+01]\n"
     ]
    },
    {
     "data": {
      "image/png": "[encoded data removed]",
      "text/plain": [
       "<Figure size 1080x360 with 1 Axes>"
      ]
     },
     "metadata": {
      "needs_background": "light"
     },
     "output_type": "display_data"
    }
   ],
   "source": [
    "# Create the regressor: reg_all\n",
    "reg_all = LinearRegression(copy_X= True, fit_intercept=True)\n",
    "\n",
    "# Fit the regressor to the training data\n",
    "reg_all.fit(X_training,y_training)\n",
    "\n",
    "# Predict on the test data: y_pred\n",
    "y_pred = reg_all.predict(X_testing)\n",
    "\n",
    "# Compute and print R^2 and RMSE\n",
    "print(\"R^2: {}\".format(reg_all.score(X_testing, y_testing)))\n",
    "rmse = np.sqrt(mean_squared_error(y_testing,y_pred))\n",
    "print(\"Root Mean Squared Error: {}\".format(rmse))\n",
    "test_scores(reg_all)\n",
    "\n",
    "# Compute and print the coefficients\n",
    "reg_coef = reg_all.coef_\n",
    "print(reg_coef)\n",
    "\n",
    "# Plot the coefficients\n",
    "plt.figure(figsize=(15,5))\n",
    "plt.plot(range(len(testing.columns)), reg_coef)\n",
    "plt.xticks(range(len(testing.columns)), testing.columns.values, rotation=60)\n",
    "plt.margins(0.02)\n",
    "plt.savefig('linear coefficients')\n",
    "plt.show()"
   ]
  },
  {
   "cell_type": "code",
   "execution_count": 137,
   "metadata": {},
   "outputs": [
    {
     "name": "stdout",
     "output_type": "stream",
     "text": [
      "Tuned Decision Tree Parameters: {'max_depth': 6, 'min_samples_split': 6}\n",
      "Best score is 0.7315931169967852\n",
      "[0.00000000e+00 0.00000000e+00 3.56093721e-04 1.15977956e-02\n",
      " 1.19136767e-02 9.57782403e-03 3.67971748e-04 0.00000000e+00\n",
      " 0.00000000e+00 9.04900424e-05 0.00000000e+00 0.00000000e+00\n",
      " 0.00000000e+00 4.87453195e-04 1.44118007e-04 1.03649078e-04\n",
      " 1.21925071e-04 4.68618688e-04 9.64770384e-01]\n",
      "Training Data Details\n",
      "\n",
      "r square   0.7457182342174193\n",
      "MAPE:18.568099750553237\n",
      "MSE: 5.0580020429887655\n",
      "RMSE: 2.2490002318783264\n",
      "RMSLE: 0.20912873163544968\n",
      "\n",
      " Testing Data Details\n",
      "\n",
      "r square   0.739695709486023\n",
      "MAPE:19.156471529266362\n",
      "MSE: 5.337649766014794\n",
      "RMSE: 2.3103354228368644\n",
      "RMSLE: 0.21276123055020005\n"
     ]
    }
   ],
   "source": [
    "# Setup the parameters and distributions to sample from: param_dist\n",
    "param_dist = {'max_depth': range(2,16,2),\n",
    "              'min_samples_split': range(2,16,2)}\n",
    "\n",
    "# Instantiate a Decision Tree classifier: tree\n",
    "dec_tree = DecisionTreeRegressor()\n",
    "\n",
    "# Instantiate the gridSearchCV object: tree_cv\n",
    "dec_tree_cv = GridSearchCV(dec_tree, param_dist, cv=5)\n",
    "\n",
    "# Fit it to the data\n",
    "dec_tree_cv.fit(X, y)\n",
    "\n",
    "# Print the tuned parameters and score\n",
    "print(\"Tuned Decision Tree Parameters: {}\".format(dec_tree_cv.best_params_))\n",
    "print(\"Best score is {}\".format(dec_tree_cv.best_score_))\n",
    "\n",
    "# Instantiate a tree regressor: tree\n",
    "dec_tree = DecisionTreeRegressor(max_depth= 6, min_samples_split=2)\n",
    "\n",
    "# Fit the regressor to the data\n",
    "dec_tree.fit(X_training,y_training)\n",
    "\n",
    "# Compute and print the coefficients\n",
    "dec_tree_features = dec_tree.feature_importances_\n",
    "print(dec_tree_features)\n",
    "\n",
    "# Sort test importances in descending order\n",
    "tree_indices = np.argsort(dec_tree_features)[::1]\n",
    "\n",
    "# Rearrange test names so they match the sorted test importances\n",
    "names_col = [testing.columns[i] for i in tree_indices]\n",
    "\n",
    "test_scores(dec_tree)"
   ]
  },
  {
   "cell_type": "code",
   "execution_count": null,
   "metadata": {},
   "outputs": [],
   "source": []
  },
  {
   "cell_type": "code",
   "execution_count": null,
   "metadata": {},
   "outputs": [],
   "source": []
  },
  {
   "cell_type": "code",
   "execution_count": null,
   "metadata": {},
   "outputs": [],
   "source": []
  },
  {
   "cell_type": "code",
   "execution_count": null,
   "metadata": {},
   "outputs": [],
   "source": []
  },
  {
   "cell_type": "code",
   "execution_count": null,
   "metadata": {},
   "outputs": [],
   "source": []
  },
  {
   "cell_type": "code",
   "execution_count": 40,
   "metadata": {},
   "outputs": [],
   "source": []
  },
  {
   "cell_type": "code",
   "execution_count": null,
   "metadata": {},
   "outputs": [],
   "source": []
  },
  {
   "cell_type": "code",
   "execution_count": null,
   "metadata": {},
   "outputs": [],
   "source": []
  },
  {
   "cell_type": "code",
   "execution_count": null,
   "metadata": {},
   "outputs": [],
   "source": []
  },
  {
   "cell_type": "code",
   "execution_count": null,
   "metadata": {},
   "outputs": [],
   "source": []
  },
  {
   "cell_type": "code",
   "execution_count": 82,
   "metadata": {},
   "outputs": [],
   "source": []
  },
  {
   "cell_type": "code",
   "execution_count": null,
   "metadata": {},
   "outputs": [],
   "source": []
  },
  {
   "cell_type": "code",
   "execution_count": null,
   "metadata": {},
   "outputs": [],
   "source": []
  },
  {
   "cell_type": "code",
   "execution_count": null,
   "metadata": {},
   "outputs": [],
   "source": []
  },
  {
   "cell_type": "code",
   "execution_count": null,
   "metadata": {},
   "outputs": [],
   "source": []
  },
  {
   "cell_type": "code",
   "execution_count": null,
   "metadata": {},
   "outputs": [],
   "source": []
  },
  {
   "cell_type": "code",
   "execution_count": null,
   "metadata": {},
   "outputs": [],
   "source": []
  },
  {
   "cell_type": "code",
   "execution_count": null,
   "metadata": {},
   "outputs": [],
   "source": []
  },
  {
   "cell_type": "code",
   "execution_count": null,
   "metadata": {},
   "outputs": [],
   "source": []
  },
  {
   "cell_type": "code",
   "execution_count": null,
   "metadata": {},
   "outputs": [],
   "source": []
  },
  {
   "cell_type": "code",
   "execution_count": 84,
   "metadata": {},
   "outputs": [],
   "source": []
  },
  {
   "cell_type": "code",
   "execution_count": null,
   "metadata": {},
   "outputs": [],
   "source": []
  },
  {
   "cell_type": "code",
   "execution_count": null,
   "metadata": {},
   "outputs": [],
   "source": []
  },
  {
   "cell_type": "code",
   "execution_count": null,
   "metadata": {},
   "outputs": [],
   "source": []
  },
  {
   "cell_type": "code",
   "execution_count": null,
   "metadata": {},
   "outputs": [],
   "source": []
  },
  {
   "cell_type": "code",
   "execution_count": 86,
   "metadata": {},
   "outputs": [],
   "source": []
  },
  {
   "cell_type": "code",
   "execution_count": null,
   "metadata": {},
   "outputs": [],
   "source": []
  },
  {
   "cell_type": "code",
   "execution_count": null,
   "metadata": {},
   "outputs": [],
   "source": []
  },
  {
   "cell_type": "code",
   "execution_count": null,
   "metadata": {},
   "outputs": [],
   "source": []
  },
  {
   "cell_type": "code",
   "execution_count": null,
   "metadata": {},
   "outputs": [],
   "source": []
  },
  {
   "cell_type": "code",
   "execution_count": null,
   "metadata": {},
   "outputs": [],
   "source": []
  },
  {
   "cell_type": "code",
   "execution_count": null,
   "metadata": {},
   "outputs": [],
   "source": []
  },
  {
   "cell_type": "code",
   "execution_count": null,
   "metadata": {},
   "outputs": [],
   "source": []
  },
  {
   "cell_type": "code",
   "execution_count": 20,
   "metadata": {},
   "outputs": [],
   "source": []
  },
  {
   "cell_type": "code",
   "execution_count": null,
   "metadata": {},
   "outputs": [],
   "source": []
  },
  {
   "cell_type": "code",
   "execution_count": null,
   "metadata": {},
   "outputs": [],
   "source": []
  },
  {
   "cell_type": "code",
   "execution_count": 88,
   "metadata": {},
   "outputs": [],
   "source": []
  },
  {
   "cell_type": "code",
   "execution_count": null,
   "metadata": {},
   "outputs": [],
   "source": []
  },
  {
   "cell_type": "code",
   "execution_count": null,
   "metadata": {},
   "outputs": [],
   "source": []
  },
  {
   "cell_type": "code",
   "execution_count": null,
   "metadata": {},
   "outputs": [],
   "source": []
  },
  {
   "cell_type": "code",
   "execution_count": null,
   "metadata": {},
   "outputs": [],
   "source": []
  },
  {
   "cell_type": "code",
   "execution_count": null,
   "metadata": {},
   "outputs": [],
   "source": [
    "\n"
   ]
  },
  {
   "cell_type": "code",
   "execution_count": null,
   "metadata": {},
   "outputs": [],
   "source": []
  },
  {
   "cell_type": "code",
   "execution_count": null,
   "metadata": {},
   "outputs": [],
   "source": []
  },
  {
   "cell_type": "code",
   "execution_count": 90,
   "metadata": {},
   "outputs": [],
   "source": []
  },
  {
   "cell_type": "code",
   "execution_count": null,
   "metadata": {},
   "outputs": [],
   "source": []
  },
  {
   "cell_type": "code",
   "execution_count": null,
   "metadata": {},
   "outputs": [],
   "source": []
  },
  {
   "cell_type": "code",
   "execution_count": 91,
   "metadata": {},
   "outputs": [],
   "source": []
  },
  {
   "cell_type": "code",
   "execution_count": null,
   "metadata": {},
   "outputs": [],
   "source": []
  },
  {
   "cell_type": "code",
   "execution_count": null,
   "metadata": {},
   "outputs": [],
   "source": []
  },
  {
   "cell_type": "code",
   "execution_count": null,
   "metadata": {},
   "outputs": [],
   "source": []
  },
  {
   "cell_type": "code",
   "execution_count": null,
   "metadata": {},
   "outputs": [],
   "source": []
  },
  {
   "cell_type": "code",
   "execution_count": null,
   "metadata": {},
   "outputs": [],
   "source": []
  },
  {
   "cell_type": "code",
   "execution_count": null,
   "metadata": {},
   "outputs": [],
   "source": []
  },
  {
   "cell_type": "code",
   "execution_count": null,
   "metadata": {},
   "outputs": [],
   "source": []
  },
  {
   "cell_type": "code",
   "execution_count": null,
   "metadata": {},
   "outputs": [],
   "source": []
  },
  {
   "cell_type": "code",
   "execution_count": null,
   "metadata": {},
   "outputs": [],
   "source": []
  },
  {
   "cell_type": "code",
   "execution_count": null,
   "metadata": {},
   "outputs": [],
   "source": []
  },
  {
   "cell_type": "code",
   "execution_count": null,
   "metadata": {},
   "outputs": [],
   "source": []
  },
  {
   "cell_type": "code",
   "execution_count": null,
   "metadata": {},
   "outputs": [],
   "source": []
  },
  {
   "cell_type": "code",
   "execution_count": null,
   "metadata": {},
   "outputs": [],
   "source": []
  },
  {
   "cell_type": "code",
   "execution_count": null,
   "metadata": {},
   "outputs": [],
   "source": [
    "\n",
    "  "
   ]
  },
  {
   "cell_type": "code",
   "execution_count": null,
   "metadata": {},
   "outputs": [],
   "source": []
  },
  {
   "cell_type": "code",
   "execution_count": null,
   "metadata": {},
   "outputs": [],
   "source": []
  },
  {
   "cell_type": "code",
   "execution_count": null,
   "metadata": {},
   "outputs": [],
   "source": []
  },
  {
   "cell_type": "code",
   "execution_count": null,
   "metadata": {},
   "outputs": [],
   "source": []
  },
  {
   "cell_type": "code",
   "execution_count": null,
   "metadata": {},
   "outputs": [],
   "source": []
  },
  {
   "cell_type": "code",
   "execution_count": null,
   "metadata": {},
   "outputs": [],
   "source": []
  },
  {
   "cell_type": "code",
   "execution_count": null,
   "metadata": {},
   "outputs": [],
   "source": []
  },
  {
   "cell_type": "code",
   "execution_count": null,
   "metadata": {},
   "outputs": [],
   "source": []
  },
  {
   "cell_type": "code",
   "execution_count": null,
   "metadata": {},
   "outputs": [],
   "source": []
  },
  {
   "cell_type": "code",
   "execution_count": null,
   "metadata": {},
   "outputs": [],
   "source": []
  },
  {
   "cell_type": "code",
   "execution_count": null,
   "metadata": {},
   "outputs": [],
   "source": []
  },
  {
   "cell_type": "code",
   "execution_count": null,
   "metadata": {},
   "outputs": [],
   "source": []
  }
 ],
 "metadata": {
  "kernelspec": {
   "display_name": "Python 3",
   "language": "python",
   "name": "python3"
  },
  "language_info": {
   "codemirror_mode": {
    "name": "ipython",
    "version": 3
   },
   "file_extension": ".py",
   "mimetype": "text/x-python",
   "name": "python",
   "nbconvert_exporter": "python",
   "pygments_lexer": "ipython3",
   "version": "3.7.4"
  }
 },
 "nbformat": 4,
 "nbformat_minor": 2
}
